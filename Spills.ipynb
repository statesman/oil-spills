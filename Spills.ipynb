{
 "cells": [
  {
   "cell_type": "markdown",
   "metadata": {},
   "source": [
    "# Oil spill data\n",
    "\n",
    "Downloaded from the [Railroad commission](http://www.rrc.state.tx.us/oil-gas/compliance-enforcement/h-8).\n",
    "\n",
    "The H-8 Loss Reports for crude oil, gas well liquids or associated products are available for download as an Excel compressed zip file by year. If you have questions or need assistance, contact Field Operations at 512-463-6830 or OGFOPS@rrc.texas.gov.\n",
    "\n",
    "\n",
    "Looking at these files to compare the Magellan Midstream Partners spill of July 13 in Bastrop County. It's been reported to be 87,528 gallons or is 2,084 barrel. RRC tells Andy Sevilla the data uses barrels.\n",
    "\n",
    "#### Our coverage\n",
    "- http://www.statesman.com/news/local/new-data-shows-bastrop-county-oil-spill-leaked-000-gallons/Y8YK4xM4uPE37actcJi1HP/\n",
    "- http://www.statesman.com/news/local/rolled-over-wheeler-spills-oil-onto-bastrop-roadway/PMhcfaqCXQ9U4V6FCX36WL/\n",
    "- http://www.mystatesman.com/news/opinion/commentary-what-the-bastrop-oil-spill-says-about-effective-regulation/8wkZRUj2ts2mXR8BZhDkQM/\n"
   ]
  },
  {
   "cell_type": "markdown",
   "metadata": {},
   "source": [
    "## Data prep\n",
    "\n",
    "Doing the import, setting data types, column names and stacking."
   ]
  },
  {
   "cell_type": "code",
   "execution_count": 1,
   "metadata": {
    "collapsed": false
   },
   "outputs": [],
   "source": [
    "import agate\n",
    "import agateexcel\n",
    "import re\n",
    "import warnings\n",
    "warnings.filterwarnings('ignore')"
   ]
  },
  {
   "cell_type": "code",
   "execution_count": 2,
   "metadata": {
    "collapsed": true
   },
   "outputs": [],
   "source": [
    "#bastrop data\n",
    "bastrop_barrels = 2084\n",
    "bastrop_gallons = '87528'"
   ]
  },
  {
   "cell_type": "code",
   "execution_count": 3,
   "metadata": {
    "collapsed": false
   },
   "outputs": [],
   "source": [
    "# sets column types where needed\n",
    "specified_type = {\n",
    "    'MasterYear': agate.Text(),\n",
    "    'Water': agate.Text(),\n",
    "    'WaterName': agate.Text()\n",
    "}\n",
    "# importing each file as a table\n",
    "# should be refactored as a loop\n",
    "h82009 = agate.Table.from_xlsx('raw-data/h8s-2009.xlsx', column_types=specified_type)\n",
    "h82010 = agate.Table.from_xlsx('raw-data/h8s-2010.xlsx', column_types=specified_type)\n",
    "h82011 = agate.Table.from_xlsx('raw-data/h8s-2011.xlsx', column_types=specified_type)\n",
    "h82012 = agate.Table.from_xlsx('raw-data/h8s-2012.xlsx', column_types=specified_type)\n",
    "h82013 = agate.Table.from_xlsx('raw-data/h8s-2013.xlsx', column_types=specified_type)\n",
    "h82014 = agate.Table.from_xlsx('raw-data/h8s-2014.xlsx', column_types=specified_type)\n",
    "h82015 = agate.Table.from_xlsx('raw-data/h8s-2015.xlsx', column_types=specified_type)\n",
    "h82016 = agate.Table.from_xlsx('raw-data/h8s-2016.xlsx', column_types=specified_type)\n",
    "h82017 = agate.Table.from_xlsx('raw-data/h8s-2017.xlsx', column_types=specified_type)"
   ]
  },
  {
   "cell_type": "code",
   "execution_count": 4,
   "metadata": {
    "collapsed": true
   },
   "outputs": [],
   "source": [
    "# renaming columns in some files for consistency.\n",
    "# this could/should be refacted as a loop\n",
    "\n",
    "column_names = {\n",
    "    'Form Number': 'FormNumber',\n",
    "    'Lease No': 'LeaseNumber',\n",
    "    'Gas ID': 'Gasident'\n",
    "}\n",
    "h82009r = h82009.rename(column_names)\n",
    "h82010r = h82010.rename(column_names)\n",
    "h82011r = h82011.rename(column_names)\n",
    "h82012r = h82012.rename(column_names)\n",
    "h82013r = h82013.rename(column_names)\n",
    "h82014r = h82014.rename(column_names)\n",
    "h82015r = h82015.rename(column_names)\n",
    "h82016r = h82016.rename(column_names)\n",
    "h82017r = h82017.rename(column_names)\n",
    "\n",
    "# combining into a single table\n",
    "spills = agate.Table.merge([\n",
    "        h82009r,\n",
    "        h82010r,\n",
    "        h82011r,\n",
    "        h82012r,\n",
    "        h82013r,\n",
    "        h82014r,\n",
    "        h82015r,\n",
    "        h82016r,\n",
    "        h82017r\n",
    "    ])\n",
    "# add GrossLossGal column converts barrels to gallons\n",
    "spills = spills.compute([\n",
    "    ('GrossLossGal', agate.Formula(agate.Number(), lambda r: r['GrossLoss'] * 42))\n",
    "])"
   ]
  },
  {
   "cell_type": "code",
   "execution_count": 5,
   "metadata": {
    "collapsed": true
   },
   "outputs": [],
   "source": [
    "# send to csv to use elsewhere\n",
    "spills.to_csv('exports/spills.csv')"
   ]
  },
  {
   "cell_type": "code",
   "execution_count": 6,
   "metadata": {
    "collapsed": false
   },
   "outputs": [
    {
     "name": "stdout",
     "output_type": "stream",
     "text": [
      "| column           | data_type |\n",
      "| ---------------- | --------- |\n",
      "| MasterYear       | Text      |\n",
      "| FormNumber       | Number    |\n",
      "| District         | Text      |\n",
      "| OperatorNumber   | Text      |\n",
      "| DateofLoss       | Date      |\n",
      "| Type_Company_Cd  | Text      |\n",
      "| County           | Text      |\n",
      "| LeaseNumber      | Number    |\n",
      "| Gasident         | Number    |\n",
      "| CommNbr          | Number    |\n",
      "| TypeLiquid       | Text      |\n",
      "| GrossLoss        | Number    |\n",
      "| Recovered        | Number    |\n",
      "| NetLoss          | Number    |\n",
      "| Facility         | Text      |\n",
      "| CauseofLoss      | Text      |\n",
      "| Remedy           | Text      |\n",
      "| Corrected_Report | Boolean   |\n",
      "| Water            | Text      |\n",
      "| WaterName        | Text      |\n",
      "| Location         | Text      |\n",
      "| Remarks          | Text      |\n",
      "| LeaseName        | Text      |\n",
      "| FieldNumber      | Text      |\n",
      "| Into_Water       | Boolean   |\n",
      "| Unique_ID        | Number    |\n",
      "| GrossLossGal     | Number    |\n",
      "\n"
     ]
    }
   ],
   "source": [
    "# look at column names\n",
    "print(spills)"
   ]
  },
  {
   "cell_type": "markdown",
   "metadata": {},
   "source": [
    "## Overall spills by GrossLoss\n",
    "These are the top spills by the most lost."
   ]
  },
  {
   "cell_type": "code",
   "execution_count": 7,
   "metadata": {
    "collapsed": false
   },
   "outputs": [
    {
     "name": "stdout",
     "output_type": "stream",
     "text": [
      "Total number of records:\n",
      "8903\n"
     ]
    }
   ],
   "source": [
    "# checking number of records for spills\n",
    "print('Total number of records:\\n{}'.format(\n",
    "    spills.aggregate(agate.Count())\n",
    "))\n"
   ]
  },
  {
   "cell_type": "code",
   "execution_count": 8,
   "metadata": {
    "collapsed": false
   },
   "outputs": [
    {
     "name": "stdout",
     "output_type": "stream",
     "text": [
      "| DateofLoss | County       | GrossLoss |\n",
      "| ---------- | ------------ | --------- |\n",
      "| 2012-10-01 | HARRISON     |    31,000 |\n",
      "| 2010-02-09 | SAN PATRICIO |    25,000 |\n",
      "| 2010-08-08 | BRAZOS       |    15,000 |\n",
      "| 2010-10-11 | HOCKLEY      |    10,000 |\n",
      "| 2016-09-10 | NOLAN        |     8,600 |\n",
      "| 2011-01-27 | GRIMES       |     6,911 |\n",
      "| 2014-09-15 | HOUSTON      |     5,700 |\n",
      "| 2013-12-17 | ECTOR        |     5,000 |\n",
      "| 2017-01-30 | COLLIN       |     5,000 |\n",
      "| 2015-05-20 | STEPHENS     |     3,900 |\n",
      "| 2013-05-20 | STARR        |     3,500 |\n",
      "| 2009-06-17 | SCURRY       |     3,416 |\n",
      "| 2015-06-20 | FREESTONE    |     3,300 |\n",
      "| 2015-04-07 | TERRY        |     3,300 |\n",
      "| 2016-04-06 | LOVING       |     3,200 |\n",
      "| 2012-06-28 | DIMMIT       |     3,000 |\n",
      "| 2011-04-01 | HOWARD       |     2,583 |\n",
      "| 2012-01-30 | GAINES       |     2,572 |\n",
      "| 2015-05-11 | STEPHENS     |     2,500 |\n",
      "| 2009-01-29 | NUECES       |     2,400 |\n"
     ]
    }
   ],
   "source": [
    "# orders the spills table\n",
    "spills_ordered = spills.order_by(lambda row: row['GrossLoss'], reverse=True)\n",
    "# prints just to show the top in the list\n",
    "spills_ordered.select(['DateofLoss', 'County', 'GrossLoss']).limit(20).print_table()"
   ]
  },
  {
   "cell_type": "code",
   "execution_count": 9,
   "metadata": {
    "collapsed": false
   },
   "outputs": [
    {
     "name": "stdout",
     "output_type": "stream",
     "text": [
      "Looking at all spills by GrossLoss, the Bastrop spill ranks 24 in list of worst spills.\n"
     ]
    }
   ],
   "source": [
    "## would like to count number of spills greater than 2,084 gallons.\n",
    "spills_bigger = spills_ordered.where(lambda row: row['GrossLoss'] > bastrop_barrels)\n",
    "\n",
    "print('Looking at all spills by GrossLoss, the Bastrop spill ranks {} in list of worst spills.'.format(\n",
    "        spills_bigger.aggregate(agate.Count()) + 1\n",
    "    ))"
   ]
  },
  {
   "cell_type": "markdown",
   "metadata": {},
   "source": [
    "## Overall spills by NetLoss\n",
    "Reordering all spills by NetLoss to account for barrels recovered. I'm not sure if there was oil recovered from the Bastrop spill, though.\n"
   ]
  },
  {
   "cell_type": "code",
   "execution_count": 10,
   "metadata": {
    "collapsed": false
   },
   "outputs": [
    {
     "name": "stdout",
     "output_type": "stream",
     "text": [
      "| DateofLoss | County    | NetLoss |\n",
      "| ---------- | --------- | ------- |\n",
      "| 2012-10-01 | HARRISON  |  31,000 |\n",
      "| 2016-09-10 | NOLAN     |   6,725 |\n",
      "| 2014-09-15 | HOUSTON   |   5,698 |\n",
      "| 2013-12-17 | ECTOR     |   5,000 |\n",
      "| 2013-05-20 | STARR     |   3,500 |\n",
      "| 2011-01-27 | GRIMES    |   3,304 |\n",
      "| 2012-06-28 | DIMMIT    |   3,000 |\n",
      "| 2011-04-01 | HOWARD    |   2,583 |\n",
      "| 2015-06-15 | KENT      |   2,063 |\n",
      "| 2013-10-28 | REAGAN    |   2,000 |\n",
      "| 2009-06-17 | SCURRY    |   1,835 |\n",
      "| 2014-09-27 | CULBERSON |   1,700 |\n",
      "| 2010-08-09 | REAGAN    |   1,600 |\n",
      "| 2012-01-30 | GAINES    |   1,472 |\n",
      "| 2015-02-01 | FORT BEND |   1,452 |\n",
      "| 2013-12-14 | ECTOR     |   1,430 |\n",
      "| 2013-06-30 | UPTON     |   1,352 |\n",
      "| 2015-11-23 | ATASCOSA  |   1,213 |\n",
      "| 2015-01-07 | WEBB      |   1,130 |\n",
      "| 2014-11-04 | KLEBERG   |   1,100 |\n",
      "|        ... | ...       |     ... |\n"
     ]
    }
   ],
   "source": [
    "spills_netloss = spills.order_by(lambda row: row['NetLoss'], reverse=True)\n",
    "spills_netloss.select(['DateofLoss', 'County', 'NetLoss']).print_table()"
   ]
  },
  {
   "cell_type": "markdown",
   "metadata": {},
   "source": [
    "## Spills by 'Facility'"
   ]
  },
  {
   "cell_type": "code",
   "execution_count": 11,
   "metadata": {
    "collapsed": false
   },
   "outputs": [
    {
     "name": "stdout",
     "output_type": "stream",
     "text": [
      "| Facility             | spill_cnt | spill_sum | spill_sum_gal | spill_avg | spill_med |\n",
      "| -------------------- | --------- | --------- | ------------- | --------- | --------- |\n",
      "| Tank Battery         |     6,275 |   571,558 |    24,005,436 |   91.085… |      33.0 |\n",
      "| Flow Line            |       919 |    62,397 |     2,620,674 |   67.897… |      15.0 |\n",
      "| Other                |       362 |    29,764 |     1,250,088 |   82.221… |      30.0 |\n",
      "| Valve                |       354 |    20,163 |       846,846 |   56.958… |      15.0 |\n",
      "| Pipe Line            |       673 |    96,116 |     4,036,872 |  142.817… |      20.0 |\n",
      "| Pump Station or T... |        87 |    10,729 |       450,618 |  123.322… |      25.0 |\n",
      "| Stuffing Box         |       104 |     2,901 |       121,842 |   27.894… |      13.5 |\n",
      "| Separator-Gun Bar... |       108 |     6,595 |       276,990 |   61.065… |      21.0 |\n",
      "| Vehicle (Truck-Ba... |        21 |     1,105 |        46,410 |   52.619… |      20.0 |\n"
     ]
    }
   ],
   "source": [
    "spills_group_facility = spills.group_by('Facility')\n",
    "spills_facility_table = spills_group_facility.aggregate([\n",
    "        ('spill_cnt', agate.Count()),\n",
    "        ('spill_sum', agate.Sum('GrossLoss')),\n",
    "        ('spill_sum_gal', agate.Sum('GrossLossGal')),\n",
    "        ('spill_avg', agate.Mean('GrossLoss')),\n",
    "        ('spill_med', agate.Median('GrossLoss'))\n",
    "    ]\n",
    ")\n",
    "spills_facility_table.print_table()"
   ]
  },
  {
   "cell_type": "markdown",
   "metadata": {},
   "source": [
    "## Pipeline spills"
   ]
  },
  {
   "cell_type": "code",
   "execution_count": 12,
   "metadata": {
    "collapsed": false
   },
   "outputs": [
    {
     "name": "stdout",
     "output_type": "stream",
     "text": [
      "Number in spills_pipline:\n",
      "673\n"
     ]
    }
   ],
   "source": [
    "# filter to pipeline spills\n",
    "spills_pipelines = spills_ordered.where(lambda row: row['Facility'] == 'Pipe Line')\n",
    "\n",
    "pipeline_spill_count = spills_pipelines.aggregate(agate.Count())\n",
    "\n",
    "# count result\n",
    "print('Number in spills_pipline:\\n{}'.format(\n",
    "  pipeline_spill_count\n",
    "    ))\n",
    "\n"
   ]
  },
  {
   "cell_type": "markdown",
   "metadata": {},
   "source": [
    "### Pipeline spills over time"
   ]
  },
  {
   "cell_type": "code",
   "execution_count": 96,
   "metadata": {
    "collapsed": false
   },
   "outputs": [
    {
     "name": "stdout",
     "output_type": "stream",
     "text": [
      "| MasterYear | spill_cnt | spill_sum | spill_sum_gal |  spill_avg | spill_med |\n",
      "| ---------- | --------- | --------- | ------------- | ---------- | --------- |\n",
      "| 2009       |        66 |     6,036 |       253,512 |    91.455… |        15 |\n",
      "| 2010       |        77 |    21,362 |       897,204 |   277.429… |        23 |\n",
      "| 2011       |        70 |    13,823 |       580,566 |   197.471… |        20 |\n",
      "| 2012       |       109 |    11,137 |       467,754 |   102.174… |        24 |\n",
      "| 2013       |       107 |    11,674 |       490,308 |   109.103… |        28 |\n",
      "| 2014       |       114 |     7,982 |       335,244 |    70.018… |        20 |\n",
      "| 2015       |        80 |     7,106 |       298,452 |    88.825… |        17 |\n",
      "| 2016       |        46 |    11,964 |       502,488 |   260.087… |        25 |\n",
      "| 2017       |         4 |     5,032 |       211,344 | 1,258.000… |        14 |\n"
     ]
    }
   ],
   "source": [
    "spills_pipeline_group_year = spills_pipelines.group_by('MasterYear')\n",
    "spills_pipeline_year_table = spills_pipeline_group_year.aggregate([\n",
    "        ('spill_cnt', agate.Count()),\n",
    "        ('spill_sum', agate.Sum('GrossLoss')),\n",
    "        ('spill_sum_gal', agate.Sum('GrossLossGal')),\n",
    "        ('spill_avg', agate.Mean('GrossLoss')),\n",
    "        ('spill_med', agate.Median('GrossLoss'))\n",
    "    ]\n",
    ")\n",
    "# send to file for later\n",
    "spills_pipeline_year_table.order_by('MasterYear').to_csv('exports/spills_pipeline_year_table.csv')\n",
    "# print table\n",
    "spills_pipeline_year_table.order_by('MasterYear').print_table()"
   ]
  },
  {
   "cell_type": "markdown",
   "metadata": {},
   "source": [
    "### Pipeline spills by year"
   ]
  },
  {
   "cell_type": "code",
   "execution_count": 14,
   "metadata": {
    "collapsed": false
   },
   "outputs": [
    {
     "name": "stdout",
     "output_type": "stream",
     "text": [
      "MasterYear spill_cnt\n",
      "2009              66 ▓░░░░░░░░░░░░░                         \n",
      "2010              77 ▓░░░░░░░░░░░░░░░                       \n",
      "2011              70 ▓░░░░░░░░░░░░░                         \n",
      "2012             109 ▓░░░░░░░░░░░░░░░░░░░░░                 \n",
      "2013             107 ▓░░░░░░░░░░░░░░░░░░░░                  \n",
      "2014             114 ▓░░░░░░░░░░░░░░░░░░░░░░                \n",
      "2015              80 ▓░░░░░░░░░░░░░░░                       \n",
      "2016              46 ▓░░░░░░░░░                             \n",
      "2017               4 ▓░                                     \n",
      "                     +---------+--------+--------+---------+\n",
      "                     0        50       100      150      200\n"
     ]
    }
   ],
   "source": [
    "spills_pipeline_year_table.order_by('MasterYear').print_bars('MasterYear', 'spill_cnt', width=60)"
   ]
  },
  {
   "cell_type": "markdown",
   "metadata": {},
   "source": [
    "### Pipeline barrels spills by year"
   ]
  },
  {
   "cell_type": "code",
   "execution_count": 37,
   "metadata": {
    "collapsed": false
   },
   "outputs": [
    {
     "name": "stdout",
     "output_type": "stream",
     "text": [
      "Barrels spilled from pipelines per year:\n",
      "\n",
      "MasterYear spill_sum\n",
      "2009           6,036 ▓░░░░░░░░                              \n",
      "2010          21,362 ▓░░░░░░░░░░░░░░░░░░░░░░░░░░░           \n",
      "2011          13,823 ▓░░░░░░░░░░░░░░░░░░                    \n",
      "2012          11,137 ▓░░░░░░░░░░░░░░                        \n",
      "2013          11,674 ▓░░░░░░░░░░░░░░░                       \n",
      "2014           7,982 ▓░░░░░░░░░░                            \n",
      "2015           7,106 ▓░░░░░░░░░                             \n",
      "2016          11,964 ▓░░░░░░░░░░░░░░░                       \n",
      "2017           5,032 ▓░░░░░░                                \n",
      "                     +---------+--------+--------+---------+\n",
      "                     0       7,500   15,000   22,500  30,000\n"
     ]
    }
   ],
   "source": [
    "print('Barrels spilled from pipelines per year:\\n')\n",
    "spills_pipeline_year_table.order_by('MasterYear').print_bars('MasterYear', 'spill_sum', width=60)"
   ]
  },
  {
   "cell_type": "code",
   "execution_count": 36,
   "metadata": {
    "collapsed": false
   },
   "outputs": [
    {
     "name": "stdout",
     "output_type": "stream",
     "text": [
      "Gallons spilled from pipelines per year:\n",
      "\n",
      "MasterYear spill_sum_gal\n",
      "2009             253,512 ▓░░░░░░░░░░                        \n",
      "2010             897,204 ▓░░░░░░░░░░░░░░░░░░░░░░░░░░░░░░░░░░\n",
      "2011             580,566 ▓░░░░░░░░░░░░░░░░░░░░░░            \n",
      "2012             467,754 ▓░░░░░░░░░░░░░░░░░░                \n",
      "2013             490,308 ▓░░░░░░░░░░░░░░░░░░░               \n",
      "2014             335,244 ▓░░░░░░░░░░░░░                     \n",
      "2015             298,452 ▓░░░░░░░░░░░                       \n",
      "2016             502,488 ▓░░░░░░░░░░░░░░░░░░░               \n",
      "2017             211,344 ▓░░░░░░░░                          \n",
      "                         +-------+--------+----------------+\n",
      "                         0    225,000  450,000       900,000\n"
     ]
    }
   ],
   "source": [
    "print('Gallons spilled from pipelines per year:\\n')\n",
    "spills_pipeline_year_table.order_by('MasterYear').print_bars('MasterYear', 'spill_sum_gal', width=60)\n"
   ]
  },
  {
   "cell_type": "markdown",
   "metadata": {},
   "source": [
    "### Top pipeline spills"
   ]
  },
  {
   "cell_type": "code",
   "execution_count": 16,
   "metadata": {
    "collapsed": false
   },
   "outputs": [
    {
     "name": "stdout",
     "output_type": "stream",
     "text": [
      "Top pipeline spills in gross loss barrels:\n",
      "\n",
      "| DateofLoss | County    | GrossLoss |\n",
      "| ---------- | --------- | --------- |\n",
      "| 2010-08-08 | BRAZOS    |    15,000 |\n",
      "| 2016-09-10 | NOLAN     |     8,600 |\n",
      "| 2011-01-27 | GRIMES    |     6,911 |\n",
      "| 2017-01-30 | COLLIN    |     5,000 |\n",
      "| 2012-01-30 | GAINES    |     2,572 |\n",
      "| 2011-11-15 | GALVESTON |     2,290 |\n",
      "| 2015-11-23 | ATASCOSA  |     2,000 |\n",
      "| 2009-07-23 | MIDLAND   |     1,912 |\n",
      "| 2010-08-09 | REAGAN    |     1,600 |\n",
      "| 2014-09-30 | JACK      |     1,034 |\n",
      "\n",
      "Looking at all PIPELINE spills by GrossLoss, the Bastropspill ranks 7 out of 673 in list of worst spills.\n"
     ]
    }
   ],
   "source": [
    "print('Top pipeline spills in gross loss barrels:\\n')\n",
    "\n",
    "# selecting and printing top records\n",
    "spills_pipelines.limit(10).select(['DateofLoss', 'County', 'GrossLoss']).print_table()\n",
    "\n",
    "## would like to count number of spills greater than 2,084 gallons.\n",
    "pipeline_spills_bigger = spills_pipelines.where(lambda row: row['GrossLoss'] > bastrop_barrels)\n",
    "\n",
    "print('\\nLooking at all PIPELINE spills by GrossLoss, the Bastrop\\\n",
    "spill ranks {} out of {} in list of worst spills.'.format(\n",
    "        pipeline_spills_bigger.aggregate(agate.Count()) + 1,\n",
    "        pipeline_spill_count\n",
    "    ))"
   ]
  },
  {
   "cell_type": "markdown",
   "metadata": {},
   "source": [
    "### Pipelines severity of spills"
   ]
  },
  {
   "cell_type": "code",
   "execution_count": 93,
   "metadata": {
    "collapsed": false
   },
   "outputs": [
    {
     "name": "stdout",
     "output_type": "stream",
     "text": [
      "GrossLossGal      Count\n",
      "[0 - 1,000)         357 ▓░░░░░░░░░░░░░░░░░░░░░░░░░░░░░░░    \n",
      "[1,000 - 2,000)     106 ▓░░░░░░░░░                          \n",
      "[2,000 - 3,000)      56 ▓░░░░░                              \n",
      "[3,000 - 4,000)      28 ▓░░                                 \n",
      "[4,000 - 5,000)      17 ▓░                                  \n",
      "[5,000 - 6,000)      14 ▓░                                  \n",
      "[6,000 - 7,000)      17 ▓░                                  \n",
      "[7,000 - 8,000)       3 ▓                                   \n",
      "[8,000 - 9,000)       8 ▓░                                  \n",
      "[9,000 - 700,000]    67 ▓░░░░░░                             \n",
      "                        +--------+--------+-------+--------+\n",
      "                        0       100      200     300     400\n"
     ]
    }
   ],
   "source": [
    "# histogram bin by GrossLoss\n",
    "spills_pipeline_bins = spills_pipelines.bins('GrossLossGal', 10, 0, 10000)\n",
    "spills_pipeline_bins.print_bars('GrossLossGal', 'Count', width=60)\n",
    "# export bins for graphic\n",
    "spills_pipeline_bins.to_csv('exports/spills_pipeline_bins.csv')"
   ]
  },
  {
   "cell_type": "markdown",
   "metadata": {},
   "source": [
    "## Looking by county\n",
    "### Bastrop spills"
   ]
  },
  {
   "cell_type": "code",
   "execution_count": 18,
   "metadata": {
    "collapsed": false
   },
   "outputs": [
    {
     "name": "stdout",
     "output_type": "stream",
     "text": [
      "| County  | DateofLoss | OperatorNumber         | Facility     | GrossLoss | Unique_ID |\n",
      "| ------- | ---------- | ---------------------- | ------------ | --------- | --------- |\n",
      "| BASTROP | 2012-10-17 | CHALKER OPERATING INC. | Tank Battery |        40 |    60,943 |\n",
      "| BASTROP | 2012-09-02 | PLAINS PIPELINE L.P.   | Pipe Line    |         8 |    60,944 |\n"
     ]
    }
   ],
   "source": [
    "# list of columns to print when looking at county results.\n",
    "county_columns = [\n",
    "    'County',\n",
    "    'DateofLoss',\n",
    "    'OperatorNumber',\n",
    "    'Facility',\n",
    "    'GrossLoss',\n",
    "    'Unique_ID'\n",
    "]\n",
    "\n",
    "bastrop = spills_ordered.where(lambda row: row['County'] == 'BASTROP')\n",
    "\n",
    "bastrop.select(county_columns).print_table(max_column_width=None)"
   ]
  },
  {
   "cell_type": "markdown",
   "metadata": {},
   "source": [
    "### Travis spills"
   ]
  },
  {
   "cell_type": "code",
   "execution_count": 19,
   "metadata": {
    "collapsed": false
   },
   "outputs": [
    {
     "name": "stdout",
     "output_type": "stream",
     "text": [
      "| County | DateofLoss | OperatorNumber | Facility | GrossLoss | Unique_ID |\n",
      "| ------ | ---------- | -------------- | -------- | --------- | --------- |\n"
     ]
    }
   ],
   "source": [
    "travis = spills_ordered.where(lambda row: row['County'] == 'TRAVIS')\n",
    "\n",
    "travis.select(county_columns).print_table(max_column_width=None)"
   ]
  },
  {
   "cell_type": "markdown",
   "metadata": {},
   "source": [
    "### Galveston spills"
   ]
  },
  {
   "cell_type": "code",
   "execution_count": 20,
   "metadata": {
    "collapsed": false
   },
   "outputs": [
    {
     "name": "stdout",
     "output_type": "stream",
     "text": [
      "| County    | DateofLoss | OperatorNumber                   | Facility     | GrossLoss | Unique_ID |\n",
      "| --------- | ---------- | -------------------------------- | ------------ | --------- | --------- |\n",
      "| GALVESTON | 2009-05-21 | HITCHCOCK SWD CORPORATION        | Other        |        10 |   117,708 |\n",
      "| GALVESTON | 2009-07-23 | ERG RESOURCES, L.L.C.            | Tank Battery |       600 |   117,813 |\n",
      "| GALVESTON | 2010-12-17 | SANDRIDGE ONSHORE, LLC           | Pipe Line    |         1 |   118,760 |\n",
      "| GALVESTON | 2010-12-26 | HAWK FIELD SERVICES, LLC         | Pipe Line    |         6 |   118,761 |\n",
      "| GALVESTON | 2011-10-27 | ENTERPRISE CRUDE PIPELINE LLC    | Tank Battery |         6 |   119,631 |\n",
      "| GALVESTON | 2011-10-30 | MARATHON PETROLEUM COMPANY       | Pipe Line    |        50 |   119,819 |\n",
      "| GALVESTON | 2011-11-15 | ENTERPRISE CRUDE PIPELINE LLC    | Pipe Line    |     2,290 |   119,818 |\n",
      "| GALVESTON | 2012-03-21 | DUNE OPERATING COMPANY           | Tank Battery |     2,300 |    59,973 |\n",
      "| GALVESTON | 2012-09-19 | ENTERPRISE CRUDE PIPELINE LLC    | Pipe Line    |        41 |    60,365 |\n",
      "| GALVESTON | 2013-01-15 | GENESIS PIPELINE TEXAS, L.P.     | Pipe Line    |         1 |    61,435 |\n",
      "| GALVESTON | 2013-11-14 | HILCORP ENERGY COMPANY           | Tank Battery |        20 |    61,859 |\n",
      "| GALVESTON | 2015-04-14 | SIDELINE OIL & GAS, L.P.         | Tank Battery |       283 |    64,324 |\n",
      "| GALVESTON | 2015-05-12 | XTO ENERGY INC.                  | Tank Battery |         5 |    64,122 |\n",
      "| GALVESTON | 2016-02-26 | JK EXPLORATION & PRODUCTION,INC. | Tank Battery |         9 |           |\n"
     ]
    }
   ],
   "source": [
    "galveston = spills_ordered.where(lambda row: row['County'] == 'GALVESTON')\n",
    "\n",
    "galveston.select(county_columns).order_by('DateofLoss').print_table(max_column_width=None)"
   ]
  },
  {
   "cell_type": "markdown",
   "metadata": {},
   "source": [
    "### Harris spills"
   ]
  },
  {
   "cell_type": "code",
   "execution_count": 71,
   "metadata": {
    "collapsed": false
   },
   "outputs": [
    {
     "name": "stdout",
     "output_type": "stream",
     "text": [
      "| County | DateofLoss | OperatorNumber                   | Facility     | GrossLoss | Unique_ID |\n",
      "| ------ | ---------- | -------------------------------- | ------------ | --------- | --------- |\n",
      "| HARRIS | 2009-02-27 | CLAY, JERRY H.                   | Pipe Line    |        14 |   117,621 |\n",
      "| HARRIS | 2009-04-10 | BOMCO USA, INC.                  | Tank Battery |       100 |   117,803 |\n",
      "| HARRIS | 2010-01-02 | GAITHER PETROLEUM CORPORATION    | Tank Battery |        25 |   118,245 |\n",
      "| HARRIS | 2010-05-17 | ETOCO, L.P.                      | Tank Battery |        30 |   118,517 |\n",
      "| HARRIS | 2010-06-14 | PLAINS MARKETING, L.P.           | Tank Battery |       100 |   118,512 |\n",
      "| HARRIS | 2012-01-05 | HOLLIMON OIL CORPORATION         | Tank Battery |        36 |    59,782 |\n",
      "| HARRIS | 2012-04-03 | NOXXE OIL AND GAS, LLC           | Tank Battery |        12 |    60,013 |\n",
      "| HARRIS | 2012-04-13 | TANDEM ENERGY CORPORATION        | Pipe Line    |         1 |    60,016 |\n",
      "| HARRIS | 2012-09-22 | OSBORN,W.B. OIL & GAS OPERATIONS | Tank Battery |        45 |    60,453 |\n",
      "| HARRIS | 2013-02-20 | MORGAN ENTERPRISES, INC.         | Tank Battery |         7 |    61,196 |\n",
      "| HARRIS | 2013-03-09 | ENTERPRISE PRODUCTS OPERATINGLLC | Flow Line    |        75 |    61,528 |\n",
      "| HARRIS | 2013-03-29 | SHELL PIPELINE COMPANY LP        | Pipe Line    |       940 |    61,442 |\n",
      "| HARRIS | 2013-04-06 | SEAWAY CRUDE PIPELINE CO LLC     | Pipe Line    |        52 |    61,447 |\n",
      "| HARRIS | 2013-04-14 | OILTANKING HOUSTON, L.P.         | Tank Battery |        50 |    61,315 |\n",
      "| HARRIS | 2013-04-27 | FORT WORTH NATURAL GAS, INC.     | Tank Battery |       127 |    61,445 |\n",
      "| HARRIS | 2013-04-27 | FORT WORTH NATURAL GAS, INC.     | Tank Battery |       106 |    61,446 |\n",
      "| HARRIS | 2013-04-27 | FORT WORTH NATURAL GAS, INC.     | Tank Battery |        82 |    61,448 |\n",
      "| HARRIS | 2013-06-28 | DENBURY ONSHORE, LLC             | Tank Battery |       970 |    61,527 |\n",
      "| HARRIS | 2013-07-07 | DENBURY ONSHORE, LLC             | Tank Battery |       200 |    61,526 |\n",
      "| HARRIS | 2013-07-17 | DENBURY ONSHORE, LLC             | Tank Battery |       150 |    61,525 |\n",
      "| ...    |        ... | ...                              | ...          |       ... |       ... |\n"
     ]
    }
   ],
   "source": [
    "harris = spills_ordered.where(lambda row: row['County'] == 'HARRIS')\n",
    "harris.select(county_columns).order_by('DateofLoss').print_table(max_column_width=None)"
   ]
  },
  {
   "cell_type": "markdown",
   "metadata": {},
   "source": [
    "### Feb 2011 spills"
   ]
  },
  {
   "cell_type": "code",
   "execution_count": 78,
   "metadata": {
    "collapsed": false
   },
   "outputs": [],
   "source": [
    "# spills_2011 = spills.where(lambda row: row['DateofLoss'].year == 2011)\n",
    "# spills_2011_02 = spills_2011.where(lambda row: row['DateofLoss'].month == 2)\n",
    "# spills_2011_02.order_by('DateofLoss').select(county_columns).print_table(max_rows=None)"
   ]
  },
  {
   "cell_type": "markdown",
   "metadata": {},
   "source": [
    "## Spills per year"
   ]
  },
  {
   "cell_type": "code",
   "execution_count": 94,
   "metadata": {
    "collapsed": false
   },
   "outputs": [
    {
     "name": "stdout",
     "output_type": "stream",
     "text": [
      "| MasterYear | spill_cnt | spill_sum | spill_avg | spill_med | spill_sum_gal |\n",
      "| ---------- | --------- | --------- | --------- | --------- | ------------- |\n",
      "| 2009       |       675 |    55,996 |   82.957… |        30 |     2,351,832 |\n",
      "| 2010       |       796 |   109,203 |  137.190… |        32 |     4,586,526 |\n",
      "| 2011       |       869 |    74,933 |   86.229… |        32 |     3,147,186 |\n",
      "| 2012       |     1,236 |   129,664 |  104.906… |        30 |     5,445,888 |\n",
      "| 2013       |     1,354 |   118,136 |   87.250… |        30 |     4,961,712 |\n",
      "| 2014       |     1,405 |   105,388 |   75.009… |        21 |     4,426,296 |\n",
      "| 2015       |     1,485 |   120,266 |   80.987… |        25 |     5,051,172 |\n",
      "| 2016       |     1,014 |    78,412 |   77.329… |        25 |     3,293,304 |\n",
      "| 2017       |        69 |     9,330 |  135.217… |        23 |       391,860 |\n"
     ]
    }
   ],
   "source": [
    "spills_group_year = spills.group_by('MasterYear')\n",
    "spills_year_table = spills_group_year.aggregate([\n",
    "        ('spill_cnt', agate.Count()),\n",
    "        ('spill_sum', agate.Sum('GrossLoss')),\n",
    "        ('spill_avg', agate.Mean('GrossLoss')),\n",
    "        ('spill_med', agate.Median('GrossLoss')),\n",
    "        ('spill_sum_gal', agate.Sum('GrossLossGal'))\n",
    "    ]\n",
    ")\n",
    "spills_year_table.print_table()"
   ]
  },
  {
   "cell_type": "markdown",
   "metadata": {},
   "source": [
    "### Number of spills"
   ]
  },
  {
   "cell_type": "code",
   "execution_count": 24,
   "metadata": {
    "collapsed": false
   },
   "outputs": [
    {
     "name": "stdout",
     "output_type": "stream",
     "text": [
      "MasterYear spill_cnt\n",
      "2009             675 ▓░░░░░░░░░░░░░                         \n",
      "2010             796 ▓░░░░░░░░░░░░░░░                       \n",
      "2011             869 ▓░░░░░░░░░░░░░░░░░                     \n",
      "2012           1,236 ▓░░░░░░░░░░░░░░░░░░░░░░░               \n",
      "2013           1,354 ▓░░░░░░░░░░░░░░░░░░░░░░░░░░            \n",
      "2014           1,405 ▓░░░░░░░░░░░░░░░░░░░░░░░░░░░           \n",
      "2015           1,485 ▓░░░░░░░░░░░░░░░░░░░░░░░░░░░░          \n",
      "2016           1,014 ▓░░░░░░░░░░░░░░░░░░░                   \n",
      "2017              69 ▓░                                     \n",
      "                     +---------+--------+--------+---------+\n",
      "                     0        500     1,000    1,500   2,000\n"
     ]
    }
   ],
   "source": [
    "spills_year_table.print_bars('MasterYear', 'spill_cnt', width=60)"
   ]
  },
  {
   "cell_type": "markdown",
   "metadata": {},
   "source": [
    "### Barrels per year spilled"
   ]
  },
  {
   "cell_type": "code",
   "execution_count": 25,
   "metadata": {
    "collapsed": false
   },
   "outputs": [
    {
     "name": "stdout",
     "output_type": "stream",
     "text": [
      "MasterYear spill_sum\n",
      "2009          55,996 ▓░░░░░░░░░░░                           \n",
      "2010         109,203 ▓░░░░░░░░░░░░░░░░░░░░░                 \n",
      "2011          74,933 ▓░░░░░░░░░░░░░░                        \n",
      "2012         129,664 ▓░░░░░░░░░░░░░░░░░░░░░░░░░             \n",
      "2013         118,136 ▓░░░░░░░░░░░░░░░░░░░░░░                \n",
      "2014         105,388 ▓░░░░░░░░░░░░░░░░░░░░                  \n",
      "2015         120,266 ▓░░░░░░░░░░░░░░░░░░░░░░░               \n",
      "2016          78,412 ▓░░░░░░░░░░░░░░░                       \n",
      "2017           9,330 ▓░░                                    \n",
      "                     +---------+--------+------------------+\n",
      "                     0      50,000   100,000         200,000\n"
     ]
    }
   ],
   "source": [
    "spills_year_table.print_bars('MasterYear', 'spill_sum', width=60)"
   ]
  },
  {
   "cell_type": "code",
   "execution_count": null,
   "metadata": {
    "collapsed": true
   },
   "outputs": [],
   "source": []
  },
  {
   "cell_type": "markdown",
   "metadata": {},
   "source": [
    "## Searching for the company\n",
    "Looking for Magellan Midstream Partners or anything like them any any columns"
   ]
  },
  {
   "cell_type": "code",
   "execution_count": 26,
   "metadata": {
    "collapsed": false
   },
   "outputs": [],
   "source": [
    "# this function allows me to imput a column name\n",
    "# and get distinct matchinhg results\n",
    "def search_column(column_name):\n",
    "    result = spills.where(lambda row: re.search(\n",
    "        'MAGELLAN|MIDSTREAM', str(row[column_name])\n",
    "    ))\n",
    "    \n",
    "    print('Searching the \\'{}\\' column for MAGELLAN or MIDSTREAM \\\n",
    "    and found these distinct names. (If blank, there are none):'.format(\n",
    "        column_name\n",
    "        ))\n",
    "    \n",
    "    return result.columns[column_name].values_distinct()"
   ]
  },
  {
   "cell_type": "code",
   "execution_count": 27,
   "metadata": {
    "collapsed": false
   },
   "outputs": [
    {
     "name": "stdout",
     "output_type": "stream",
     "text": [
      "Searching the 'OperatorNumber' column for MAGELLAN or MIDSTREAM     and found these distinct names. (If blank, there are none):\n"
     ]
    },
    {
     "data": {
      "text/plain": [
       "('DCP MIDSTREAM, LP',\n",
       " 'CHESAPEAKE MIDSTREAM PARTNERSLLC',\n",
       " 'VITOL MIDSTREAM PIPELINE LLC',\n",
       " 'GAVILON MIDSTREAM ENERGY, LLC',\n",
       " 'VITOL MIDSTREAM LLC',\n",
       " 'ENLINK MIDSTREAM SERVICES, LLC',\n",
       " 'TARGA MIDSTREAM SERVICES LP',\n",
       " 'TRINITY RIVER MIDSTREAM, LLC',\n",
       " 'EFS MIDSTREAM LLC',\n",
       " 'DCP MIDSTREAM MARKETING, LP',\n",
       " 'DCP MIDSTREAM MARKETING, LLC',\n",
       " 'TARGA MIDSTREAM SERVICES LLC',\n",
       " 'TALCO MIDSTREAM ASSETS, LTD.',\n",
       " 'PARADIGM MIDSTREAM SVCS-ST, LLC',\n",
       " 'NAVARRO MIDSTREAM SERVICES, LLC',\n",
       " 'ENABLE MIDSTREAM PARTNERS, LP',\n",
       " 'TARGA SOUTHTEX MIDSTREAM CO LP',\n",
       " 'CCS MIDSTREAM SERVICES, LLC')"
      ]
     },
     "execution_count": 27,
     "metadata": {},
     "output_type": "execute_result"
    }
   ],
   "source": [
    "search_column('OperatorNumber')"
   ]
  },
  {
   "cell_type": "code",
   "execution_count": 28,
   "metadata": {
    "collapsed": false
   },
   "outputs": [
    {
     "name": "stdout",
     "output_type": "stream",
     "text": [
      "Searching the 'LeaseName' column for MAGELLAN or MIDSTREAM     and found these distinct names. (If blank, there are none):\n"
     ]
    },
    {
     "data": {
      "text/plain": [
       "()"
      ]
     },
     "execution_count": 28,
     "metadata": {},
     "output_type": "execute_result"
    }
   ],
   "source": [
    "search_column('LeaseName')"
   ]
  },
  {
   "cell_type": "code",
   "execution_count": 29,
   "metadata": {
    "collapsed": false
   },
   "outputs": [
    {
     "name": "stdout",
     "output_type": "stream",
     "text": [
      "Searching the 'FieldNumber' column for MAGELLAN or MIDSTREAM     and found these distinct names. (If blank, there are none):\n"
     ]
    },
    {
     "data": {
      "text/plain": [
       "()"
      ]
     },
     "execution_count": 29,
     "metadata": {},
     "output_type": "execute_result"
    }
   ],
   "source": [
    "search_column('FieldNumber')"
   ]
  },
  {
   "cell_type": "code",
   "execution_count": 30,
   "metadata": {
    "collapsed": false
   },
   "outputs": [
    {
     "name": "stdout",
     "output_type": "stream",
     "text": [
      "Searching the 'Location' column for MAGELLAN or MIDSTREAM     and found these distinct names. (If blank, there are none):\n"
     ]
    },
    {
     "data": {
      "text/plain": [
       "('ROUND TOP BOOSTER IS A NATURAL GAS, MIDSTREAM COMPRESSOR STATION',)"
      ]
     },
     "execution_count": 30,
     "metadata": {},
     "output_type": "execute_result"
    }
   ],
   "source": [
    "search_column('Location')"
   ]
  },
  {
   "cell_type": "code",
   "execution_count": 31,
   "metadata": {
    "collapsed": false
   },
   "outputs": [
    {
     "name": "stdout",
     "output_type": "stream",
     "text": [
      "Searching the 'Remarks' column for MAGELLAN or MIDSTREAM     and found these distinct names. (If blank, there are none):\n"
     ]
    },
    {
     "data": {
      "text/plain": [
       "()"
      ]
     },
     "execution_count": 31,
     "metadata": {},
     "output_type": "execute_result"
    }
   ],
   "source": [
    "search_column('Remarks')"
   ]
  },
  {
   "cell_type": "markdown",
   "metadata": {},
   "source": [
    "### Bulletproofing\n",
    "\n",
    "Various looks to make sure all is good"
   ]
  },
  {
   "cell_type": "code",
   "execution_count": 32,
   "metadata": {
    "collapsed": false
   },
   "outputs": [
    {
     "name": "stdout",
     "output_type": "stream",
     "text": [
      "| Unique_ID | Count |\n",
      "| --------- | ----- |\n",
      "|   117,569 |     1 |\n",
      "|   117,565 |     1 |\n",
      "|   117,622 |     1 |\n",
      "|   118,015 |     1 |\n",
      "|   117,634 |     1 |\n"
     ]
    }
   ],
   "source": [
    "# check to make sure UniqueID is unique\n",
    "pivot_UniqueID = spills.pivot('Unique_ID')\n",
    "pivot_UniqueID.limit(5).print_table()"
   ]
  },
  {
   "cell_type": "code",
   "execution_count": 33,
   "metadata": {
    "collapsed": false
   },
   "outputs": [
    {
     "name": "stdout",
     "output_type": "stream",
     "text": [
      "| Corrected_Report | 2009 | 2010 | 2011 |  2014 |  2012 |  2013 |  2015 |  2016 | 2017 |\n",
      "| ---------------- | ---- | ---- | ---- | ----- | ----- | ----- | ----- | ----- | ---- |\n",
      "|            False |  675 |  796 |  869 | 1,405 |     0 |     0 |     0 |     0 |    0 |\n",
      "|                  |    0 |    0 |    0 |     0 | 1,236 | 1,354 | 1,485 | 1,014 |   69 |\n"
     ]
    }
   ],
   "source": [
    "# checks this 'Corrected_Report' column, which is only in some files, to see if any are true.\n",
    "# None are\n",
    "spills_corrected_pivot = spills.pivot('Corrected_Report', 'MasterYear')\n",
    "spills_corrected_pivot.print_table(max_columns=None)"
   ]
  },
  {
   "cell_type": "code",
   "execution_count": null,
   "metadata": {
    "collapsed": true
   },
   "outputs": [],
   "source": []
  }
 ],
 "metadata": {
  "kernelspec": {
   "display_name": "Python 3",
   "language": "python",
   "name": "python3"
  },
  "language_info": {
   "codemirror_mode": {
    "name": "ipython",
    "version": 3
   },
   "file_extension": ".py",
   "mimetype": "text/x-python",
   "name": "python",
   "nbconvert_exporter": "python",
   "pygments_lexer": "ipython3",
   "version": "3.5.1"
  }
 },
 "nbformat": 4,
 "nbformat_minor": 0
}
