{
 "cells": [
  {
   "cell_type": "markdown",
   "metadata": {},
   "source": [
    "# Oil spill data\n",
    "\n",
    "Downloaded from the [Railroad commission](http://www.rrc.state.tx.us/oil-gas/compliance-enforcement/h-8)\n",
    "\n",
    "Looking at to compare Magellan Midstream Partners spill of July 13 in Bastrop County."
   ]
  },
  {
   "cell_type": "code",
   "execution_count": 1,
   "metadata": {
    "collapsed": false
   },
   "outputs": [],
   "source": [
    "import agate\n",
    "import agateexcel\n",
    "\n",
    "# data comes from http://www.rrc.state.tx.us/oil-gas/compliance-enforcement/h-8\n",
    "# `Magellan Midstream Partners`\n",
    "# Spill July 13\n"
   ]
  },
  {
   "cell_type": "code",
   "execution_count": 2,
   "metadata": {
    "collapsed": false
   },
   "outputs": [],
   "source": [
    "# importing the data\n",
    "\n",
    "# sets column types where needed\n",
    "specified_type = {\n",
    "    'MasterYear': agate.Text(),\n",
    "    'Water': agate.Text(),\n",
    "    'WaterName': agate.Text()\n",
    "}\n",
    "# importing each file as a table\n",
    "h82009 = agate.Table.from_xlsx('raw-data/h8s-2009.xlsx', column_types=specified_type)\n",
    "h82010 = agate.Table.from_xlsx('raw-data/h8s-2010.xlsx', column_types=specified_type)\n",
    "h82011 = agate.Table.from_xlsx('raw-data/h8s-2011.xlsx', column_types=specified_type)\n",
    "h82012 = agate.Table.from_xlsx('raw-data/h8s-2012.xlsx', column_types=specified_type)\n",
    "h82013 = agate.Table.from_xlsx('raw-data/h8s-2013.xlsx', column_types=specified_type)\n",
    "h82014 = agate.Table.from_xlsx('raw-data/h8s-2014.xlsx', column_types=specified_type)\n",
    "h82015 = agate.Table.from_xlsx('raw-data/h8s-2015.xlsx', column_types=specified_type)\n",
    "h82016 = agate.Table.from_xlsx('raw-data/h8s-2016.xlsx', column_types=specified_type)\n",
    "h82017 = agate.Table.from_xlsx('raw-data/h8s-2017.xlsx', column_types=specified_type)"
   ]
  },
  {
   "cell_type": "code",
   "execution_count": 3,
   "metadata": {
    "collapsed": true
   },
   "outputs": [],
   "source": [
    "# renaming columns for consistency. There are two variations\n",
    "\n",
    "column_names_one = {\n",
    "    'Form Number': 'FormNumber',\n",
    "}\n",
    "column_names_two = {\n",
    "    'Form Number': 'FormNumber',\n",
    "    'Lease No': 'LeaseNumber',\n",
    "}\n",
    "h82009r = h82009.rename(column_names_one)\n",
    "h82010r = h82010.rename(column_names_one)\n",
    "h82011r = h82011.rename(column_names_one)\n",
    "h82012r = h82012.rename(column_names_one)\n",
    "h82013r = h82013.rename(column_names_one)\n",
    "h82014r = h82014.rename(column_names_one)\n",
    "h82015r = h82015.rename(column_names_one)\n",
    "h82016r = h82016.rename(column_names_two)\n",
    "h82017r = h82017.rename(column_names_two)"
   ]
  },
  {
   "cell_type": "code",
   "execution_count": 4,
   "metadata": {
    "collapsed": false
   },
   "outputs": [],
   "source": [
    "# combining into a single table\n",
    "spills = agate.Table.merge([\n",
    "        h82009r,\n",
    "        h82010r,\n",
    "        h82011r,\n",
    "        h82012r,\n",
    "        h82013r,\n",
    "        h82014r,\n",
    "        h82015r,\n",
    "        h82016r,\n",
    "        h82017r\n",
    "    ])\n",
    "\n",
    "# send to csv to use elsewhere\n",
    "spills.to_csv('exports/spills.csv')"
   ]
  },
  {
   "cell_type": "code",
   "execution_count": 6,
   "metadata": {
    "collapsed": false
   },
   "outputs": [
    {
     "name": "stdout",
     "output_type": "stream",
     "text": [
      "| column           | data_type |\n",
      "| ---------------- | --------- |\n",
      "| MasterYear       | Text      |\n",
      "| FormNumber       | Number    |\n",
      "| District         | Text      |\n",
      "| OperatorNumber   | Text      |\n",
      "| DateofLoss       | Date      |\n",
      "| Type_Company_Cd  | Text      |\n",
      "| County           | Text      |\n",
      "| LeaseNumber      | Number    |\n",
      "| Gasident         | Number    |\n",
      "| CommNbr          | Number    |\n",
      "| TypeLiquid       | Text      |\n",
      "| GrossLoss        | Number    |\n",
      "| Recovered        | Number    |\n",
      "| NetLoss          | Number    |\n",
      "| Facility         | Text      |\n",
      "| CauseofLoss      | Text      |\n",
      "| Remedy           | Text      |\n",
      "| Corrected_Report | Boolean   |\n",
      "| Water            | Text      |\n",
      "| WaterName        | Text      |\n",
      "| Location         | Text      |\n",
      "| Remarks          | Text      |\n",
      "| LeaseName        | Text      |\n",
      "| FieldNumber      | Text      |\n",
      "| Into_Water       | Boolean   |\n",
      "| Unique_ID        | Number    |\n",
      "| Gas ID           | Number    |\n",
      "\n"
     ]
    }
   ],
   "source": [
    "# look at column names\n",
    "print(spills)"
   ]
  },
  {
   "cell_type": "code",
   "execution_count": 7,
   "metadata": {
    "collapsed": false
   },
   "outputs": [
    {
     "name": "stdout",
     "output_type": "stream",
     "text": [
      "| Facility             | Count |\n",
      "| -------------------- | ----- |\n",
      "| Tank Battery         | 6,275 |\n",
      "| Flow Line            |   919 |\n",
      "| Other                |   362 |\n",
      "| Valve                |   354 |\n",
      "| Pipe Line            |   673 |\n",
      "| Pump Station or T... |    87 |\n",
      "| Stuffing Box         |   104 |\n",
      "| Separator-Gun Bar... |   108 |\n",
      "| Vehicle (Truck-Ba... |    21 |\n"
     ]
    }
   ],
   "source": [
    "# counting records by facility\n",
    "pivot_facility = spills.pivot('Facility')\n",
    "pivot_facility.print_table()"
   ]
  },
  {
   "cell_type": "markdown",
   "metadata": {},
   "source": [
    "### Bulletproofing\n",
    "\n",
    "Various looks to make sure all is good"
   ]
  },
  {
   "cell_type": "code",
   "execution_count": 5,
   "metadata": {
    "collapsed": false
   },
   "outputs": [
    {
     "name": "stdout",
     "output_type": "stream",
     "text": [
      "Number of records:\n",
      "8903\n"
     ]
    }
   ],
   "source": [
    "# checking number of records for spills\n",
    "print('Number of records:\\n{}'.format(\n",
    "    spills.aggregate(agate.Count())\n",
    "))\n"
   ]
  },
  {
   "cell_type": "code",
   "execution_count": 8,
   "metadata": {
    "collapsed": false
   },
   "outputs": [
    {
     "name": "stdout",
     "output_type": "stream",
     "text": [
      "| Unique_ID | Count |\n",
      "| --------- | ----- |\n",
      "|   117,569 |     1 |\n",
      "|   117,565 |     1 |\n",
      "|   117,622 |     1 |\n",
      "|   118,015 |     1 |\n",
      "|   117,634 |     1 |\n"
     ]
    }
   ],
   "source": [
    "# check to make sure UniqueID is unique\n",
    "pivot_UniqueID = spills.pivot('Unique_ID')\n",
    "pivot_UniqueID.limit(5).print_table()"
   ]
  },
  {
   "cell_type": "code",
   "execution_count": null,
   "metadata": {
    "collapsed": true
   },
   "outputs": [],
   "source": []
  }
 ],
 "metadata": {
  "kernelspec": {
   "display_name": "Python 3",
   "language": "python",
   "name": "python3"
  },
  "language_info": {
   "codemirror_mode": {
    "name": "ipython",
    "version": 3
   },
   "file_extension": ".py",
   "mimetype": "text/x-python",
   "name": "python",
   "nbconvert_exporter": "python",
   "pygments_lexer": "ipython3",
   "version": "3.5.1"
  }
 },
 "nbformat": 4,
 "nbformat_minor": 0
}
