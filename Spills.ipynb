{
 "cells": [
  {
   "cell_type": "markdown",
   "metadata": {},
   "source": [
    "# Oil spill data\n",
    "\n",
    "Downloaded from the [Railroad commission](http://www.rrc.state.tx.us/oil-gas/compliance-enforcement/h-8).\n",
    "\n",
    "The H-8 Loss Reports for crude oil, gas well liquids or associated products are available for download as an Excel compressed zip file by year. If you have questions or need assistance, contact Field Operations at 512-463-6830 or OGFOPS@rrc.texas.gov.\n",
    "\n",
    "\n",
    "Looking at these files to compare the Magellan Midstream Partners spill of July 13 in Bastrop County. It's been reported to be 87,528 gallons or is 2,084 barrel. RRC tells Andy Sevilla the data uses barrels.\n",
    "\n",
    "#### Our coverage\n",
    "- http://www.statesman.com/news/local/new-data-shows-bastrop-county-oil-spill-leaked-000-gallons/Y8YK4xM4uPE37actcJi1HP/\n",
    "- http://www.statesman.com/news/local/rolled-over-wheeler-spills-oil-onto-bastrop-roadway/PMhcfaqCXQ9U4V6FCX36WL/\n",
    "- http://www.mystatesman.com/news/opinion/commentary-what-the-bastrop-oil-spill-says-about-effective-regulation/8wkZRUj2ts2mXR8BZhDkQM/\n"
   ]
  },
  {
   "cell_type": "markdown",
   "metadata": {},
   "source": [
    "## Data prep\n",
    "\n",
    "Doing the import, setting data types, column names and stacking."
   ]
  },
  {
   "cell_type": "code",
   "execution_count": 1,
   "metadata": {
    "collapsed": false
   },
   "outputs": [],
   "source": [
    "import agate\n",
    "import agateexcel\n",
    "import re\n",
    "import warnings\n",
    "warnings.filterwarnings('ignore')"
   ]
  },
  {
   "cell_type": "code",
   "execution_count": 2,
   "metadata": {
    "collapsed": true
   },
   "outputs": [],
   "source": [
    "#bastrop data\n",
    "bastrop_barrels = 2084\n",
    "bastrop_gallons = '87528'"
   ]
  },
  {
   "cell_type": "code",
   "execution_count": 3,
   "metadata": {
    "collapsed": false
   },
   "outputs": [],
   "source": [
    "# sets column types where needed\n",
    "specified_type = {\n",
    "    'MasterYear': agate.Text(),\n",
    "    'Water': agate.Text(),\n",
    "    'WaterName': agate.Text()\n",
    "}\n",
    "# importing each file as a table\n",
    "# should be refactored as a loop\n",
    "h82009 = agate.Table.from_xlsx('raw-data/h8s-2009.xlsx', column_types=specified_type)\n",
    "h82010 = agate.Table.from_xlsx('raw-data/h8s-2010.xlsx', column_types=specified_type)\n",
    "h82011 = agate.Table.from_xlsx('raw-data/h8s-2011.xlsx', column_types=specified_type)\n",
    "h82012 = agate.Table.from_xlsx('raw-data/h8s-2012.xlsx', column_types=specified_type)\n",
    "h82013 = agate.Table.from_xlsx('raw-data/h8s-2013.xlsx', column_types=specified_type)\n",
    "h82014 = agate.Table.from_xlsx('raw-data/h8s-2014.xlsx', column_types=specified_type)\n",
    "h82015 = agate.Table.from_xlsx('raw-data/h8s-2015.xlsx', column_types=specified_type)\n",
    "h82016 = agate.Table.from_xlsx('raw-data/h8s-2016.xlsx', column_types=specified_type)\n",
    "h82017 = agate.Table.from_xlsx('raw-data/h8s-2017.xlsx', column_types=specified_type)"
   ]
  },
  {
   "cell_type": "code",
   "execution_count": 4,
   "metadata": {
    "collapsed": true
   },
   "outputs": [],
   "source": [
    "# renaming columns in some files for consistency.\n",
    "# this could/should be refacted as a loop\n",
    "\n",
    "column_names = {\n",
    "    'Form Number': 'FormNumber',\n",
    "    'Lease No': 'LeaseNumber',\n",
    "    'Gas ID': 'Gasident'\n",
    "}\n",
    "h82009r = h82009.rename(column_names)\n",
    "h82010r = h82010.rename(column_names)\n",
    "h82011r = h82011.rename(column_names)\n",
    "h82012r = h82012.rename(column_names)\n",
    "h82013r = h82013.rename(column_names)\n",
    "h82014r = h82014.rename(column_names)\n",
    "h82015r = h82015.rename(column_names)\n",
    "h82016r = h82016.rename(column_names)\n",
    "h82017r = h82017.rename(column_names)\n",
    "\n",
    "# combining into a single table\n",
    "spills = agate.Table.merge([\n",
    "        h82009r,\n",
    "        h82010r,\n",
    "        h82011r,\n",
    "        h82012r,\n",
    "        h82013r,\n",
    "        h82014r,\n",
    "        h82015r,\n",
    "        h82016r,\n",
    "        h82017r\n",
    "    ])\n",
    "# add GrossLossGal column converts barrels to gallons\n",
    "spills = spills.compute([\n",
    "    ('GrossLossGal', agate.Formula(agate.Number(), lambda r: r['GrossLoss'] * 42))\n",
    "])"
   ]
  },
  {
   "cell_type": "code",
   "execution_count": 5,
   "metadata": {
    "collapsed": true
   },
   "outputs": [],
   "source": [
    "# send to csv to use elsewhere\n",
    "spills.to_csv('exports/spills.csv')"
   ]
  },
  {
   "cell_type": "code",
   "execution_count": 6,
   "metadata": {
    "collapsed": false
   },
   "outputs": [
    {
     "name": "stdout",
     "output_type": "stream",
     "text": [
      "| column           | data_type |\n",
      "| ---------------- | --------- |\n",
      "| MasterYear       | Text      |\n",
      "| FormNumber       | Number    |\n",
      "| District         | Text      |\n",
      "| OperatorNumber   | Text      |\n",
      "| DateofLoss       | Date      |\n",
      "| Type_Company_Cd  | Text      |\n",
      "| County           | Text      |\n",
      "| LeaseNumber      | Number    |\n",
      "| Gasident         | Number    |\n",
      "| CommNbr          | Number    |\n",
      "| TypeLiquid       | Text      |\n",
      "| GrossLoss        | Number    |\n",
      "| Recovered        | Number    |\n",
      "| NetLoss          | Number    |\n",
      "| Facility         | Text      |\n",
      "| CauseofLoss      | Text      |\n",
      "| Remedy           | Text      |\n",
      "| Corrected_Report | Boolean   |\n",
      "| Water            | Text      |\n",
      "| WaterName        | Text      |\n",
      "| Location         | Text      |\n",
      "| Remarks          | Text      |\n",
      "| LeaseName        | Text      |\n",
      "| FieldNumber      | Text      |\n",
      "| Into_Water       | Boolean   |\n",
      "| Unique_ID        | Number    |\n",
      "| GrossLossGal     | Number    |\n",
      "\n"
     ]
    }
   ],
   "source": [
    "# look at column names\n",
    "print(spills)"
   ]
  },
  {
   "cell_type": "markdown",
   "metadata": {},
   "source": [
    "## Overall spills by GrossLoss\n",
    "These are the top spills by the most lost."
   ]
  },
  {
   "cell_type": "code",
   "execution_count": 7,
   "metadata": {
    "collapsed": false
   },
   "outputs": [
    {
     "name": "stdout",
     "output_type": "stream",
     "text": [
      "Total number of records:\n",
      "8903\n"
     ]
    }
   ],
   "source": [
    "# checking number of records for spills\n",
    "print('Total number of records:\\n{}'.format(\n",
    "    spills.aggregate(agate.Count())\n",
    "))\n"
   ]
  },
  {
   "cell_type": "code",
   "execution_count": 8,
   "metadata": {
    "collapsed": false
   },
   "outputs": [
    {
     "name": "stdout",
     "output_type": "stream",
     "text": [
      "| DateofLoss | County       | GrossLoss |\n",
      "| ---------- | ------------ | --------- |\n",
      "| 2012-10-01 | HARRISON     |    31,000 |\n",
      "| 2010-02-09 | SAN PATRICIO |    25,000 |\n",
      "| 2010-08-08 | BRAZOS       |    15,000 |\n",
      "| 2010-10-11 | HOCKLEY      |    10,000 |\n",
      "| 2016-09-10 | NOLAN        |     8,600 |\n",
      "| 2011-01-27 | GRIMES       |     6,911 |\n",
      "| 2014-09-15 | HOUSTON      |     5,700 |\n",
      "| 2013-12-17 | ECTOR        |     5,000 |\n",
      "| 2017-01-30 | COLLIN       |     5,000 |\n",
      "| 2015-05-20 | STEPHENS     |     3,900 |\n",
      "| 2013-05-20 | STARR        |     3,500 |\n",
      "| 2009-06-17 | SCURRY       |     3,416 |\n",
      "| 2015-06-20 | FREESTONE    |     3,300 |\n",
      "| 2015-04-07 | TERRY        |     3,300 |\n",
      "| 2016-04-06 | LOVING       |     3,200 |\n",
      "| 2012-06-28 | DIMMIT       |     3,000 |\n",
      "| 2011-04-01 | HOWARD       |     2,583 |\n",
      "| 2012-01-30 | GAINES       |     2,572 |\n",
      "| 2015-05-11 | STEPHENS     |     2,500 |\n",
      "| 2009-01-29 | NUECES       |     2,400 |\n"
     ]
    }
   ],
   "source": [
    "# orders the spills table\n",
    "spills_ordered = spills.order_by(lambda row: row['GrossLoss'], reverse=True)\n",
    "# prints just to show the top in the list\n",
    "spills_ordered.select(['DateofLoss', 'County', 'GrossLoss']).limit(20).print_table()"
   ]
  },
  {
   "cell_type": "code",
   "execution_count": 9,
   "metadata": {
    "collapsed": false
   },
   "outputs": [
    {
     "name": "stdout",
     "output_type": "stream",
     "text": [
      "Looking at all spills by GrossLoss, the Bastrop spill ranks 24 in list of worst spills.\n"
     ]
    }
   ],
   "source": [
    "## would like to count number of spills greater than 2,084 gallons.\n",
    "spills_bigger = spills_ordered.where(lambda row: row['GrossLoss'] > bastrop_barrels)\n",
    "\n",
    "print('Looking at all spills by GrossLoss, the Bastrop spill ranks {} in list of worst spills.'.format(\n",
    "        spills_bigger.aggregate(agate.Count()) + 1\n",
    "    ))"
   ]
  },
  {
   "cell_type": "markdown",
   "metadata": {},
   "source": [
    "## Overall spills by NetLoss\n",
    "Reordering all spills by NetLoss to account for barrels recovered. I'm not sure if there was oil recovered from the Bastrop spill, though.\n"
   ]
  },
  {
   "cell_type": "code",
   "execution_count": 10,
   "metadata": {
    "collapsed": false
   },
   "outputs": [
    {
     "name": "stdout",
     "output_type": "stream",
     "text": [
      "| DateofLoss | County    | NetLoss |\n",
      "| ---------- | --------- | ------- |\n",
      "| 2012-10-01 | HARRISON  |  31,000 |\n",
      "| 2016-09-10 | NOLAN     |   6,725 |\n",
      "| 2014-09-15 | HOUSTON   |   5,698 |\n",
      "| 2013-12-17 | ECTOR     |   5,000 |\n",
      "| 2013-05-20 | STARR     |   3,500 |\n",
      "| 2011-01-27 | GRIMES    |   3,304 |\n",
      "| 2012-06-28 | DIMMIT    |   3,000 |\n",
      "| 2011-04-01 | HOWARD    |   2,583 |\n",
      "| 2015-06-15 | KENT      |   2,063 |\n",
      "| 2013-10-28 | REAGAN    |   2,000 |\n",
      "| 2009-06-17 | SCURRY    |   1,835 |\n",
      "| 2014-09-27 | CULBERSON |   1,700 |\n",
      "| 2010-08-09 | REAGAN    |   1,600 |\n",
      "| 2012-01-30 | GAINES    |   1,472 |\n",
      "| 2015-02-01 | FORT BEND |   1,452 |\n",
      "| 2013-12-14 | ECTOR     |   1,430 |\n",
      "| 2013-06-30 | UPTON     |   1,352 |\n",
      "| 2015-11-23 | ATASCOSA  |   1,213 |\n",
      "| 2015-01-07 | WEBB      |   1,130 |\n",
      "| 2014-11-04 | KLEBERG   |   1,100 |\n",
      "|        ... | ...       |     ... |\n"
     ]
    }
   ],
   "source": [
    "spills_netloss = spills.order_by(lambda row: row['NetLoss'], reverse=True)\n",
    "spills_netloss.select(['DateofLoss', 'County', 'NetLoss']).print_table()"
   ]
  },
  {
   "cell_type": "markdown",
   "metadata": {},
   "source": [
    "## Spills by 'Facility'"
   ]
  },
  {
   "cell_type": "code",
   "execution_count": 11,
   "metadata": {
    "collapsed": false
   },
   "outputs": [
    {
     "name": "stdout",
     "output_type": "stream",
     "text": [
      "| Facility             | spill_cnt | spill_sum | spill_sum_gal | spill_avg | spill_med |\n",
      "| -------------------- | --------- | --------- | ------------- | --------- | --------- |\n",
      "| Tank Battery         |     6,275 |   571,558 |    24,005,436 |   91.085… |      33.0 |\n",
      "| Flow Line            |       919 |    62,397 |     2,620,674 |   67.897… |      15.0 |\n",
      "| Other                |       362 |    29,764 |     1,250,088 |   82.221… |      30.0 |\n",
      "| Valve                |       354 |    20,163 |       846,846 |   56.958… |      15.0 |\n",
      "| Pipe Line            |       673 |    96,116 |     4,036,872 |  142.817… |      20.0 |\n",
      "| Pump Station or T... |        87 |    10,729 |       450,618 |  123.322… |      25.0 |\n",
      "| Stuffing Box         |       104 |     2,901 |       121,842 |   27.894… |      13.5 |\n",
      "| Separator-Gun Bar... |       108 |     6,595 |       276,990 |   61.065… |      21.0 |\n",
      "| Vehicle (Truck-Ba... |        21 |     1,105 |        46,410 |   52.619… |      20.0 |\n"
     ]
    }
   ],
   "source": [
    "spills_group_facility = spills.group_by('Facility')\n",
    "spills_facility_table = spills_group_facility.aggregate([\n",
    "        ('spill_cnt', agate.Count()),\n",
    "        ('spill_sum', agate.Sum('GrossLoss')),\n",
    "        ('spill_sum_gal', agate.Sum('GrossLossGal')),\n",
    "        ('spill_avg', agate.Mean('GrossLoss')),\n",
    "        ('spill_med', agate.Median('GrossLoss'))\n",
    "    ]\n",
    ")\n",
    "spills_facility_table.print_table()"
   ]
  },
  {
   "cell_type": "markdown",
   "metadata": {},
   "source": [
    "## Pipeline spills"
   ]
  },
  {
   "cell_type": "code",
   "execution_count": 12,
   "metadata": {
    "collapsed": false
   },
   "outputs": [
    {
     "name": "stdout",
     "output_type": "stream",
     "text": [
      "Number in spills_pipline:\n",
      "673\n"
     ]
    }
   ],
   "source": [
    "# filter to pipeline spills\n",
    "spills_pipelines = spills_ordered.where(lambda row: row['Facility'] == 'Pipe Line')\n",
    "\n",
    "pipeline_spill_count = spills_pipelines.aggregate(agate.Count())\n",
    "\n",
    "# count result\n",
    "print('Number in spills_pipline:\\n{}'.format(\n",
    "  pipeline_spill_count\n",
    "    ))\n",
    "\n"
   ]
  },
  {
   "cell_type": "markdown",
   "metadata": {},
   "source": [
    "### Pipeline spills over time"
   ]
  },
  {
   "cell_type": "code",
   "execution_count": 13,
   "metadata": {
    "collapsed": false
   },
   "outputs": [
    {
     "name": "stdout",
     "output_type": "stream",
     "text": [
      "| MasterYear | spill_cnt | spill_sum | spill_sum_gal |  spill_avg | spill_med |\n",
      "| ---------- | --------- | --------- | ------------- | ---------- | --------- |\n",
      "| 2009       |        66 |     6,036 |       253,512 |    91.455… |        15 |\n",
      "| 2010       |        77 |    21,362 |       897,204 |   277.429… |        23 |\n",
      "| 2011       |        70 |    13,823 |       580,566 |   197.471… |        20 |\n",
      "| 2012       |       109 |    11,137 |       467,754 |   102.174… |        24 |\n",
      "| 2013       |       107 |    11,674 |       490,308 |   109.103… |        28 |\n",
      "| 2014       |       114 |     7,982 |       335,244 |    70.018… |        20 |\n",
      "| 2015       |        80 |     7,106 |       298,452 |    88.825… |        17 |\n",
      "| 2016       |        46 |    11,964 |       502,488 |   260.087… |        25 |\n",
      "| 2017       |         4 |     5,032 |       211,344 | 1,258.000… |        14 |\n"
     ]
    }
   ],
   "source": [
    "spills_pipeline_group_year = spills_pipelines.group_by('MasterYear')\n",
    "spills_pipeline_year_table = spills_pipeline_group_year.aggregate([\n",
    "        ('spill_cnt', agate.Count()),\n",
    "        ('spill_sum', agate.Sum('GrossLoss')),\n",
    "        ('spill_sum_gal', agate.Sum('GrossLossGal')),\n",
    "        ('spill_avg', agate.Mean('GrossLoss')),\n",
    "        ('spill_med', agate.Median('GrossLoss'))\n",
    "    ]\n",
    ")\n",
    "spills_pipeline_year_table.order_by('MasterYear').print_table()"
   ]
  },
  {
   "cell_type": "markdown",
   "metadata": {},
   "source": [
    "### Pipeline spills by year"
   ]
  },
  {
   "cell_type": "code",
   "execution_count": 14,
   "metadata": {
    "collapsed": false
   },
   "outputs": [
    {
     "name": "stdout",
     "output_type": "stream",
     "text": [
      "MasterYear spill_cnt\n",
      "2009              66 ▓░░░░░░░░░░░░░                         \n",
      "2010              77 ▓░░░░░░░░░░░░░░░                       \n",
      "2011              70 ▓░░░░░░░░░░░░░                         \n",
      "2012             109 ▓░░░░░░░░░░░░░░░░░░░░░                 \n",
      "2013             107 ▓░░░░░░░░░░░░░░░░░░░░                  \n",
      "2014             114 ▓░░░░░░░░░░░░░░░░░░░░░░                \n",
      "2015              80 ▓░░░░░░░░░░░░░░░                       \n",
      "2016              46 ▓░░░░░░░░░                             \n",
      "2017               4 ▓░                                     \n",
      "                     +---------+--------+--------+---------+\n",
      "                     0        50       100      150      200\n"
     ]
    }
   ],
   "source": [
    "spills_pipeline_year_table.order_by('MasterYear').print_bars('MasterYear', 'spill_cnt', width=60)"
   ]
  },
  {
   "cell_type": "markdown",
   "metadata": {},
   "source": [
    "### Pipeline barrels spills by year"
   ]
  },
  {
   "cell_type": "code",
   "execution_count": 37,
   "metadata": {
    "collapsed": false
   },
   "outputs": [
    {
     "name": "stdout",
     "output_type": "stream",
     "text": [
      "Barrels spilled from pipelines per year:\n",
      "\n",
      "MasterYear spill_sum\n",
      "2009           6,036 ▓░░░░░░░░                              \n",
      "2010          21,362 ▓░░░░░░░░░░░░░░░░░░░░░░░░░░░           \n",
      "2011          13,823 ▓░░░░░░░░░░░░░░░░░░                    \n",
      "2012          11,137 ▓░░░░░░░░░░░░░░                        \n",
      "2013          11,674 ▓░░░░░░░░░░░░░░░                       \n",
      "2014           7,982 ▓░░░░░░░░░░                            \n",
      "2015           7,106 ▓░░░░░░░░░                             \n",
      "2016          11,964 ▓░░░░░░░░░░░░░░░                       \n",
      "2017           5,032 ▓░░░░░░                                \n",
      "                     +---------+--------+--------+---------+\n",
      "                     0       7,500   15,000   22,500  30,000\n"
     ]
    }
   ],
   "source": [
    "print('Barrels spilled from pipelines per year:\\n')\n",
    "spills_pipeline_year_table.order_by('MasterYear').print_bars('MasterYear', 'spill_sum', width=60)"
   ]
  },
  {
   "cell_type": "code",
   "execution_count": 36,
   "metadata": {
    "collapsed": false
   },
   "outputs": [
    {
     "name": "stdout",
     "output_type": "stream",
     "text": [
      "Gallons spilled from pipelines per year:\n",
      "\n",
      "MasterYear spill_sum_gal\n",
      "2009             253,512 ▓░░░░░░░░░░                        \n",
      "2010             897,204 ▓░░░░░░░░░░░░░░░░░░░░░░░░░░░░░░░░░░\n",
      "2011             580,566 ▓░░░░░░░░░░░░░░░░░░░░░░            \n",
      "2012             467,754 ▓░░░░░░░░░░░░░░░░░░                \n",
      "2013             490,308 ▓░░░░░░░░░░░░░░░░░░░               \n",
      "2014             335,244 ▓░░░░░░░░░░░░░                     \n",
      "2015             298,452 ▓░░░░░░░░░░░                       \n",
      "2016             502,488 ▓░░░░░░░░░░░░░░░░░░░               \n",
      "2017             211,344 ▓░░░░░░░░                          \n",
      "                         +-------+--------+----------------+\n",
      "                         0    225,000  450,000       900,000\n"
     ]
    }
   ],
   "source": [
    "print('Gallons spilled from pipelines per year:\\n')\n",
    "spills_pipeline_year_table.order_by('MasterYear').print_bars('MasterYear', 'spill_sum_gal', width=60)"
   ]
  },
  {
   "cell_type": "markdown",
   "metadata": {},
   "source": [
    "### Top pipeline spills"
   ]
  },
  {
   "cell_type": "code",
   "execution_count": 16,
   "metadata": {
    "collapsed": false
   },
   "outputs": [
    {
     "name": "stdout",
     "output_type": "stream",
     "text": [
      "Top pipeline spills in gross loss barrels:\n",
      "\n",
      "| DateofLoss | County    | GrossLoss |\n",
      "| ---------- | --------- | --------- |\n",
      "| 2010-08-08 | BRAZOS    |    15,000 |\n",
      "| 2016-09-10 | NOLAN     |     8,600 |\n",
      "| 2011-01-27 | GRIMES    |     6,911 |\n",
      "| 2017-01-30 | COLLIN    |     5,000 |\n",
      "| 2012-01-30 | GAINES    |     2,572 |\n",
      "| 2011-11-15 | GALVESTON |     2,290 |\n",
      "| 2015-11-23 | ATASCOSA  |     2,000 |\n",
      "| 2009-07-23 | MIDLAND   |     1,912 |\n",
      "| 2010-08-09 | REAGAN    |     1,600 |\n",
      "| 2014-09-30 | JACK      |     1,034 |\n",
      "\n",
      "Looking at all PIPELINE spills by GrossLoss, the Bastropspill ranks 7 out of 673 in list of worst spills.\n"
     ]
    }
   ],
   "source": [
    "print('Top pipeline spills in gross loss barrels:\\n')\n",
    "\n",
    "# selecting and printing top records\n",
    "spills_pipelines.limit(10).select(['DateofLoss', 'County', 'GrossLoss']).print_table()\n",
    "\n",
    "## would like to count number of spills greater than 2,084 gallons.\n",
    "pipeline_spills_bigger = spills_pipelines.where(lambda row: row['GrossLoss'] > bastrop_barrels)\n",
    "\n",
    "print('\\nLooking at all PIPELINE spills by GrossLoss, the Bastrop\\\n",
    "spill ranks {} out of {} in list of worst spills.'.format(\n",
    "        pipeline_spills_bigger.aggregate(agate.Count()) + 1,\n",
    "        pipeline_spill_count\n",
    "    ))"
   ]
  },
  {
   "cell_type": "markdown",
   "metadata": {},
   "source": [
    "### Pipelines severity of spills"
   ]
  },
  {
   "cell_type": "code",
   "execution_count": 64,
   "metadata": {
    "collapsed": false
   },
   "outputs": [
    {
     "name": "stdout",
     "output_type": "stream",
     "text": [
      "GrossLossGal      Count\n",
      "[0 - 500)           236 ▓░░░░░░░░░░░░░░░░░░░░░░░░░░░░       \n",
      "[500 - 1,000)       121 ▓░░░░░░░░░░░░░░                     \n",
      "[1,000 - 1,500)      69 ▓░░░░░░░░                           \n",
      "[1,500 - 2,000)      37 ▓░░░░                               \n",
      "[2,000 - 2,500)      31 ▓░░░░                               \n",
      "[2,500 - 3,000)      25 ▓░░░                                \n",
      "[3,000 - 3,500)      20 ▓░░                                 \n",
      "[3,500 - 4,000)       8 ▓░                                  \n",
      "[4,000 - 4,500)      14 ▓░░                                 \n",
      "[4,500 - 700,000]   112 ▓░░░░░░░░░░░░░                      \n",
      "                        +--------+--------+-------+--------+\n",
      "                        0       75       150     225     300\n"
     ]
    }
   ],
   "source": [
    "# histogram bin by GrossLoss\n",
    "spills_pipeline_bins = spills_pipelines.bins('GrossLossGal', 10, 0, 5000)\n",
    "spills_pipeline_bins.print_bars('GrossLossGal', 'Count', width=60)\n",
    "# export bins for graphic\n",
    "spills_pipeline_bins.to_csv('exports/spills_pipeline_bins.csv')"
   ]
  },
  {
   "cell_type": "code",
   "execution_count": 62,
   "metadata": {
    "collapsed": false
   },
   "outputs": [
    {
     "name": "stdout",
     "output_type": "stream",
     "text": [
      "| GrossLossGal      | Count |\n",
      "| ----------------- | ----- |\n",
      "| [0 - 500)         |   236 |\n",
      "| [500 - 1,000)     |   121 |\n",
      "| [1,000 - 1,500)   |    69 |\n",
      "| [1,500 - 2,000)   |    37 |\n",
      "| [2,000 - 2,500)   |    31 |\n",
      "| [2,500 - 3,000)   |    25 |\n",
      "| [3,000 - 3,500)   |    20 |\n",
      "| [3,500 - 4,000)   |     8 |\n",
      "| [4,000 - 4,500)   |    14 |\n",
      "| [4,500 - 700,000] |   112 |\n"
     ]
    }
   ],
   "source": []
  },
  {
   "cell_type": "markdown",
   "metadata": {},
   "source": [
    "## Looking by county\n",
    "### Bastrop spills"
   ]
  },
  {
   "cell_type": "code",
   "execution_count": 18,
   "metadata": {
    "collapsed": false
   },
   "outputs": [
    {
     "name": "stdout",
     "output_type": "stream",
     "text": [
      "| County  | DateofLoss | OperatorNumber         | Facility     | GrossLoss | Unique_ID |\n",
      "| ------- | ---------- | ---------------------- | ------------ | --------- | --------- |\n",
      "| BASTROP | 2012-10-17 | CHALKER OPERATING INC. | Tank Battery |        40 |    60,943 |\n",
      "| BASTROP | 2012-09-02 | PLAINS PIPELINE L.P.   | Pipe Line    |         8 |    60,944 |\n"
     ]
    }
   ],
   "source": [
    "# list of columns to print when looking at county results.\n",
    "county_columns = [\n",
    "    'County',\n",
    "    'DateofLoss',\n",
    "    'OperatorNumber',\n",
    "    'Facility',\n",
    "    'GrossLoss',\n",
    "    'Unique_ID'\n",
    "]\n",
    "\n",
    "bastrop = spills_ordered.where(lambda row: row['County'] == 'BASTROP')\n",
    "\n",
    "bastrop.select(county_columns).print_table(max_column_width=None)"
   ]
  },
  {
   "cell_type": "markdown",
   "metadata": {},
   "source": [
    "### Travis spills"
   ]
  },
  {
   "cell_type": "code",
   "execution_count": 19,
   "metadata": {
    "collapsed": false
   },
   "outputs": [
    {
     "name": "stdout",
     "output_type": "stream",
     "text": [
      "| County | DateofLoss | OperatorNumber | Facility | GrossLoss | Unique_ID |\n",
      "| ------ | ---------- | -------------- | -------- | --------- | --------- |\n"
     ]
    }
   ],
   "source": [
    "travis = spills_ordered.where(lambda row: row['County'] == 'TRAVIS')\n",
    "\n",
    "travis.select(county_columns).print_table(max_column_width=None)"
   ]
  },
  {
   "cell_type": "markdown",
   "metadata": {},
   "source": [
    "### Galveston spills"
   ]
  },
  {
   "cell_type": "code",
   "execution_count": 20,
   "metadata": {
    "collapsed": false
   },
   "outputs": [
    {
     "name": "stdout",
     "output_type": "stream",
     "text": [
      "| County    | DateofLoss | OperatorNumber                   | Facility     | GrossLoss | Unique_ID |\n",
      "| --------- | ---------- | -------------------------------- | ------------ | --------- | --------- |\n",
      "| GALVESTON | 2009-05-21 | HITCHCOCK SWD CORPORATION        | Other        |        10 |   117,708 |\n",
      "| GALVESTON | 2009-07-23 | ERG RESOURCES, L.L.C.            | Tank Battery |       600 |   117,813 |\n",
      "| GALVESTON | 2010-12-17 | SANDRIDGE ONSHORE, LLC           | Pipe Line    |         1 |   118,760 |\n",
      "| GALVESTON | 2010-12-26 | HAWK FIELD SERVICES, LLC         | Pipe Line    |         6 |   118,761 |\n",
      "| GALVESTON | 2011-10-27 | ENTERPRISE CRUDE PIPELINE LLC    | Tank Battery |         6 |   119,631 |\n",
      "| GALVESTON | 2011-10-30 | MARATHON PETROLEUM COMPANY       | Pipe Line    |        50 |   119,819 |\n",
      "| GALVESTON | 2011-11-15 | ENTERPRISE CRUDE PIPELINE LLC    | Pipe Line    |     2,290 |   119,818 |\n",
      "| GALVESTON | 2012-03-21 | DUNE OPERATING COMPANY           | Tank Battery |     2,300 |    59,973 |\n",
      "| GALVESTON | 2012-09-19 | ENTERPRISE CRUDE PIPELINE LLC    | Pipe Line    |        41 |    60,365 |\n",
      "| GALVESTON | 2013-01-15 | GENESIS PIPELINE TEXAS, L.P.     | Pipe Line    |         1 |    61,435 |\n",
      "| GALVESTON | 2013-11-14 | HILCORP ENERGY COMPANY           | Tank Battery |        20 |    61,859 |\n",
      "| GALVESTON | 2015-04-14 | SIDELINE OIL & GAS, L.P.         | Tank Battery |       283 |    64,324 |\n",
      "| GALVESTON | 2015-05-12 | XTO ENERGY INC.                  | Tank Battery |         5 |    64,122 |\n",
      "| GALVESTON | 2016-02-26 | JK EXPLORATION & PRODUCTION,INC. | Tank Battery |         9 |           |\n"
     ]
    }
   ],
   "source": [
    "galveston = spills_ordered.where(lambda row: row['County'] == 'GALVESTON')\n",
    "\n",
    "galveston.select(county_columns).order_by('DateofLoss').print_table(max_column_width=None)"
   ]
  },
  {
   "cell_type": "code",
   "execution_count": 21,
   "metadata": {
    "collapsed": false
   },
   "outputs": [
    {
     "name": "stdout",
     "output_type": "stream",
     "text": [
      "| County | DateofLoss | OperatorNumber                   | Facility     | GrossLoss | Unique_ID |\n",
      "| ------ | ---------- | -------------------------------- | ------------ | --------- | --------- |\n",
      "| HARRIS | 2009-02-27 | CLAY, JERRY H.                   | Pipe Line    |        14 |   117,621 |\n",
      "| HARRIS | 2009-04-10 | BOMCO USA, INC.                  | Tank Battery |       100 |   117,803 |\n",
      "| HARRIS | 2010-01-02 | GAITHER PETROLEUM CORPORATION    | Tank Battery |        25 |   118,245 |\n",
      "| HARRIS | 2010-05-17 | ETOCO, L.P.                      | Tank Battery |        30 |   118,517 |\n",
      "| HARRIS | 2010-06-14 | PLAINS MARKETING, L.P.           | Tank Battery |       100 |   118,512 |\n",
      "| HARRIS | 2012-01-05 | HOLLIMON OIL CORPORATION         | Tank Battery |        36 |    59,782 |\n",
      "| HARRIS | 2012-04-03 | NOXXE OIL AND GAS, LLC           | Tank Battery |        12 |    60,013 |\n",
      "| HARRIS | 2012-04-13 | TANDEM ENERGY CORPORATION        | Pipe Line    |         1 |    60,016 |\n",
      "| HARRIS | 2012-09-22 | OSBORN,W.B. OIL & GAS OPERATIONS | Tank Battery |        45 |    60,453 |\n",
      "| HARRIS | 2013-02-20 | MORGAN ENTERPRISES, INC.         | Tank Battery |         7 |    61,196 |\n",
      "| HARRIS | 2013-03-09 | ENTERPRISE PRODUCTS OPERATINGLLC | Flow Line    |        75 |    61,528 |\n",
      "| HARRIS | 2013-03-29 | SHELL PIPELINE COMPANY LP        | Pipe Line    |       940 |    61,442 |\n",
      "| HARRIS | 2013-04-06 | SEAWAY CRUDE PIPELINE CO LLC     | Pipe Line    |        52 |    61,447 |\n",
      "| HARRIS | 2013-04-14 | OILTANKING HOUSTON, L.P.         | Tank Battery |        50 |    61,315 |\n",
      "| HARRIS | 2013-04-27 | FORT WORTH NATURAL GAS, INC.     | Tank Battery |       127 |    61,445 |\n",
      "| HARRIS | 2013-04-27 | FORT WORTH NATURAL GAS, INC.     | Tank Battery |       106 |    61,446 |\n",
      "| HARRIS | 2013-04-27 | FORT WORTH NATURAL GAS, INC.     | Tank Battery |        82 |    61,448 |\n",
      "| HARRIS | 2013-06-28 | DENBURY ONSHORE, LLC             | Tank Battery |       970 |    61,527 |\n",
      "| HARRIS | 2013-07-07 | DENBURY ONSHORE, LLC             | Tank Battery |       200 |    61,526 |\n",
      "| HARRIS | 2013-07-17 | DENBURY ONSHORE, LLC             | Tank Battery |       150 |    61,525 |\n",
      "| ...    |        ... | ...                              | ...          |       ... |       ... |\n"
     ]
    }
   ],
   "source": [
    "harris = spills_ordered.where(lambda row: row['County'] == 'HARRIS')\n",
    "\n",
    "harris.select(county_columns).order_by('DateofLoss').print_table(max_column_width=None)"
   ]
  },
  {
   "cell_type": "code",
   "execution_count": 22,
   "metadata": {
    "collapsed": false
   },
   "outputs": [
    {
     "name": "stdout",
     "output_type": "stream",
     "text": [
      "| County      | DateofLoss | OperatorNumber       | Facility             | GrossLoss | Unique_ID |\n",
      "| ----------- | ---------- | -------------------- | -------------------- | --------- | --------- |\n",
      "| PECOS       | 2011-01-02 | MOBIL PRODUCING T... | Tank Battery         |        15 |   119,079 |\n",
      "| NACOGDOCHES | 2011-01-03 | SAMSON LONE STAR,... | Tank Battery         |       114 |   119,062 |\n",
      "| DENTON      | 2011-01-04 | BURLINGTON RESOUR... | Other                |        23 |   119,045 |\n",
      "| CRANE       | 2011-01-04 | APACHE CORPORATION   | Tank Battery         |        30 |   119,071 |\n",
      "| IRION       | 2011-01-05 | PIONEER NATURAL R... | Tank Battery         |        35 |   119,043 |\n",
      "| GLASSCOCK   | 2011-01-05 | PLAINS MARKETING,... | Pipe Line            |        10 |   119,086 |\n",
      "| MARTIN      | 2011-01-05 | CROWNQUEST OPERAT... | Separator-Gun Bar... |        88 |   119,591 |\n",
      "| TOM GREEN   | 2011-01-05 | STAR PRODUCTION, ... | Tank Battery         |       115 |   119,620 |\n",
      "| GAINES      | 2011-01-06 | PLAINS PIPELINE L.P. | Pipe Line            |        12 |   119,087 |\n",
      "| NOLAN       | 2011-01-09 | PLANTATION OPERAT... | Flow Line            |        12 |   119,044 |\n",
      "| HEMPHILL    | 2011-01-09 | UNIT PETROLEUM CO... | Tank Battery         |         7 |   119,672 |\n",
      "| ECTOR       | 2011-01-11 | APACHE CORPORATION   | Valve                |        70 |   119,437 |\n",
      "| UPTON       | 2011-01-11 | APACHE CORPORATION   | Tank Battery         |        20 |   119,065 |\n",
      "| CRANE       | 2011-01-11 | APACHE CORPORATION   | Tank Battery         |        70 |   119,072 |\n",
      "| LIPSCOMB    | 2011-01-11 | BP AMERICA PRODUC... | Tank Battery         |         8 |   119,673 |\n",
      "| GLASSCOCK   | 2011-01-12 | PIONEER NATURAL R... | Stuffing Box         |         8 |   119,117 |\n",
      "| KING        | 2011-01-12 | SAUDER MANAGEMENT... | Flow Line            |         5 |   119,088 |\n",
      "| WARD        | 2011-01-12 | APACHE CORPORATION   | Tank Battery         |       480 |   119,069 |\n",
      "| HARRISON    | 2011-01-12 | EXCO OPERATING CO... | Tank Battery         |        88 |   119,096 |\n",
      "| WHEELER     | 2011-01-12 | APACHE CORPORATION   | Tank Battery         |        60 |   119,674 |\n",
      "| MARTIN      | 2011-01-13 | COG OPERATING LLC    | Tank Battery         |        25 |   119,126 |\n",
      "| TAYLOR      | 2011-01-13 | SOJOURNER DRILLIN... | Tank Battery         |        68 |   119,057 |\n",
      "| KARNES      | 2011-01-13 | EOG RESOURCES, INC.  | Flow Line            |        10 |   119,589 |\n",
      "| MIDLAND     | 2011-01-14 | PIONEER NATURAL R... | Tank Battery         |        10 |   119,083 |\n",
      "| CRANE       | 2011-01-14 | BURLINGTON RES O ... | Tank Battery         |        20 |   119,074 |\n",
      "| WEBB        | 2011-01-14 | ROSETTA RESOURCES... | Tank Battery         |        23 |   119,181 |\n",
      "| ECTOR       | 2011-01-15 | APACHE CORPORATION   | Flow Line            |         7 |   119,070 |\n",
      "| IRION       | 2011-01-15 | REMUDA OPERATING ... | Tank Battery         |        35 |   119,764 |\n",
      "| YOAKUM      | 2011-01-16 | OCCIDENTAL PERMIA... | Tank Battery         |        60 |   119,411 |\n",
      "| ECTOR       | 2011-01-16 | OCCIDENTAL PERMIA... | Pipe Line            |        30 |   119,081 |\n",
      "| LIPSCOMB    | 2011-01-16 | DCP MIDSTREAM, LP    | Tank Battery         |        15 |   119,675 |\n",
      "| UPTON       | 2011-01-17 | COG OPERATING LLC    | Tank Battery         |        75 |   119,067 |\n",
      "| ANDREWS     | 2011-01-17 | SANDRIDGE EXPL. A... | Valve                |        10 |   119,237 |\n",
      "| ANDREWS     | 2011-01-17 | SANDRIDGE EXPL. A... | Tank Battery         |         5 |   119,236 |\n",
      "| SCURRY      | 2011-01-18 | EOG RESOURCES, INC.  | Tank Battery         |       300 |   119,099 |\n",
      "| STONEWALL   | 2011-01-18 | HUNT OIL COMPANY     | Tank Battery         |        33 |   119,064 |\n",
      "| WARD        | 2011-01-19 | ANADARKO PETROLEU... | Tank Battery         |        22 |   119,068 |\n",
      "| MARTIN      | 2011-01-21 | ENERGEN RESOURCES... | Flow Line            |        18 |   119,078 |\n",
      "| YOAKUM      | 2011-01-21 | OCCIDENTAL PERMIA... | Tank Battery         |         5 |   119,477 |\n",
      "| WISE        | 2011-01-22 | DEVON ENERGY PROD... | Tank Battery         |        12 |   119,113 |\n",
      "| WARD        | 2011-01-22 | ANADARKO PETROLEU... | Tank Battery         |        13 |   119,590 |\n",
      "| TAYLOR      | 2011-01-23 | PIONEER NATURAL R... | Tank Battery         |        10 |   119,058 |\n",
      "| GREGG       | 2011-01-24 | GAS SOLUTIONS II ... | Pipe Line            |         2 |   119,419 |\n",
      "| UPTON       | 2011-01-24 | COG OPERATING LLC    | Tank Battery         |        18 |   119,066 |\n",
      "| MIDLAND     | 2011-01-24 | PIONEER NATURAL R... | Tank Battery         |        35 |   119,085 |\n",
      "| MIDLAND     | 2011-01-24 | PIONEER NATURAL R... | Tank Battery         |        40 |   119,084 |\n",
      "| GAINES      | 2011-01-24 | XTO ENERGY INC.      | Other                |       300 |   119,518 |\n",
      "| REAGAN      | 2011-01-25 | BROAD OAK ENERGY,... | Valve                |        12 |   119,101 |\n",
      "| DE WITT     | 2011-01-25 | EFS MIDSTREAM LLC    | Tank Battery         |        10 |   119,059 |\n",
      "| ANDREWS     | 2011-01-25 | SANDRIDGE EXPL. A... | Tank Battery         |        35 |   119,238 |\n",
      "| LIPSCOMB    | 2011-01-25 | HOLMES EXPLORATIO... | Tank Battery         |       100 |   119,849 |\n",
      "| LIPSCOMB    | 2011-01-25 | DCP MIDSTREAM, LP    | Pipe Line            |         3 |   119,676 |\n",
      "| GONZALES    | 2011-01-27 | EOG RESOURCES, INC.  | Other                |        40 |   119,317 |\n",
      "| GRIMES      | 2011-01-27 | ENTERPRISE CRUDE ... | Pipe Line            |     6,911 |   119,107 |\n",
      "| REAGAN      | 2011-01-27 | PIONEER NATURAL R... | Tank Battery         |       152 |   119,061 |\n",
      "| HARDIN      | 2011-01-27 | ADDISON OIL, LLC     | Pipe Line            |        20 |   119,060 |\n",
      "| BORDEN      | 2011-01-28 | SM ENERGY COMPANY    | Tank Battery         |        44 |   119,592 |\n",
      "| WOOD        | 2011-01-29 | EXXON MOBIL CORPO... | Separator-Gun Bar... |       122 |   119,055 |\n",
      "| ECTOR       | 2011-01-29 | PIONEER NATURAL R... | Tank Battery         |        40 |   119,082 |\n",
      "| HEMPHILL    | 2011-01-29 | CHESAPEAKE OPERAT... | Tank Battery         |        32 |   119,677 |\n",
      "| PANOLA      | 2011-01-30 | XTO ENERGY INC.      | Tank Battery         |       187 |   119,414 |\n",
      "| ECTOR       | 2011-01-31 | SOUTHWEST ROYALTI... | Tank Battery         |         5 |   119,089 |\n",
      "| KENEDY      | 2011-02-01 | NEWFIELD EXPLORAT... | Tank Battery         |        80 |   119,049 |\n",
      "| YOAKUM      | 2011-02-01 | XTO ENERGY INC.      | Tank Battery         |        10 |   119,163 |\n",
      "| WINKLER     | 2011-02-02 | APACHE CORPORATION   | Pump Station or T... |         6 |   119,326 |\n",
      "| PANOLA      | 2011-02-02 | TGG PIPELINE, LTD.   | Flow Line            |       142 |   119,302 |\n",
      "| RUSK        | 2011-02-02 | GOODRICH PETROLEU... | Tank Battery         |        23 |   119,114 |\n",
      "| PALO PINTO  | 2011-02-02 | NFM TEXAS GATHERI... | Tank Battery         |       200 |   119,112 |\n",
      "| MARTIN      | 2011-02-02 | PIONEER NATURAL R... | Flow Line            |        15 |   119,123 |\n",
      "| RUSK        | 2011-02-02 | GOODRICH PETROLEU... | Tank Battery         |        23 |   119,063 |\n",
      "| LEE         | 2011-02-02 | ENERVEST OPERATIN... | Tank Battery         |        16 |   119,047 |\n",
      "| ANDREWS     | 2011-02-02 | SANDRIDGE EXPL. A... | Valve                |         7 |   119,218 |\n",
      "| PECOS       | 2011-02-02 | SANDRIDGE EXPL. A... | Tank Battery         |        11 |   119,224 |\n",
      "| PANOLA      | 2011-02-02 | TGG PIPELINE, LTD.   | Pipe Line            |       142 |   119,250 |\n",
      "| PECOS       | 2011-02-02 | SANDRIDGE EXPL. A... | Tank Battery         |        16 |   119,240 |\n",
      "| MIDLAND     | 2011-02-02 | CONOCOPHILLIPS CO... | Tank Battery         |        33 |   119,596 |\n",
      "| PECOS       | 2011-02-03 | KINDER MORGAN PRO... | Tank Battery         |        30 |   119,127 |\n",
      "| REAGAN      | 2011-02-03 | PARSLEY ENERGY OP... | Flow Line            |         8 |   119,056 |\n",
      "| ANDREWS     | 2011-02-03 | SANDRIDGE EXPL. A... | Tank Battery         |        20 |   119,217 |\n",
      "| YOAKUM      | 2011-02-03 | OCCIDENTAL PERMIA... | Tank Battery         |        20 |   119,682 |\n",
      "| GAINES      | 2011-02-04 | OCCIDENTAL PERMIA... | Tank Battery         |       200 |   119,410 |\n",
      "| CROCKETT    | 2011-02-04 | ASPEN OPERATING C... | Tank Battery         |        15 |   119,102 |\n",
      "| PECOS       | 2011-02-04 | SANDRIDGE EXPL. A... | Tank Battery         |       100 |   119,229 |\n",
      "| CRANE       | 2011-02-05 | APACHE CORPORATION   | Tank Battery         |        90 |   119,325 |\n",
      "| JIM HOGG    | 2011-02-05 | CABOT OIL & GAS C... | Tank Battery         |        34 |   119,095 |\n",
      "| MARTIN      | 2011-02-05 | CROWNQUEST OPERAT... | Separator-Gun Bar... |        26 |   119,077 |\n",
      "| PECOS       | 2011-02-05 | SANDRIDGE EXPL. A... | Tank Battery         |        15 |   119,230 |\n",
      "| PECOS       | 2011-02-05 | SANDRIDGE EXPL. A... | Tank Battery         |        30 |   119,232 |\n",
      "| PECOS       | 2011-02-05 | SANDRIDGE EXPL. A... | Tank Battery         |        35 |   119,233 |\n",
      "| PECOS       | 2011-02-05 | SANDRIDGE EXPL. A... | Tank Battery         |        30 |   119,231 |\n",
      "| CRANE       | 2011-02-05 | XTO ENERGY INC.      | Flow Line            |        45 |   119,162 |\n",
      "| DENTON      | 2011-02-06 | CONOCOPHILLIPS CO... | Other                |        84 |   119,046 |\n",
      "| DAWSON      | 2011-02-06 | COG OPERATING LLC    | Tank Battery         |        50 |   119,076 |\n",
      "| PECOS       | 2011-02-06 | SANDRIDGE EXPL. A... | Tank Battery         |        30 |   119,219 |\n",
      "| PECOS       | 2011-02-06 | SANDRIDGE EXPL. A... | Tank Battery         |        30 |   119,220 |\n",
      "| WINKLER     | 2011-02-07 | APACHE CORPORATION   | Tank Battery         |       250 |   119,327 |\n",
      "| HOCKLEY     | 2011-02-07 | OCCIDENTAL PERMIA... | Pipe Line            |        35 |   119,116 |\n",
      "| MARTIN      | 2011-02-07 | PIONEER NATURAL R... | Valve                |         9 |   119,124 |\n",
      "| GAINES      | 2011-02-07 | TABULA RASA ENERG... | Tank Battery         |        70 |   119,129 |\n",
      "| NACOGDOCHES | 2011-02-07 | SAMSON LONE STAR,... | Tank Battery         |        15 |   119,054 |\n",
      "| NUECES      | 2011-02-07 | DCP MIDSTREAM, LP    | Tank Battery         |       792 |   119,094 |\n",
      "| WARD        | 2011-02-07 | GRAND FALLS SYNDI... | Tank Battery         |       148 |   119,243 |\n",
      "| YOAKUM      | 2011-02-07 | APACHE CORPORATION   | Flow Line            |        60 |   119,521 |\n",
      "| HUTCHINSON  | 2011-02-07 | LINN OPERATING, INC. | Flow Line            |         9 |   119,678 |\n",
      "| ECTOR       | 2011-02-08 | OXY USA INC.         | Flow Line            |        15 |   119,469 |\n",
      "| WINKLER     | 2011-02-08 | PLAINS PIPELINE L.P. | Pipe Line            |       150 |   119,119 |\n",
      "| IRION       | 2011-02-08 | LEGACY RESERVES O... | Tank Battery         |        10 |   119,105 |\n",
      "| ECTOR       | 2011-02-08 | GREAT WESTERN DRI... | Flow Line            |         1 |   119,134 |\n",
      "| PECOS       | 2011-02-08 | SANDRIDGE EXPL. A... | Tank Battery         |        13 |   119,223 |\n",
      "| UPTON       | 2011-02-08 | SUMMIT PETROLEUM LLC | Tank Battery         |        35 |   119,185 |\n",
      "| WHEELER     | 2011-02-08 | CHESAPEAKE OPERAT... | Tank Battery         |        20 |   119,679 |\n",
      "| MARTIN      | 2011-02-09 | CHESAPEAKE OPERAT... | Valve                |        16 |   119,315 |\n",
      "| MADISON     | 2011-02-09 | BARROW-SHAVER RES... | Tank Battery         |         5 |   119,109 |\n",
      "| MIDLAND     | 2011-02-09 | HENRY RESOURCES LLC  | Flow Line            |         6 |   119,122 |\n",
      "| ECTOR       | 2011-02-09 | XTO ENERGY INC.      | Tank Battery         |        13 |   119,132 |\n",
      "| REAGAN      | 2011-02-09 | BROAD OAK ENERGY,... | Tank Battery         |        10 |   119,093 |\n",
      "| ANDREWS     | 2011-02-09 | CHESAPEAKE OPERAT... | Tank Battery         |        10 |   119,075 |\n",
      "| REAGAN      | 2011-02-09 | APACHE CORPORATION   | Tank Battery         |       448 |   119,198 |\n",
      "| YOAKUM      | 2011-02-09 | APACHE CORPORATION   | Valve                |        15 |   119,522 |\n",
      "| HEMPHILL    | 2011-02-09 | SAMSON LONE STAR,... | Tank Battery         |       187 |   119,680 |\n",
      "| ECTOR       | 2011-02-10 | OCCIDENTAL PERMIA... | Valve                |        12 |   119,470 |\n",
      "| EASTLAND    | 2011-02-10 | ENBRIDGE G & P (N... | Tank Battery         |        30 |   119,110 |\n",
      "| Austin      | 2011-02-10 | ENHANCED ENERGY P... | Tank Battery         |         5 |   119,108 |\n",
      "| GAINES      | 2011-02-10 | ENERGEN RESOURCES... | Tank Battery         |        90 |   119,130 |\n",
      "| WISE        | 2011-02-10 | MERIT ENERGY COMPANY | Tank Battery         |        95 |   119,091 |\n",
      "| ANDREWS     | 2011-02-10 | EXXON MOBIL CORPO... | Tank Battery         |        14 |   119,080 |\n",
      "| PECOS       | 2011-02-10 | SANDRIDGE EXPL. A... | Tank Battery         |        24 |   119,228 |\n",
      "| PECOS       | 2011-02-10 | SANDRIDGE EXPL. A... | Tank Battery         |        52 |   119,227 |\n",
      "| PECOS       | 2011-02-10 | SANDRIDGE EXPL. A... | Tank Battery         |        68 |   119,226 |\n",
      "| PECOS       | 2011-02-10 | SANDRIDGE EXPL. A... | Tank Battery         |        18 |   119,225 |\n",
      "| ANDREWS     | 2011-02-10 | SANDRIDGE EXPL. A... | Tank Battery         |         6 |   119,222 |\n",
      "| ANDREWS     | 2011-02-10 | SANDRIDGE EXPL. A... | Tank Battery         |         6 |   119,221 |\n",
      "| YOAKUM      | 2011-02-10 | OCCIDENTAL PERMIA... | Flow Line            |         9 |   119,873 |\n",
      "| YOAKUM      | 2011-02-10 | APACHE CORPORATION   | Flow Line            |        30 |   119,523 |\n",
      "| ROBERTS     | 2011-02-10 | RANGE PRODUCTION ... | Tank Battery         |        22 |   119,648 |\n",
      "| WINKLER     | 2011-02-11 | SOUTHERN UNION GA... | Pipe Line            |         6 |   119,118 |\n",
      "| TERRELL     | 2011-02-11 | EXCO RESOURCES, INC. | Tank Battery         |        23 |   119,053 |\n",
      "| TERRELL     | 2011-02-11 | MARLIN ENERGY SOU... | Tank Battery         |        17 |   119,052 |\n",
      "| TERRELL     | 2011-02-11 | MARLIN ENERGY SOU... | Tank Battery         |        17 |   119,050 |\n",
      "| REAGAN      | 2011-02-11 | PLAINS MARKETING,... | Tank Battery         |        63 |   119,092 |\n",
      "| MARTIN      | 2011-02-11 | ENERGEN RESOURCES... | Tank Battery         |       130 |   119,090 |\n",
      "| ANDREWS     | 2011-02-11 | SANDRIDGE EXPL. A... | Tank Battery         |       130 |   119,216 |\n",
      "| ANDREWS     | 2011-02-12 | NRPC OPERATING II... | Tank Battery         |        60 |   119,396 |\n",
      "| GREGG       | 2011-02-12 | SUNOCO PIPELINE L.P. | Pipe Line            |        40 |   119,418 |\n",
      "| ORANGE      | 2011-02-12 | CHROMA OPERATING,... | Tank Battery         |         6 |   119,137 |\n",
      "| MARTIN      | 2011-02-13 | BERRY OIL COMP.      | Tank Battery         |       100 |   119,125 |\n",
      "| TERRELL     | 2011-02-13 | MARLIN ENERGY SOU... | Tank Battery         |        94 |   119,048 |\n",
      "| REAGAN      | 2011-02-13 | ENDEAVOR ENERGY R... | Tank Battery         |       130 |   119,612 |\n",
      "| SCURRY      | 2011-02-14 | LEGACY RESERVES O... | Flow Line            |        15 |   119,098 |\n",
      "| CROCKETT    | 2011-02-14 | APPROACH OPERATIN... | Tank Battery         |        68 |   119,051 |\n",
      "| PECOS       | 2011-02-14 | EAGLE ROCK OPERAT... | Tank Battery         |        87 |   119,151 |\n",
      "| ECTOR       | 2011-02-14 | RSP PERMIAN, LLC     | Flow Line            |         4 |   119,520 |\n",
      "| MIDLAND     | 2011-02-15 | PARSLEY ENERGY OP... | Tank Battery         |        13 |   119,121 |\n",
      "| WINKLER     | 2011-02-15 | BTA OIL PRODUCERS... | Valve                |        15 |   119,073 |\n",
      "| HOCKLEY     | 2011-02-16 | APACHE CORPORATION   | Flow Line            |        90 |   119,524 |\n",
      "| ROBERTS     | 2011-02-16 | DEVON ENERGY PROD... | Tank Battery         |       220 |   119,649 |\n",
      "| UPTON       | 2011-02-17 | PIONEER NATURAL R... | Tank Battery         |        12 |   119,106 |\n",
      "| HOWARD      | 2011-02-17 | MERIT ENERGY COMPANY | Flow Line            |        10 |   119,156 |\n",
      "| UPTON       | 2011-02-18 | XOG OPERATING LLC    | Valve                |        15 |   119,274 |\n",
      "| UPTON       | 2011-02-18 | HUNT OIL COMPANY     | Flow Line            |        20 |   119,138 |\n",
      "| COOKE       | 2011-02-19 | CHAPARRAL ENERGY,... | Tank Battery         |       100 |   119,316 |\n",
      "| MIDLAND     | 2011-02-19 | PDC ENERGY           | Tank Battery         |       130 |   119,120 |\n",
      "| RUSK        | 2011-02-19 | BASA RESOURCES, INC. | Flow Line            |         4 |   119,115 |\n",
      "| IRION       | 2011-02-20 | APACHE CORPORATION   | Flow Line            |         6 |   119,199 |\n",
      "| COMANCHE    | 2011-02-21 | ENBRIDGE G & P (N... | Pipe Line            |         1 |   119,135 |\n",
      "| KLEBERG     | 2011-02-21 | EXXON MOBIL CORPO... | Flow Line            |       130 |   119,097 |\n",
      "| YOAKUM      | 2011-02-22 | PLAINS PIPELINE L.P. | Pipe Line            |        10 |   119,838 |\n",
      "| WARD        | 2011-02-23 | ANADARKO PETROLEU... | Tank Battery         |        22 |   119,148 |\n",
      "| WARD        | 2011-02-23 | ANADARKO PETROLEU... | Stuffing Box         |        22 |   119,205 |\n",
      "| YOAKUM      | 2011-02-24 | OCCIDENTAL PERMIA... | Tank Battery         |        10 |   119,453 |\n",
      "| CALLAHAN    | 2011-02-24 | BRIDWELL OIL CO.     | Tank Battery         |        38 |   119,111 |\n",
      "| ANDREWS     | 2011-02-24 | DISCOVERY OPERATI... | Tank Battery         |        85 |   119,131 |\n",
      "| PECOS       | 2011-02-24 | APACHE CORPORATION   | Tank Battery         |        10 |   119,128 |\n",
      "| CARSON      | 2011-02-24 | STINN-TEX, INC.      | Tank Battery         |       210 |   119,650 |\n",
      "| ECTOR       | 2011-02-25 | DEVON ENERGY PROD... | Tank Battery         |        32 |   119,133 |\n",
      "| FRANKLIN    | 2011-02-25 | XTO ENERGY INC.      | Flow Line            |        64 |   119,168 |\n",
      "| CROCKETT    | 2011-02-28 | BROTHERTON PRODUC... | Tank Battery         |       136 |   119,103 |\n",
      "| PECOS       | 2011-02-28 | PREMIER NATURAL R... | Tank Battery         |       106 |   119,244 |\n",
      "| DAWSON      | 2011-02-28 | FASKEN OIL AND RA... | Tank Battery         |        51 |   119,154 |\n",
      "| PARKER      | 2011-03-01 | SOUTHWESTERN GAS ... | Pipe Line            |         1 |   119,144 |\n",
      "| ANDREWS     | 2011-03-01 | SANDRIDGE EXPL. A... | Tank Battery         |        10 |   119,239 |\n",
      "| NACOGDOCHES | 2011-03-01 | CHESAPEAKE OPERAT... | Tank Battery         |        70 |   119,188 |\n",
      "| IRION       | 2011-03-01 | FIML NATURAL RESO... | Tank Battery         |       125 |   119,688 |\n",
      "| UPTON       | 2011-03-03 | COG OPERATING LLC    | Flow Line            |        10 |   119,104 |\n",
      "| ECTOR       | 2011-03-03 | DCP MIDSTREAM, LP    | Other                |        12 |   119,173 |\n",
      "| EASTLAND    | 2011-03-05 | LOWRANCE INC.        | Tank Battery         |       131 |   119,166 |\n",
      "| HOWARD      | 2011-03-05 | SHERIDAN PRODUCTI... | Tank Battery         |       200 |   119,160 |\n",
      "| GLASSCOCK   | 2011-03-05 | PIONEER NATURAL R... | Tank Battery         |        10 |   119,159 |\n",
      "| GLASSCOCK   | 2011-03-05 | MERIT ENERGY COMPANY | Tank Battery         |        67 |   119,157 |\n",
      "| CRANE       | 2011-03-05 | CHEVRON U. S. A. ... | Flow Line            |        42 |   119,191 |\n",
      "| GAINES      | 2011-03-06 | XTO ENERGY INC.      | Tank Battery         |        30 |   119,161 |\n",
      "| UPTON       | 2011-03-06 | EXXON MOBIL CORPO... | Flow Line            |        19 |   119,202 |\n",
      "| WEBB        | 2011-03-07 | ANADARKO HOLDING ... | Tank Battery         |        16 |   119,140 |\n",
      "| WHEELER     | 2011-03-07 | ENBRIDGE PIPELINE... | Pipe Line            |       612 |   119,651 |\n",
      "| ANDREWS     | 2011-03-08 | SANDRIDGE EXPL. A... | Tank Battery         |        10 |   119,215 |\n",
      "| ANDREWS     | 2011-03-08 | APACHE CORPORATION   | Tank Battery         |        27 |   119,211 |\n",
      "| YOUNG       | 2011-03-08 | WHITTEN ENERGY CORP. | Tank Battery         |       343 |   119,784 |\n",
      "| CROCKETT    | 2011-03-08 | ENDEAVOR ENERGY R... | Tank Battery         |       162 |   119,638 |\n",
      "| WARD        | 2011-03-09 | CIMAREX ENERGY CO... | Tank Battery         |       140 |   119,150 |\n",
      "| BEE         | 2011-03-09 | PIONEER NATURAL R... | Tank Battery         |        10 |   119,100 |\n",
      "| ...         |        ... | ...                  | ...                  |       ... |       ... |\n"
     ]
    }
   ],
   "source": [
    "spills_2011 = spills.where(lambda row: row['MasterYear'] == '2011')\n",
    "spills_2011.order_by('DateofLoss').select(county_columns).print_table(max_rows=200)"
   ]
  },
  {
   "cell_type": "markdown",
   "metadata": {},
   "source": [
    "## Spills per year"
   ]
  },
  {
   "cell_type": "code",
   "execution_count": 23,
   "metadata": {
    "collapsed": false
   },
   "outputs": [
    {
     "name": "stdout",
     "output_type": "stream",
     "text": [
      "| MasterYear | spill_cnt | spill_sum | spill_avg | spill_med |\n",
      "| ---------- | --------- | --------- | --------- | --------- |\n",
      "| 2009       |       675 |    55,996 |   82.957… |        30 |\n",
      "| 2010       |       796 |   109,203 |  137.190… |        32 |\n",
      "| 2011       |       869 |    74,933 |   86.229… |        32 |\n",
      "| 2012       |     1,236 |   129,664 |  104.906… |        30 |\n",
      "| 2013       |     1,354 |   118,136 |   87.250… |        30 |\n",
      "| 2014       |     1,405 |   105,388 |   75.009… |        21 |\n",
      "| 2015       |     1,485 |   120,266 |   80.987… |        25 |\n",
      "| 2016       |     1,014 |    78,412 |   77.329… |        25 |\n",
      "| 2017       |        69 |     9,330 |  135.217… |        23 |\n"
     ]
    }
   ],
   "source": [
    "spills_group_year = spills.group_by('MasterYear')\n",
    "spills_year_table = spills_group_year.aggregate([\n",
    "        ('spill_cnt', agate.Count()),\n",
    "        ('spill_sum', agate.Sum('GrossLoss')),\n",
    "        ('spill_avg', agate.Mean('GrossLoss')),\n",
    "        ('spill_med', agate.Median('GrossLoss'))\n",
    "    ]\n",
    ")\n",
    "spills_year_table.print_table()"
   ]
  },
  {
   "cell_type": "markdown",
   "metadata": {},
   "source": [
    "### Number of spills"
   ]
  },
  {
   "cell_type": "code",
   "execution_count": 24,
   "metadata": {
    "collapsed": false
   },
   "outputs": [
    {
     "name": "stdout",
     "output_type": "stream",
     "text": [
      "MasterYear spill_cnt\n",
      "2009             675 ▓░░░░░░░░░░░░░                         \n",
      "2010             796 ▓░░░░░░░░░░░░░░░                       \n",
      "2011             869 ▓░░░░░░░░░░░░░░░░░                     \n",
      "2012           1,236 ▓░░░░░░░░░░░░░░░░░░░░░░░               \n",
      "2013           1,354 ▓░░░░░░░░░░░░░░░░░░░░░░░░░░            \n",
      "2014           1,405 ▓░░░░░░░░░░░░░░░░░░░░░░░░░░░           \n",
      "2015           1,485 ▓░░░░░░░░░░░░░░░░░░░░░░░░░░░░          \n",
      "2016           1,014 ▓░░░░░░░░░░░░░░░░░░░                   \n",
      "2017              69 ▓░                                     \n",
      "                     +---------+--------+--------+---------+\n",
      "                     0        500     1,000    1,500   2,000\n"
     ]
    }
   ],
   "source": [
    "spills_year_table.print_bars('MasterYear', 'spill_cnt', width=60)"
   ]
  },
  {
   "cell_type": "markdown",
   "metadata": {},
   "source": [
    "### Barrels per year spilled"
   ]
  },
  {
   "cell_type": "code",
   "execution_count": 25,
   "metadata": {
    "collapsed": false
   },
   "outputs": [
    {
     "name": "stdout",
     "output_type": "stream",
     "text": [
      "MasterYear spill_sum\n",
      "2009          55,996 ▓░░░░░░░░░░░                           \n",
      "2010         109,203 ▓░░░░░░░░░░░░░░░░░░░░░                 \n",
      "2011          74,933 ▓░░░░░░░░░░░░░░                        \n",
      "2012         129,664 ▓░░░░░░░░░░░░░░░░░░░░░░░░░             \n",
      "2013         118,136 ▓░░░░░░░░░░░░░░░░░░░░░░                \n",
      "2014         105,388 ▓░░░░░░░░░░░░░░░░░░░░                  \n",
      "2015         120,266 ▓░░░░░░░░░░░░░░░░░░░░░░░               \n",
      "2016          78,412 ▓░░░░░░░░░░░░░░░                       \n",
      "2017           9,330 ▓░░                                    \n",
      "                     +---------+--------+------------------+\n",
      "                     0      50,000   100,000         200,000\n"
     ]
    }
   ],
   "source": [
    "spills_year_table.print_bars('MasterYear', 'spill_sum', width=60)"
   ]
  },
  {
   "cell_type": "markdown",
   "metadata": {},
   "source": [
    "## Searching for the company\n",
    "Looking for Magellan Midstream Partners or anything like them any any columns"
   ]
  },
  {
   "cell_type": "code",
   "execution_count": 26,
   "metadata": {
    "collapsed": false
   },
   "outputs": [],
   "source": [
    "# this function allows me to imput a column name\n",
    "# and get distinct matchinhg results\n",
    "def search_column(column_name):\n",
    "    result = spills.where(lambda row: re.search(\n",
    "        'MAGELLAN|MIDSTREAM', str(row[column_name])\n",
    "    ))\n",
    "    \n",
    "    print('Searching the \\'{}\\' column for MAGELLAN or MIDSTREAM \\\n",
    "    and found these distinct names. (If blank, there are none):'.format(\n",
    "        column_name\n",
    "        ))\n",
    "    \n",
    "    return result.columns[column_name].values_distinct()"
   ]
  },
  {
   "cell_type": "code",
   "execution_count": 27,
   "metadata": {
    "collapsed": false
   },
   "outputs": [
    {
     "name": "stdout",
     "output_type": "stream",
     "text": [
      "Searching the 'OperatorNumber' column for MAGELLAN or MIDSTREAM     and found these distinct names. (If blank, there are none):\n"
     ]
    },
    {
     "data": {
      "text/plain": [
       "('DCP MIDSTREAM, LP',\n",
       " 'CHESAPEAKE MIDSTREAM PARTNERSLLC',\n",
       " 'VITOL MIDSTREAM PIPELINE LLC',\n",
       " 'GAVILON MIDSTREAM ENERGY, LLC',\n",
       " 'VITOL MIDSTREAM LLC',\n",
       " 'ENLINK MIDSTREAM SERVICES, LLC',\n",
       " 'TARGA MIDSTREAM SERVICES LP',\n",
       " 'TRINITY RIVER MIDSTREAM, LLC',\n",
       " 'EFS MIDSTREAM LLC',\n",
       " 'DCP MIDSTREAM MARKETING, LP',\n",
       " 'DCP MIDSTREAM MARKETING, LLC',\n",
       " 'TARGA MIDSTREAM SERVICES LLC',\n",
       " 'TALCO MIDSTREAM ASSETS, LTD.',\n",
       " 'PARADIGM MIDSTREAM SVCS-ST, LLC',\n",
       " 'NAVARRO MIDSTREAM SERVICES, LLC',\n",
       " 'ENABLE MIDSTREAM PARTNERS, LP',\n",
       " 'TARGA SOUTHTEX MIDSTREAM CO LP',\n",
       " 'CCS MIDSTREAM SERVICES, LLC')"
      ]
     },
     "execution_count": 27,
     "metadata": {},
     "output_type": "execute_result"
    }
   ],
   "source": [
    "search_column('OperatorNumber')"
   ]
  },
  {
   "cell_type": "code",
   "execution_count": 28,
   "metadata": {
    "collapsed": false
   },
   "outputs": [
    {
     "name": "stdout",
     "output_type": "stream",
     "text": [
      "Searching the 'LeaseName' column for MAGELLAN or MIDSTREAM     and found these distinct names. (If blank, there are none):\n"
     ]
    },
    {
     "data": {
      "text/plain": [
       "()"
      ]
     },
     "execution_count": 28,
     "metadata": {},
     "output_type": "execute_result"
    }
   ],
   "source": [
    "search_column('LeaseName')"
   ]
  },
  {
   "cell_type": "code",
   "execution_count": 29,
   "metadata": {
    "collapsed": false
   },
   "outputs": [
    {
     "name": "stdout",
     "output_type": "stream",
     "text": [
      "Searching the 'FieldNumber' column for MAGELLAN or MIDSTREAM     and found these distinct names. (If blank, there are none):\n"
     ]
    },
    {
     "data": {
      "text/plain": [
       "()"
      ]
     },
     "execution_count": 29,
     "metadata": {},
     "output_type": "execute_result"
    }
   ],
   "source": [
    "search_column('FieldNumber')"
   ]
  },
  {
   "cell_type": "code",
   "execution_count": 30,
   "metadata": {
    "collapsed": false
   },
   "outputs": [
    {
     "name": "stdout",
     "output_type": "stream",
     "text": [
      "Searching the 'Location' column for MAGELLAN or MIDSTREAM     and found these distinct names. (If blank, there are none):\n"
     ]
    },
    {
     "data": {
      "text/plain": [
       "('ROUND TOP BOOSTER IS A NATURAL GAS, MIDSTREAM COMPRESSOR STATION',)"
      ]
     },
     "execution_count": 30,
     "metadata": {},
     "output_type": "execute_result"
    }
   ],
   "source": [
    "search_column('Location')"
   ]
  },
  {
   "cell_type": "code",
   "execution_count": 31,
   "metadata": {
    "collapsed": false
   },
   "outputs": [
    {
     "name": "stdout",
     "output_type": "stream",
     "text": [
      "Searching the 'Remarks' column for MAGELLAN or MIDSTREAM     and found these distinct names. (If blank, there are none):\n"
     ]
    },
    {
     "data": {
      "text/plain": [
       "()"
      ]
     },
     "execution_count": 31,
     "metadata": {},
     "output_type": "execute_result"
    }
   ],
   "source": [
    "search_column('Remarks')"
   ]
  },
  {
   "cell_type": "markdown",
   "metadata": {},
   "source": [
    "### Bulletproofing\n",
    "\n",
    "Various looks to make sure all is good"
   ]
  },
  {
   "cell_type": "code",
   "execution_count": 32,
   "metadata": {
    "collapsed": false
   },
   "outputs": [
    {
     "name": "stdout",
     "output_type": "stream",
     "text": [
      "| Unique_ID | Count |\n",
      "| --------- | ----- |\n",
      "|   117,569 |     1 |\n",
      "|   117,565 |     1 |\n",
      "|   117,622 |     1 |\n",
      "|   118,015 |     1 |\n",
      "|   117,634 |     1 |\n"
     ]
    }
   ],
   "source": [
    "# check to make sure UniqueID is unique\n",
    "pivot_UniqueID = spills.pivot('Unique_ID')\n",
    "pivot_UniqueID.limit(5).print_table()"
   ]
  },
  {
   "cell_type": "code",
   "execution_count": 33,
   "metadata": {
    "collapsed": false
   },
   "outputs": [
    {
     "name": "stdout",
     "output_type": "stream",
     "text": [
      "| Corrected_Report | 2009 | 2010 | 2011 |  2014 |  2012 |  2013 |  2015 |  2016 | 2017 |\n",
      "| ---------------- | ---- | ---- | ---- | ----- | ----- | ----- | ----- | ----- | ---- |\n",
      "|            False |  675 |  796 |  869 | 1,405 |     0 |     0 |     0 |     0 |    0 |\n",
      "|                  |    0 |    0 |    0 |     0 | 1,236 | 1,354 | 1,485 | 1,014 |   69 |\n"
     ]
    }
   ],
   "source": [
    "# checks this 'Corrected_Report' column, which is only in some files, to see if any are true.\n",
    "# None are\n",
    "spills_corrected_pivot = spills.pivot('Corrected_Report', 'MasterYear')\n",
    "spills_corrected_pivot.print_table(max_columns=None)"
   ]
  },
  {
   "cell_type": "code",
   "execution_count": null,
   "metadata": {
    "collapsed": true
   },
   "outputs": [],
   "source": []
  }
 ],
 "metadata": {
  "kernelspec": {
   "display_name": "Python 3",
   "language": "python",
   "name": "python3"
  },
  "language_info": {
   "codemirror_mode": {
    "name": "ipython",
    "version": 3
   },
   "file_extension": ".py",
   "mimetype": "text/x-python",
   "name": "python",
   "nbconvert_exporter": "python",
   "pygments_lexer": "ipython3",
   "version": "3.5.1"
  }
 },
 "nbformat": 4,
 "nbformat_minor": 0
}
