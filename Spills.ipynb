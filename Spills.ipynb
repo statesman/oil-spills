{
 "cells": [
  {
   "cell_type": "markdown",
   "metadata": {},
   "source": [
    "# Oil spill data\n",
    "\n",
    "Downloaded from the [Railroad commission](http://www.rrc.state.tx.us/oil-gas/compliance-enforcement/h-8).\n",
    "\n",
    "The H-8 Loss Reports for crude oil, gas well liquids or associated products are available for download as an Excel compressed zip file by year. If you have questions or need assistance, contact Field Operations at 512-463-6830 or OGFOPS@rrc.texas.gov.\n",
    "\n",
    "\n",
    "Looking at these files to compare the Magellan Midstream Partners spill of July 13 in Bastrop County. It's been reported to be 87,528 gallons or is 2,084 barrel. RRC tells Andy Sevilla the data uses barrels.\n",
    "\n",
    "#### Our coverage\n",
    "- http://www.statesman.com/news/local/new-data-shows-bastrop-county-oil-spill-leaked-000-gallons/Y8YK4xM4uPE37actcJi1HP/\n",
    "- http://www.statesman.com/news/local/rolled-over-wheeler-spills-oil-onto-bastrop-roadway/PMhcfaqCXQ9U4V6FCX36WL/\n",
    "- http://www.mystatesman.com/news/opinion/commentary-what-the-bastrop-oil-spill-says-about-effective-regulation/8wkZRUj2ts2mXR8BZhDkQM/\n"
   ]
  },
  {
   "cell_type": "markdown",
   "metadata": {},
   "source": [
    "## Data prep\n",
    "\n",
    "Doing the import, setting data types, column names and stacking."
   ]
  },
  {
   "cell_type": "code",
   "execution_count": 1,
   "metadata": {
    "collapsed": false
   },
   "outputs": [],
   "source": [
    "import agate\n",
    "import agateexcel\n",
    "import re\n",
    "import warnings\n",
    "warnings.filterwarnings('ignore')"
   ]
  },
  {
   "cell_type": "code",
   "execution_count": 2,
   "metadata": {
    "collapsed": false
   },
   "outputs": [],
   "source": [
    "# sets column types where needed\n",
    "specified_type = {\n",
    "    'MasterYear': agate.Text(),\n",
    "    'Water': agate.Text(),\n",
    "    'WaterName': agate.Text()\n",
    "}\n",
    "# importing each file as a table\n",
    "# should be refactored as a loop\n",
    "h82009 = agate.Table.from_xlsx('raw-data/h8s-2009.xlsx', column_types=specified_type)\n",
    "h82010 = agate.Table.from_xlsx('raw-data/h8s-2010.xlsx', column_types=specified_type)\n",
    "h82011 = agate.Table.from_xlsx('raw-data/h8s-2011.xlsx', column_types=specified_type)\n",
    "h82012 = agate.Table.from_xlsx('raw-data/h8s-2012.xlsx', column_types=specified_type)\n",
    "h82013 = agate.Table.from_xlsx('raw-data/h8s-2013.xlsx', column_types=specified_type)\n",
    "h82014 = agate.Table.from_xlsx('raw-data/h8s-2014.xlsx', column_types=specified_type)\n",
    "h82015 = agate.Table.from_xlsx('raw-data/h8s-2015.xlsx', column_types=specified_type)\n",
    "h82016 = agate.Table.from_xlsx('raw-data/h8s-2016.xlsx', column_types=specified_type)\n",
    "h82017 = agate.Table.from_xlsx('raw-data/h8s-2017.xlsx', column_types=specified_type)"
   ]
  },
  {
   "cell_type": "code",
   "execution_count": 3,
   "metadata": {
    "collapsed": true
   },
   "outputs": [],
   "source": [
    "# renaming columns in some files for consistency.\n",
    "# this could/should be refacted as a loop\n",
    "\n",
    "column_names = {\n",
    "    'Form Number': 'FormNumber',\n",
    "    'Lease No': 'LeaseNumber',\n",
    "    'Gas ID': 'Gasident'\n",
    "}\n",
    "h82009r = h82009.rename(column_names)\n",
    "h82010r = h82010.rename(column_names)\n",
    "h82011r = h82011.rename(column_names)\n",
    "h82012r = h82012.rename(column_names)\n",
    "h82013r = h82013.rename(column_names)\n",
    "h82014r = h82014.rename(column_names)\n",
    "h82015r = h82015.rename(column_names)\n",
    "h82016r = h82016.rename(column_names)\n",
    "h82017r = h82017.rename(column_names)\n",
    "\n",
    "# combining into a single table\n",
    "spills = agate.Table.merge([\n",
    "        h82009r,\n",
    "        h82010r,\n",
    "        h82011r,\n",
    "        h82012r,\n",
    "        h82013r,\n",
    "        h82014r,\n",
    "        h82015r,\n",
    "        h82016r,\n",
    "        h82017r\n",
    "    ])\n",
    "\n"
   ]
  },
  {
   "cell_type": "code",
   "execution_count": 4,
   "metadata": {
    "collapsed": true
   },
   "outputs": [],
   "source": [
    "# send to csv to use elsewhere\n",
    "spills.to_csv('exports/spills.csv')"
   ]
  },
  {
   "cell_type": "code",
   "execution_count": 5,
   "metadata": {
    "collapsed": false
   },
   "outputs": [
    {
     "name": "stdout",
     "output_type": "stream",
     "text": [
      "| column           | data_type |\n",
      "| ---------------- | --------- |\n",
      "| MasterYear       | Text      |\n",
      "| FormNumber       | Number    |\n",
      "| District         | Text      |\n",
      "| OperatorNumber   | Text      |\n",
      "| DateofLoss       | Date      |\n",
      "| Type_Company_Cd  | Text      |\n",
      "| County           | Text      |\n",
      "| LeaseNumber      | Number    |\n",
      "| Gasident         | Number    |\n",
      "| CommNbr          | Number    |\n",
      "| TypeLiquid       | Text      |\n",
      "| GrossLoss        | Number    |\n",
      "| Recovered        | Number    |\n",
      "| NetLoss          | Number    |\n",
      "| Facility         | Text      |\n",
      "| CauseofLoss      | Text      |\n",
      "| Remedy           | Text      |\n",
      "| Corrected_Report | Boolean   |\n",
      "| Water            | Text      |\n",
      "| WaterName        | Text      |\n",
      "| Location         | Text      |\n",
      "| Remarks          | Text      |\n",
      "| LeaseName        | Text      |\n",
      "| FieldNumber      | Text      |\n",
      "| Into_Water       | Boolean   |\n",
      "| Unique_ID        | Number    |\n",
      "\n"
     ]
    }
   ],
   "source": [
    "# look at column names\n",
    "print(spills)"
   ]
  },
  {
   "cell_type": "markdown",
   "metadata": {},
   "source": [
    "## Overall spills by GrossLoss\n",
    "These are the top spills by the most lost."
   ]
  },
  {
   "cell_type": "code",
   "execution_count": 6,
   "metadata": {
    "collapsed": false
   },
   "outputs": [
    {
     "name": "stdout",
     "output_type": "stream",
     "text": [
      "Total number of records:\n",
      "8903\n"
     ]
    }
   ],
   "source": [
    "# checking number of records for spills\n",
    "print('Total number of records:\\n{}'.format(\n",
    "    spills.aggregate(agate.Count())\n",
    "))\n"
   ]
  },
  {
   "cell_type": "code",
   "execution_count": 7,
   "metadata": {
    "collapsed": false
   },
   "outputs": [
    {
     "name": "stdout",
     "output_type": "stream",
     "text": [
      "| DateofLoss | County       | GrossLoss |\n",
      "| ---------- | ------------ | --------- |\n",
      "| 2012-10-01 | HARRISON     |    31,000 |\n",
      "| 2010-02-09 | SAN PATRICIO |    25,000 |\n",
      "| 2010-08-08 | BRAZOS       |    15,000 |\n",
      "| 2010-10-11 | HOCKLEY      |    10,000 |\n",
      "| 2016-09-10 | NOLAN        |     8,600 |\n",
      "| 2011-01-27 | GRIMES       |     6,911 |\n",
      "| 2014-09-15 | HOUSTON      |     5,700 |\n",
      "| 2013-12-17 | ECTOR        |     5,000 |\n",
      "| 2017-01-30 | COLLIN       |     5,000 |\n",
      "| 2015-05-20 | STEPHENS     |     3,900 |\n",
      "| 2013-05-20 | STARR        |     3,500 |\n",
      "| 2009-06-17 | SCURRY       |     3,416 |\n",
      "| 2015-06-20 | FREESTONE    |     3,300 |\n",
      "| 2015-04-07 | TERRY        |     3,300 |\n",
      "| 2016-04-06 | LOVING       |     3,200 |\n",
      "| 2012-06-28 | DIMMIT       |     3,000 |\n",
      "| 2011-04-01 | HOWARD       |     2,583 |\n",
      "| 2012-01-30 | GAINES       |     2,572 |\n",
      "| 2015-05-11 | STEPHENS     |     2,500 |\n",
      "| 2009-01-29 | NUECES       |     2,400 |\n"
     ]
    }
   ],
   "source": [
    "# orders the spills table\n",
    "spills_ordered = spills.order_by(lambda row: row['GrossLoss'], reverse=True)\n",
    "# prints just to show the top in the list\n",
    "spills_ordered.select(['DateofLoss', 'County', 'GrossLoss']).limit(20).print_table()"
   ]
  },
  {
   "cell_type": "code",
   "execution_count": 8,
   "metadata": {
    "collapsed": false
   },
   "outputs": [
    {
     "name": "stdout",
     "output_type": "stream",
     "text": [
      "Looking at all spills by GrossLoss, the Bastrop spill ranks 24 in list of worst spills.\n"
     ]
    }
   ],
   "source": [
    "## would like to count number of spills greater than 2,084 gallons.\n",
    "spills_bigger = spills_ordered.where(lambda row: row['GrossLoss'] > 2084)\n",
    "\n",
    "print('Looking at all spills by GrossLoss, the Bastrop spill ranks {} in list of worst spills.'.format(\n",
    "        spills_bigger.aggregate(agate.Count()) + 1\n",
    "    ))"
   ]
  },
  {
   "cell_type": "markdown",
   "metadata": {},
   "source": [
    "## Overall spills by NetLoss\n",
    "Reordering all spills by NetLoss to account for barrels recovered. I'm not sure if there was oil recovered from the Bastrop spill, though.\n"
   ]
  },
  {
   "cell_type": "code",
   "execution_count": 9,
   "metadata": {
    "collapsed": false
   },
   "outputs": [
    {
     "name": "stdout",
     "output_type": "stream",
     "text": [
      "| DateofLoss | County    | NetLoss |\n",
      "| ---------- | --------- | ------- |\n",
      "| 2012-10-01 | HARRISON  |  31,000 |\n",
      "| 2016-09-10 | NOLAN     |   6,725 |\n",
      "| 2014-09-15 | HOUSTON   |   5,698 |\n",
      "| 2013-12-17 | ECTOR     |   5,000 |\n",
      "| 2013-05-20 | STARR     |   3,500 |\n",
      "| 2011-01-27 | GRIMES    |   3,304 |\n",
      "| 2012-06-28 | DIMMIT    |   3,000 |\n",
      "| 2011-04-01 | HOWARD    |   2,583 |\n",
      "| 2015-06-15 | KENT      |   2,063 |\n",
      "| 2013-10-28 | REAGAN    |   2,000 |\n",
      "| 2009-06-17 | SCURRY    |   1,835 |\n",
      "| 2014-09-27 | CULBERSON |   1,700 |\n",
      "| 2010-08-09 | REAGAN    |   1,600 |\n",
      "| 2012-01-30 | GAINES    |   1,472 |\n",
      "| 2015-02-01 | FORT BEND |   1,452 |\n",
      "| 2013-12-14 | ECTOR     |   1,430 |\n",
      "| 2013-06-30 | UPTON     |   1,352 |\n",
      "| 2015-11-23 | ATASCOSA  |   1,213 |\n",
      "| 2015-01-07 | WEBB      |   1,130 |\n",
      "| 2014-11-04 | KLEBERG   |   1,100 |\n",
      "|        ... | ...       |     ... |\n"
     ]
    }
   ],
   "source": [
    "spills_netloss = spills.order_by(lambda row: row['NetLoss'], reverse=True)\n",
    "spills_netloss.select(['DateofLoss', 'County', 'NetLoss']).print_table()"
   ]
  },
  {
   "cell_type": "markdown",
   "metadata": {},
   "source": [
    "## Spills by 'Facility'"
   ]
  },
  {
   "cell_type": "code",
   "execution_count": 10,
   "metadata": {
    "collapsed": false
   },
   "outputs": [
    {
     "name": "stdout",
     "output_type": "stream",
     "text": [
      "| Facility             | spill_cnt | spill_sum | spill_avg | spill_med |\n",
      "| -------------------- | --------- | --------- | --------- | --------- |\n",
      "| Tank Battery         |     6,275 |   571,558 |   91.085… |      33.0 |\n",
      "| Flow Line            |       919 |    62,397 |   67.897… |      15.0 |\n",
      "| Other                |       362 |    29,764 |   82.221… |      30.0 |\n",
      "| Valve                |       354 |    20,163 |   56.958… |      15.0 |\n",
      "| Pipe Line            |       673 |    96,116 |  142.817… |      20.0 |\n",
      "| Pump Station or T... |        87 |    10,729 |  123.322… |      25.0 |\n",
      "| Stuffing Box         |       104 |     2,901 |   27.894… |      13.5 |\n",
      "| Separator-Gun Bar... |       108 |     6,595 |   61.065… |      21.0 |\n",
      "| Vehicle (Truck-Ba... |        21 |     1,105 |   52.619… |      20.0 |\n"
     ]
    }
   ],
   "source": [
    "spills_group_facility = spills.group_by('Facility')\n",
    "spills_facility_table = spills_group_facility.aggregate([\n",
    "        ('spill_cnt', agate.Count()),\n",
    "        ('spill_sum', agate.Sum('GrossLoss')),\n",
    "        ('spill_avg', agate.Mean('GrossLoss')),\n",
    "        ('spill_med', agate.Median('GrossLoss'))\n",
    "    ]\n",
    ")\n",
    "spills_facility_table.print_table()"
   ]
  },
  {
   "cell_type": "markdown",
   "metadata": {},
   "source": [
    "## Pipeline spills"
   ]
  },
  {
   "cell_type": "code",
   "execution_count": 11,
   "metadata": {
    "collapsed": false
   },
   "outputs": [
    {
     "name": "stdout",
     "output_type": "stream",
     "text": [
      "Number in spills_pipline:\n",
      "673\n"
     ]
    }
   ],
   "source": [
    "# filter to pipeline spills\n",
    "spills_pipelines = spills_ordered.where(lambda row: row['Facility'] == 'Pipe Line')\n",
    "\n",
    "# count result\n",
    "print('Number in spills_pipline:\\n{}'.format(\n",
    "   spills_pipelines.aggregate(agate.Count())\n",
    "    ))\n"
   ]
  },
  {
   "cell_type": "code",
   "execution_count": 12,
   "metadata": {
    "collapsed": false
   },
   "outputs": [
    {
     "name": "stdout",
     "output_type": "stream",
     "text": [
      "Top pipeline spills in gross loss barrels:\n",
      "\n",
      "| DateofLoss | County    | GrossLoss |\n",
      "| ---------- | --------- | --------- |\n",
      "| 2010-08-08 | BRAZOS    |    15,000 |\n",
      "| 2016-09-10 | NOLAN     |     8,600 |\n",
      "| 2011-01-27 | GRIMES    |     6,911 |\n",
      "| 2017-01-30 | COLLIN    |     5,000 |\n",
      "| 2012-01-30 | GAINES    |     2,572 |\n",
      "| 2011-11-15 | GALVESTON |     2,290 |\n",
      "| 2015-11-23 | ATASCOSA  |     2,000 |\n",
      "| 2009-07-23 | MIDLAND   |     1,912 |\n",
      "| 2010-08-09 | REAGAN    |     1,600 |\n",
      "| 2014-09-30 | JACK      |     1,034 |\n",
      "\n",
      "At 2,084 barrels (87,528 gallons) the Bastrop spill ranks 5th worst pipeline spill since 2009.\n"
     ]
    }
   ],
   "source": [
    "print('Top pipeline spills in gross loss barrels:\\n')\n",
    "\n",
    "# selecting and printing top records\n",
    "spills_pipelines.limit(10).select(['DateofLoss', 'County', 'GrossLoss']).print_table()\n",
    "\n",
    "print('\\nAt 2,084 barrels (87,528 gallons) the Bastrop spill ranks 5th worst pipeline spill since 2009.')"
   ]
  },
  {
   "cell_type": "markdown",
   "metadata": {},
   "source": [
    "## Bastrop spills listed"
   ]
  },
  {
   "cell_type": "code",
   "execution_count": 13,
   "metadata": {
    "collapsed": false
   },
   "outputs": [
    {
     "name": "stdout",
     "output_type": "stream",
     "text": [
      "| Unique_ID | DateofLoss | OperatorNumber         | Facility     | GrossLoss |\n",
      "| --------- | ---------- | ---------------------- | ------------ | --------- |\n",
      "|    60,943 | 2012-10-17 | CHALKER OPERATING INC. | Tank Battery |        40 |\n",
      "|    60,944 | 2012-09-02 | PLAINS PIPELINE L.P.   | Pipe Line    |         8 |\n"
     ]
    }
   ],
   "source": [
    "bastrop = spills_ordered.where(lambda row: row['County'] == 'BASTROP')\n",
    "\n",
    "columns = [\n",
    "    'Unique_ID',\n",
    "    'DateofLoss',\n",
    "    'OperatorNumber',\n",
    "    'Facility',\n",
    "    'GrossLoss'\n",
    "]\n",
    "bastrop.select(columns).print_table(max_column_width=None)"
   ]
  },
  {
   "cell_type": "markdown",
   "metadata": {},
   "source": [
    "## Spills per year"
   ]
  },
  {
   "cell_type": "code",
   "execution_count": 14,
   "metadata": {
    "collapsed": false
   },
   "outputs": [
    {
     "name": "stdout",
     "output_type": "stream",
     "text": [
      "| MasterYear | spill_cnt | spill_sum | spill_avg | spill_med |\n",
      "| ---------- | --------- | --------- | --------- | --------- |\n",
      "| 2009       |       675 |    55,996 |   82.957… |        30 |\n",
      "| 2010       |       796 |   109,203 |  137.190… |        32 |\n",
      "| 2011       |       869 |    74,933 |   86.229… |        32 |\n",
      "| 2012       |     1,236 |   129,664 |  104.906… |        30 |\n",
      "| 2013       |     1,354 |   118,136 |   87.250… |        30 |\n",
      "| 2014       |     1,405 |   105,388 |   75.009… |        21 |\n",
      "| 2015       |     1,485 |   120,266 |   80.987… |        25 |\n",
      "| 2016       |     1,014 |    78,412 |   77.329… |        25 |\n",
      "| 2017       |        69 |     9,330 |  135.217… |        23 |\n"
     ]
    }
   ],
   "source": [
    "spills_group_year = spills.group_by('MasterYear')\n",
    "spills_year_table = spills_group_year.aggregate([\n",
    "        ('spill_cnt', agate.Count()),\n",
    "        ('spill_sum', agate.Sum('GrossLoss')),\n",
    "        ('spill_avg', agate.Mean('GrossLoss')),\n",
    "        ('spill_med', agate.Median('GrossLoss'))\n",
    "    ]\n",
    ")\n",
    "spills_year_table.print_table()"
   ]
  },
  {
   "cell_type": "markdown",
   "metadata": {},
   "source": [
    "### Number of spills"
   ]
  },
  {
   "cell_type": "code",
   "execution_count": 15,
   "metadata": {
    "collapsed": false
   },
   "outputs": [
    {
     "name": "stdout",
     "output_type": "stream",
     "text": [
      "MasterYear spill_cnt\n",
      "2009             675 ▓░░░░░░░░░░░░░                         \n",
      "2010             796 ▓░░░░░░░░░░░░░░░                       \n",
      "2011             869 ▓░░░░░░░░░░░░░░░░░                     \n",
      "2012           1,236 ▓░░░░░░░░░░░░░░░░░░░░░░░               \n",
      "2013           1,354 ▓░░░░░░░░░░░░░░░░░░░░░░░░░░            \n",
      "2014           1,405 ▓░░░░░░░░░░░░░░░░░░░░░░░░░░░           \n",
      "2015           1,485 ▓░░░░░░░░░░░░░░░░░░░░░░░░░░░░          \n",
      "2016           1,014 ▓░░░░░░░░░░░░░░░░░░░                   \n",
      "2017              69 ▓░                                     \n",
      "                     +---------+--------+--------+---------+\n",
      "                     0        500     1,000    1,500   2,000\n"
     ]
    }
   ],
   "source": [
    "spills_year_table.print_bars('MasterYear', 'spill_cnt', width=60)"
   ]
  },
  {
   "cell_type": "markdown",
   "metadata": {},
   "source": [
    "### Barrels per year spilled"
   ]
  },
  {
   "cell_type": "code",
   "execution_count": 16,
   "metadata": {
    "collapsed": false
   },
   "outputs": [
    {
     "name": "stdout",
     "output_type": "stream",
     "text": [
      "MasterYear spill_sum\n",
      "2009          55,996 ▓░░░░░░░░░░░                           \n",
      "2010         109,203 ▓░░░░░░░░░░░░░░░░░░░░░                 \n",
      "2011          74,933 ▓░░░░░░░░░░░░░░                        \n",
      "2012         129,664 ▓░░░░░░░░░░░░░░░░░░░░░░░░░             \n",
      "2013         118,136 ▓░░░░░░░░░░░░░░░░░░░░░░                \n",
      "2014         105,388 ▓░░░░░░░░░░░░░░░░░░░░                  \n",
      "2015         120,266 ▓░░░░░░░░░░░░░░░░░░░░░░░               \n",
      "2016          78,412 ▓░░░░░░░░░░░░░░░                       \n",
      "2017           9,330 ▓░░                                    \n",
      "                     +---------+--------+------------------+\n",
      "                     0      50,000   100,000         200,000\n"
     ]
    }
   ],
   "source": [
    "spills_year_table.print_bars('MasterYear', 'spill_sum', width=60)"
   ]
  },
  {
   "cell_type": "markdown",
   "metadata": {},
   "source": [
    "## Searching for the company\n",
    "Looking for Magellan Midstream Partners or anything like them any any columns"
   ]
  },
  {
   "cell_type": "code",
   "execution_count": 31,
   "metadata": {
    "collapsed": false
   },
   "outputs": [],
   "source": [
    "# this function allows me to imput a column name\n",
    "# and get distinct matchinhg results\n",
    "def search_column(column_name):\n",
    "    result = spills.where(lambda row: re.search(\n",
    "        'MAGELLAN|MIDSTREAM', str(row[column_name])\n",
    "    ))\n",
    "    \n",
    "    print('Searching the \\'{}\\' column for MAGELLAN or MIDSTREAM \\\n",
    "    and found these distinct names. (If blank, there are none):'.format(\n",
    "        column_name\n",
    "        ))\n",
    "    \n",
    "    return result.columns[column_name].values_distinct()"
   ]
  },
  {
   "cell_type": "code",
   "execution_count": 32,
   "metadata": {
    "collapsed": false
   },
   "outputs": [
    {
     "name": "stdout",
     "output_type": "stream",
     "text": [
      "Searching the 'OperatorNumber' column for MAGELLAN or MIDSTREAM     and found these distinct names. (If blank, there are none):\n"
     ]
    },
    {
     "data": {
      "text/plain": [
       "('ENLINK MIDSTREAM SERVICES, LLC',\n",
       " 'DCP MIDSTREAM MARKETING, LLC',\n",
       " 'NAVARRO MIDSTREAM SERVICES, LLC',\n",
       " 'GAVILON MIDSTREAM ENERGY, LLC',\n",
       " 'TRINITY RIVER MIDSTREAM, LLC',\n",
       " 'EFS MIDSTREAM LLC',\n",
       " 'DCP MIDSTREAM, LP',\n",
       " 'TARGA MIDSTREAM SERVICES LP',\n",
       " 'VITOL MIDSTREAM PIPELINE LLC',\n",
       " 'TARGA SOUTHTEX MIDSTREAM CO LP',\n",
       " 'CCS MIDSTREAM SERVICES, LLC',\n",
       " 'CHESAPEAKE MIDSTREAM PARTNERSLLC',\n",
       " 'DCP MIDSTREAM MARKETING, LP',\n",
       " 'TALCO MIDSTREAM ASSETS, LTD.',\n",
       " 'VITOL MIDSTREAM LLC',\n",
       " 'PARADIGM MIDSTREAM SVCS-ST, LLC',\n",
       " 'TARGA MIDSTREAM SERVICES LLC',\n",
       " 'ENABLE MIDSTREAM PARTNERS, LP')"
      ]
     },
     "execution_count": 32,
     "metadata": {},
     "output_type": "execute_result"
    }
   ],
   "source": [
    "search_column('OperatorNumber')"
   ]
  },
  {
   "cell_type": "code",
   "execution_count": 19,
   "metadata": {
    "collapsed": false
   },
   "outputs": [
    {
     "name": "stdout",
     "output_type": "stream",
     "text": [
      "Searching the 'LeaseName' column for MAGELLAN or MIDSTREAM     and found these distinct names. (If blank, there are none):\n"
     ]
    },
    {
     "data": {
      "text/plain": [
       "()"
      ]
     },
     "execution_count": 19,
     "metadata": {},
     "output_type": "execute_result"
    }
   ],
   "source": [
    "search_column('LeaseName')"
   ]
  },
  {
   "cell_type": "code",
   "execution_count": 20,
   "metadata": {
    "collapsed": false
   },
   "outputs": [
    {
     "name": "stdout",
     "output_type": "stream",
     "text": [
      "Searching the 'FieldNumber' column for MAGELLAN or MIDSTREAM     and found these distinct names. (If blank, there are none):\n"
     ]
    },
    {
     "data": {
      "text/plain": [
       "()"
      ]
     },
     "execution_count": 20,
     "metadata": {},
     "output_type": "execute_result"
    }
   ],
   "source": [
    "search_column('FieldNumber')"
   ]
  },
  {
   "cell_type": "code",
   "execution_count": 21,
   "metadata": {
    "collapsed": false
   },
   "outputs": [
    {
     "name": "stdout",
     "output_type": "stream",
     "text": [
      "Searching the 'Location' column for MAGELLAN or MIDSTREAM     and found these distinct names. (If blank, there are none):\n"
     ]
    },
    {
     "data": {
      "text/plain": [
       "('ROUND TOP BOOSTER IS A NATURAL GAS, MIDSTREAM COMPRESSOR STATION',)"
      ]
     },
     "execution_count": 21,
     "metadata": {},
     "output_type": "execute_result"
    }
   ],
   "source": [
    "search_column('Location')"
   ]
  },
  {
   "cell_type": "code",
   "execution_count": 22,
   "metadata": {
    "collapsed": false
   },
   "outputs": [
    {
     "name": "stdout",
     "output_type": "stream",
     "text": [
      "Searching the 'Remarks' column for MAGELLAN or MIDSTREAM     and found these distinct names. (If blank, there are none):\n"
     ]
    },
    {
     "data": {
      "text/plain": [
       "()"
      ]
     },
     "execution_count": 22,
     "metadata": {},
     "output_type": "execute_result"
    }
   ],
   "source": [
    "search_column('Remarks')"
   ]
  },
  {
   "cell_type": "markdown",
   "metadata": {},
   "source": [
    "### Bulletproofing\n",
    "\n",
    "Various looks to make sure all is good"
   ]
  },
  {
   "cell_type": "code",
   "execution_count": 23,
   "metadata": {
    "collapsed": false
   },
   "outputs": [
    {
     "name": "stdout",
     "output_type": "stream",
     "text": [
      "| Unique_ID | Count |\n",
      "| --------- | ----- |\n",
      "|   117,569 |     1 |\n",
      "|   117,565 |     1 |\n",
      "|   117,622 |     1 |\n",
      "|   118,015 |     1 |\n",
      "|   117,634 |     1 |\n"
     ]
    }
   ],
   "source": [
    "# check to make sure UniqueID is unique\n",
    "pivot_UniqueID = spills.pivot('Unique_ID')\n",
    "pivot_UniqueID.limit(5).print_table()"
   ]
  },
  {
   "cell_type": "code",
   "execution_count": 24,
   "metadata": {
    "collapsed": false
   },
   "outputs": [
    {
     "name": "stdout",
     "output_type": "stream",
     "text": [
      "| Corrected_Report | 2009 | 2010 | 2011 |  2014 |  2012 |  2013 |  2015 |  2016 | 2017 |\n",
      "| ---------------- | ---- | ---- | ---- | ----- | ----- | ----- | ----- | ----- | ---- |\n",
      "|            False |  675 |  796 |  869 | 1,405 |     0 |     0 |     0 |     0 |    0 |\n",
      "|                  |    0 |    0 |    0 |     0 | 1,236 | 1,354 | 1,485 | 1,014 |   69 |\n"
     ]
    }
   ],
   "source": [
    "# checks this 'Corrected_Report' column, which is only in some files, to see if any are true.\n",
    "# None are\n",
    "spills_corrected_pivot = spills.pivot('Corrected_Report', 'MasterYear')\n",
    "spills_corrected_pivot.print_table(max_columns=None)"
   ]
  },
  {
   "cell_type": "code",
   "execution_count": null,
   "metadata": {
    "collapsed": true
   },
   "outputs": [],
   "source": []
  }
 ],
 "metadata": {
  "kernelspec": {
   "display_name": "Python 3",
   "language": "python",
   "name": "python3"
  },
  "language_info": {
   "codemirror_mode": {
    "name": "ipython",
    "version": 3
   },
   "file_extension": ".py",
   "mimetype": "text/x-python",
   "name": "python",
   "nbconvert_exporter": "python",
   "pygments_lexer": "ipython3",
   "version": "3.5.1"
  }
 },
 "nbformat": 4,
 "nbformat_minor": 0
}
