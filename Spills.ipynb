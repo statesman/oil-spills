{
 "cells": [
  {
   "cell_type": "markdown",
   "metadata": {},
   "source": [
    "# Oil spill data\n",
    "\n",
    "Downloaded from the [Railroad commission](http://www.rrc.state.tx.us/oil-gas/compliance-enforcement/h-8).\n",
    "\n",
    "The H-8 Loss Reports for crude oil, gas well liquids or associated products are available for download as an Excel compressed zip file by year. If you have questions or need assistance, contact Field Operations at 512-463-6830 or OGFOPS@rrc.texas.gov.\n",
    "\n",
    "\n",
    "Looking at these files to compare the Magellan Midstream Partners spill of July 13 in Bastrop County. It's been reported to be 87,528 gallons or is 2,084 barrel. RRC tells Andy Sevilla the data uses barrels.\n",
    "\n",
    "#### Our coverage\n",
    "- http://www.statesman.com/news/local/new-data-shows-bastrop-county-oil-spill-leaked-000-gallons/Y8YK4xM4uPE37actcJi1HP/\n",
    "- http://www.statesman.com/news/local/rolled-over-wheeler-spills-oil-onto-bastrop-roadway/PMhcfaqCXQ9U4V6FCX36WL/\n",
    "- http://www.mystatesman.com/news/opinion/commentary-what-the-bastrop-oil-spill-says-about-effective-regulation/8wkZRUj2ts2mXR8BZhDkQM/\n"
   ]
  },
  {
   "cell_type": "markdown",
   "metadata": {},
   "source": [
    "## Data prep\n",
    "\n",
    "Doing the import, setting data types, column names and stacking."
   ]
  },
  {
   "cell_type": "code",
   "execution_count": 54,
   "metadata": {
    "collapsed": false
   },
   "outputs": [],
   "source": [
    "import agate\n",
    "import agateexcel\n",
    "import re\n",
    "import warnings\n",
    "warnings.filterwarnings('ignore')"
   ]
  },
  {
   "cell_type": "code",
   "execution_count": 55,
   "metadata": {
    "collapsed": true
   },
   "outputs": [],
   "source": [
    "#bastrop data\n",
    "bastrop_barrels = 2084\n",
    "bastrop_gallons = '87528'"
   ]
  },
  {
   "cell_type": "code",
   "execution_count": 56,
   "metadata": {
    "collapsed": false
   },
   "outputs": [],
   "source": [
    "# sets column types where needed\n",
    "specified_type = {\n",
    "    'MasterYear': agate.Text(),\n",
    "    'Water': agate.Text(),\n",
    "    'WaterName': agate.Text()\n",
    "}\n",
    "# importing each file as a table\n",
    "# should be refactored as a loop\n",
    "h82009 = agate.Table.from_xlsx('raw-data/h8s-2009.xlsx', column_types=specified_type)\n",
    "h82010 = agate.Table.from_xlsx('raw-data/h8s-2010.xlsx', column_types=specified_type)\n",
    "h82011 = agate.Table.from_xlsx('raw-data/h8s-2011.xlsx', column_types=specified_type)\n",
    "h82012 = agate.Table.from_xlsx('raw-data/h8s-2012.xlsx', column_types=specified_type)\n",
    "h82013 = agate.Table.from_xlsx('raw-data/h8s-2013.xlsx', column_types=specified_type)\n",
    "h82014 = agate.Table.from_xlsx('raw-data/h8s-2014.xlsx', column_types=specified_type)\n",
    "h82015 = agate.Table.from_xlsx('raw-data/h8s-2015.xlsx', column_types=specified_type)\n",
    "h82016 = agate.Table.from_xlsx('raw-data/h8s-2016.xlsx', column_types=specified_type)\n",
    "h82017 = agate.Table.from_xlsx('raw-data/h8s-2017.xlsx', column_types=specified_type)"
   ]
  },
  {
   "cell_type": "code",
   "execution_count": 57,
   "metadata": {
    "collapsed": true
   },
   "outputs": [],
   "source": [
    "# renaming columns in some files for consistency.\n",
    "# this could/should be refacted as a loop\n",
    "\n",
    "column_names = {\n",
    "    'Form Number': 'FormNumber',\n",
    "    'Lease No': 'LeaseNumber',\n",
    "    'Gas ID': 'Gasident'\n",
    "}\n",
    "h82009r = h82009.rename(column_names)\n",
    "h82010r = h82010.rename(column_names)\n",
    "h82011r = h82011.rename(column_names)\n",
    "h82012r = h82012.rename(column_names)\n",
    "h82013r = h82013.rename(column_names)\n",
    "h82014r = h82014.rename(column_names)\n",
    "h82015r = h82015.rename(column_names)\n",
    "h82016r = h82016.rename(column_names)\n",
    "h82017r = h82017.rename(column_names)\n",
    "\n",
    "# combining into a single table\n",
    "spills = agate.Table.merge([\n",
    "        h82009r,\n",
    "        h82010r,\n",
    "        h82011r,\n",
    "        h82012r,\n",
    "        h82013r,\n",
    "        h82014r,\n",
    "        h82015r,\n",
    "        h82016r,\n",
    "        h82017r\n",
    "    ])\n",
    "# add GrossLossGal column converts barrels to gallons\n",
    "spills = spills.compute([\n",
    "    ('GrossLossGal', agate.Formula(agate.Number(), lambda r: r['GrossLoss'] * 42)),\n",
    "    ('NetLossGal', agate.Formula(agate.Number(), lambda r: r['NetLoss'] * 42)),\n",
    "    ('RecoverdGal', agate.Formula(agate.Number(), lambda r: r['Recovered'] * 42))\n",
    "])"
   ]
  },
  {
   "cell_type": "code",
   "execution_count": 58,
   "metadata": {
    "collapsed": true
   },
   "outputs": [],
   "source": [
    "# send to csv to use elsewhere\n",
    "spills.to_csv('exports/spills.csv')"
   ]
  },
  {
   "cell_type": "code",
   "execution_count": 59,
   "metadata": {
    "collapsed": false
   },
   "outputs": [
    {
     "name": "stdout",
     "output_type": "stream",
     "text": [
      "| column           | data_type |\n",
      "| ---------------- | --------- |\n",
      "| MasterYear       | Text      |\n",
      "| FormNumber       | Number    |\n",
      "| District         | Text      |\n",
      "| OperatorNumber   | Text      |\n",
      "| DateofLoss       | Date      |\n",
      "| Type_Company_Cd  | Text      |\n",
      "| County           | Text      |\n",
      "| LeaseNumber      | Number    |\n",
      "| Gasident         | Number    |\n",
      "| CommNbr          | Number    |\n",
      "| TypeLiquid       | Text      |\n",
      "| GrossLoss        | Number    |\n",
      "| Recovered        | Number    |\n",
      "| NetLoss          | Number    |\n",
      "| Facility         | Text      |\n",
      "| CauseofLoss      | Text      |\n",
      "| Remedy           | Text      |\n",
      "| Corrected_Report | Boolean   |\n",
      "| Water            | Text      |\n",
      "| WaterName        | Text      |\n",
      "| Location         | Text      |\n",
      "| Remarks          | Text      |\n",
      "| LeaseName        | Text      |\n",
      "| FieldNumber      | Text      |\n",
      "| Into_Water       | Boolean   |\n",
      "| Unique_ID        | Number    |\n",
      "| GrossLossGal     | Number    |\n",
      "| NetLossGal       | Number    |\n",
      "| RecoverdGal      | Number    |\n",
      "\n"
     ]
    }
   ],
   "source": [
    "# look at column names\n",
    "print(spills)"
   ]
  },
  {
   "cell_type": "markdown",
   "metadata": {},
   "source": [
    "## Overall spills by GrossLoss\n",
    "These are the top spills by the most lost."
   ]
  },
  {
   "cell_type": "code",
   "execution_count": 60,
   "metadata": {
    "collapsed": false
   },
   "outputs": [
    {
     "name": "stdout",
     "output_type": "stream",
     "text": [
      "Total number of records:\n",
      "8903\n"
     ]
    }
   ],
   "source": [
    "# checking number of records for spills\n",
    "print('Total number of records:\\n{}'.format(\n",
    "    spills.aggregate(agate.Count())\n",
    "))\n"
   ]
  },
  {
   "cell_type": "code",
   "execution_count": 61,
   "metadata": {
    "collapsed": false
   },
   "outputs": [
    {
     "name": "stdout",
     "output_type": "stream",
     "text": [
      "| DateofLoss | County       | GrossLoss |\n",
      "| ---------- | ------------ | --------- |\n",
      "| 2012-10-01 | HARRISON     |    31,000 |\n",
      "| 2010-02-09 | SAN PATRICIO |    25,000 |\n",
      "| 2010-08-08 | BRAZOS       |    15,000 |\n",
      "| 2010-10-11 | HOCKLEY      |    10,000 |\n",
      "| 2016-09-10 | NOLAN        |     8,600 |\n",
      "| 2011-01-27 | GRIMES       |     6,911 |\n",
      "| 2014-09-15 | HOUSTON      |     5,700 |\n",
      "| 2013-12-17 | ECTOR        |     5,000 |\n",
      "| 2017-01-30 | COLLIN       |     5,000 |\n",
      "| 2015-05-20 | STEPHENS     |     3,900 |\n",
      "| 2013-05-20 | STARR        |     3,500 |\n",
      "| 2009-06-17 | SCURRY       |     3,416 |\n",
      "| 2015-06-20 | FREESTONE    |     3,300 |\n",
      "| 2015-04-07 | TERRY        |     3,300 |\n",
      "| 2016-04-06 | LOVING       |     3,200 |\n",
      "| 2012-06-28 | DIMMIT       |     3,000 |\n",
      "| 2011-04-01 | HOWARD       |     2,583 |\n",
      "| 2012-01-30 | GAINES       |     2,572 |\n",
      "| 2015-05-11 | STEPHENS     |     2,500 |\n",
      "| 2009-01-29 | NUECES       |     2,400 |\n"
     ]
    }
   ],
   "source": [
    "# orders the spills table\n",
    "spills_ordered = spills.order_by(lambda row: row['GrossLoss'], reverse=True)\n",
    "# prints just to show the top in the list\n",
    "spills_ordered.select(['DateofLoss', 'County', 'GrossLoss']).limit(20).print_table()"
   ]
  },
  {
   "cell_type": "code",
   "execution_count": 62,
   "metadata": {
    "collapsed": false
   },
   "outputs": [
    {
     "name": "stdout",
     "output_type": "stream",
     "text": [
      "Looking at all spills by GrossLoss, the Bastrop spill ranks 24 in list of worst spills.\n"
     ]
    }
   ],
   "source": [
    "## would like to count number of spills greater than 2,084 gallons.\n",
    "spills_bigger = spills_ordered.where(lambda row: row['GrossLoss'] > bastrop_barrels)\n",
    "\n",
    "print('Looking at all spills by GrossLoss, the Bastrop spill ranks {} in list of worst spills.'.format(\n",
    "        spills_bigger.aggregate(agate.Count()) + 1\n",
    "    ))"
   ]
  },
  {
   "cell_type": "markdown",
   "metadata": {},
   "source": [
    "## Overall spills by NetLoss\n",
    "Reordering all spills by NetLoss to account for barrels recovered. I'm not sure if there was oil recovered from the Bastrop spill, though.\n"
   ]
  },
  {
   "cell_type": "code",
   "execution_count": 63,
   "metadata": {
    "collapsed": false
   },
   "outputs": [
    {
     "name": "stdout",
     "output_type": "stream",
     "text": [
      "| DateofLoss | County    | NetLoss |\n",
      "| ---------- | --------- | ------- |\n",
      "| 2012-10-01 | HARRISON  |  31,000 |\n",
      "| 2016-09-10 | NOLAN     |   6,725 |\n",
      "| 2014-09-15 | HOUSTON   |   5,698 |\n",
      "| 2013-12-17 | ECTOR     |   5,000 |\n",
      "| 2013-05-20 | STARR     |   3,500 |\n",
      "| 2011-01-27 | GRIMES    |   3,304 |\n",
      "| 2012-06-28 | DIMMIT    |   3,000 |\n",
      "| 2011-04-01 | HOWARD    |   2,583 |\n",
      "| 2015-06-15 | KENT      |   2,063 |\n",
      "| 2013-10-28 | REAGAN    |   2,000 |\n",
      "| 2009-06-17 | SCURRY    |   1,835 |\n",
      "| 2014-09-27 | CULBERSON |   1,700 |\n",
      "| 2010-08-09 | REAGAN    |   1,600 |\n",
      "| 2012-01-30 | GAINES    |   1,472 |\n",
      "| 2015-02-01 | FORT BEND |   1,452 |\n",
      "| 2013-12-14 | ECTOR     |   1,430 |\n",
      "| 2013-06-30 | UPTON     |   1,352 |\n",
      "| 2015-11-23 | ATASCOSA  |   1,213 |\n",
      "| 2015-01-07 | WEBB      |   1,130 |\n",
      "| 2014-11-04 | KLEBERG   |   1,100 |\n",
      "|        ... | ...       |     ... |\n"
     ]
    }
   ],
   "source": [
    "spills_netloss = spills.order_by(lambda row: row['NetLoss'], reverse=True)\n",
    "spills_netloss.select(['DateofLoss', 'County', 'NetLoss']).print_table()"
   ]
  },
  {
   "cell_type": "markdown",
   "metadata": {},
   "source": [
    "## Spills by 'Facility'"
   ]
  },
  {
   "cell_type": "code",
   "execution_count": 64,
   "metadata": {
    "collapsed": false
   },
   "outputs": [
    {
     "name": "stdout",
     "output_type": "stream",
     "text": [
      "| Facility             | spill_sum_gal | rec_sum_gal | net_sum_gal |\n",
      "| -------------------- | ------------- | ----------- | ----------- |\n",
      "| Tank Battery         |    24,005,436 |  12,916,512 |  11,088,924 |\n",
      "| Flow Line            |     2,620,674 |   1,384,236 |   1,236,438 |\n",
      "| Other                |     1,250,088 |     867,216 |     382,872 |\n",
      "| Valve                |       846,846 |     591,906 |     254,940 |\n",
      "| Pipe Line            |     4,036,872 |   2,505,552 |   1,531,320 |\n",
      "| Pump Station or T... |       450,618 |     363,846 |      86,772 |\n",
      "| Stuffing Box         |       121,842 |      81,942 |      39,900 |\n",
      "| Separator-Gun Bar... |       276,990 |     176,694 |     100,296 |\n",
      "| Vehicle (Truck-Ba... |        46,410 |      21,672 |      24,738 |\n"
     ]
    }
   ],
   "source": [
    "spills_group_facility = spills.group_by('Facility')\n",
    "spills_facility_table = spills_group_facility.aggregate([\n",
    "#         ('spill_cnt', agate.Count()),\n",
    "#         ('spill_sum', agate.Sum('GrossLoss')),\n",
    "        ('spill_sum_gal', agate.Sum('GrossLossGal')),\n",
    "#         ('spill_avg', agate.Mean('GrossLoss')),\n",
    "#         ('spill_med', agate.Median('GrossLoss')),\n",
    "#         ('rec_sum', agate.Sum('Recovered')),\n",
    "        ('rec_sum_gal', agate.Sum('RecoverdGal')),\n",
    "#         ('net_sum', agate.Sum('NetLoss')),\n",
    "        ('net_sum_gal', agate.Sum('NetLossGal'))\n",
    "        \n",
    "    ]\n",
    ")\n",
    "spills_facility_table.print_table()"
   ]
  },
  {
   "cell_type": "markdown",
   "metadata": {},
   "source": [
    "## Pipeline spills"
   ]
  },
  {
   "cell_type": "code",
   "execution_count": 65,
   "metadata": {
    "collapsed": false
   },
   "outputs": [
    {
     "name": "stdout",
     "output_type": "stream",
     "text": [
      "Number in spills_pipline:\n",
      "673\n"
     ]
    }
   ],
   "source": [
    "# filter to pipeline spills\n",
    "spills_pipelines = spills_ordered.where(lambda row: row['Facility'] == 'Pipe Line')\n",
    "\n",
    "pipeline_spill_count = spills_pipelines.aggregate(agate.Count())\n",
    "\n",
    "# count result\n",
    "print('Number in spills_pipline:\\n{}'.format(\n",
    "  pipeline_spill_count\n",
    "    ))\n",
    "\n"
   ]
  },
  {
   "cell_type": "markdown",
   "metadata": {},
   "source": [
    "### Pipeline spills over time"
   ]
  },
  {
   "cell_type": "code",
   "execution_count": 73,
   "metadata": {
    "collapsed": false
   },
   "outputs": [
    {
     "name": "stdout",
     "output_type": "stream",
     "text": [
      "| MasterYear | spill_sum_gal | rec_sum_gal | net_sum_gal | spill_cnt | spill_sum | ... |\n",
      "| ---------- | ------------- | ----------- | ----------- | --------- | --------- | --- |\n",
      "| 2009       |       253,512 |     154,350 |      99,162 |        66 |     6,036 | ... |\n",
      "| 2010       |       897,204 |     744,786 |     152,418 |        77 |    21,362 | ... |\n",
      "| 2011       |       580,566 |     317,688 |     262,878 |        70 |    13,823 | ... |\n",
      "| 2012       |       467,754 |     302,904 |     164,850 |       109 |    11,137 | ... |\n",
      "| 2013       |       490,308 |     294,672 |     195,636 |       107 |    11,674 | ... |\n",
      "| 2014       |       335,244 |     196,350 |     138,894 |       114 |     7,982 | ... |\n",
      "| 2015       |       298,452 |     142,086 |     156,366 |        80 |     7,106 | ... |\n",
      "| 2016       |       502,488 |     169,638 |     332,850 |        46 |    11,964 | ... |\n",
      "| 2017       |       211,344 |     183,078 |      28,266 |         4 |     5,032 | ... |\n"
     ]
    }
   ],
   "source": [
    "spills_pipeline_group_year = spills_pipelines.group_by('MasterYear')\n",
    "spills_pipeline_year_table = spills_pipeline_group_year.aggregate([\n",
    "        ('spill_sum_gal', agate.Sum('GrossLossGal')),\n",
    "        ('rec_sum_gal', agate.Sum('RecoverdGal')),\n",
    "        ('net_sum_gal', agate.Sum('NetLossGal')),\n",
    "        ('spill_cnt', agate.Count()),\n",
    "        ('spill_sum', agate.Sum('GrossLoss')),\n",
    "#         ('spill_avg', agate.Mean('GrossLoss')),\n",
    "#         ('spill_med', agate.Median('GrossLoss')),\n",
    "        ('rec_sum', agate.Sum('Recovered')),\n",
    "        ('net_sum', agate.Sum('NetLoss'))\n",
    "    ]\n",
    ")\n",
    "# send to file for later\n",
    "spills_pipeline_year_table.order_by('MasterYear').to_csv('exports/spills_pipeline_year_table.csv')\n",
    "# print table\n",
    "spills_pipeline_year_table.order_by('MasterYear').print_table()"
   ]
  },
  {
   "cell_type": "markdown",
   "metadata": {},
   "source": [
    "### Pipeline spills by year"
   ]
  },
  {
   "cell_type": "code",
   "execution_count": 74,
   "metadata": {
    "collapsed": false
   },
   "outputs": [
    {
     "name": "stdout",
     "output_type": "stream",
     "text": [
      "MasterYear spill_cnt\n",
      "2009              66 ▓░░░░░░░░░░░░░                         \n",
      "2010              77 ▓░░░░░░░░░░░░░░░                       \n",
      "2011              70 ▓░░░░░░░░░░░░░                         \n",
      "2012             109 ▓░░░░░░░░░░░░░░░░░░░░░                 \n",
      "2013             107 ▓░░░░░░░░░░░░░░░░░░░░                  \n",
      "2014             114 ▓░░░░░░░░░░░░░░░░░░░░░░                \n",
      "2015              80 ▓░░░░░░░░░░░░░░░                       \n",
      "2016              46 ▓░░░░░░░░░                             \n",
      "2017               4 ▓░                                     \n",
      "                     +---------+--------+--------+---------+\n",
      "                     0        50       100      150      200\n"
     ]
    }
   ],
   "source": [
    "spills_pipeline_year_table.order_by('MasterYear').print_bars('MasterYear', 'spill_cnt', width=60)"
   ]
  },
  {
   "cell_type": "markdown",
   "metadata": {},
   "source": [
    "### Pipeline barrels spills by year"
   ]
  },
  {
   "cell_type": "code",
   "execution_count": 75,
   "metadata": {
    "collapsed": false
   },
   "outputs": [
    {
     "name": "stdout",
     "output_type": "stream",
     "text": [
      "Barrels spilled from pipelines per year:\n",
      "\n",
      "MasterYear spill_sum\n",
      "2009           6,036 ▓░░░░░░░░                              \n",
      "2010          21,362 ▓░░░░░░░░░░░░░░░░░░░░░░░░░░░           \n",
      "2011          13,823 ▓░░░░░░░░░░░░░░░░░░                    \n",
      "2012          11,137 ▓░░░░░░░░░░░░░░                        \n",
      "2013          11,674 ▓░░░░░░░░░░░░░░░                       \n",
      "2014           7,982 ▓░░░░░░░░░░                            \n",
      "2015           7,106 ▓░░░░░░░░░                             \n",
      "2016          11,964 ▓░░░░░░░░░░░░░░░                       \n",
      "2017           5,032 ▓░░░░░░                                \n",
      "                     +---------+--------+--------+---------+\n",
      "                     0       7,500   15,000   22,500  30,000\n"
     ]
    }
   ],
   "source": [
    "print('Barrels spilled from pipelines per year:\\n')\n",
    "spills_pipeline_year_table.order_by('MasterYear').print_bars('MasterYear', 'spill_sum', width=60)"
   ]
  },
  {
   "cell_type": "code",
   "execution_count": 76,
   "metadata": {
    "collapsed": false
   },
   "outputs": [
    {
     "name": "stdout",
     "output_type": "stream",
     "text": [
      "Gallons spilled from pipelines per year:\n",
      "\n",
      "MasterYear spill_sum_gal\n",
      "2009             253,512 ▓░░░░░░░░░░                        \n",
      "2010             897,204 ▓░░░░░░░░░░░░░░░░░░░░░░░░░░░░░░░░░░\n",
      "2011             580,566 ▓░░░░░░░░░░░░░░░░░░░░░░            \n",
      "2012             467,754 ▓░░░░░░░░░░░░░░░░░░                \n",
      "2013             490,308 ▓░░░░░░░░░░░░░░░░░░░               \n",
      "2014             335,244 ▓░░░░░░░░░░░░░                     \n",
      "2015             298,452 ▓░░░░░░░░░░░                       \n",
      "2016             502,488 ▓░░░░░░░░░░░░░░░░░░░               \n",
      "2017             211,344 ▓░░░░░░░░                          \n",
      "                         +-------+--------+----------------+\n",
      "                         0    225,000  450,000       900,000\n"
     ]
    }
   ],
   "source": [
    "print('Gallons spilled from pipelines per year:\\n')\n",
    "spills_pipeline_year_table.order_by('MasterYear').print_bars('MasterYear', 'spill_sum_gal', width=60)\n"
   ]
  },
  {
   "cell_type": "markdown",
   "metadata": {},
   "source": [
    "### Top pipeline spills"
   ]
  },
  {
   "cell_type": "code",
   "execution_count": null,
   "metadata": {
    "collapsed": false
   },
   "outputs": [],
   "source": [
    "print('Top pipeline spills in gross loss barrels:\\n')\n",
    "\n",
    "# selecting and printing top records\n",
    "spills_pipelines.limit(10).select(['DateofLoss', 'County', 'GrossLoss']).print_table()\n",
    "\n",
    "## would like to count number of spills greater than 2,084 gallons.\n",
    "pipeline_spills_bigger = spills_pipelines.where(lambda row: row['GrossLoss'] > bastrop_barrels)\n",
    "\n",
    "print('\\nLooking at all PIPELINE spills by GrossLoss, the Bastrop\\\n",
    "spill ranks {} out of {} in list of worst spills.'.format(\n",
    "        pipeline_spills_bigger.aggregate(agate.Count()) + 1,\n",
    "        pipeline_spill_count\n",
    "    ))"
   ]
  },
  {
   "cell_type": "markdown",
   "metadata": {},
   "source": [
    "### Pipelines severity of spills"
   ]
  },
  {
   "cell_type": "code",
   "execution_count": null,
   "metadata": {
    "collapsed": false
   },
   "outputs": [],
   "source": [
    "# histogram bin by GrossLoss\n",
    "spills_pipeline_bins = spills_pipelines.bins('GrossLossGal', 10, 0, 10000)\n",
    "spills_pipeline_bins.print_bars('GrossLossGal', 'Count', width=60)\n",
    "# export bins for graphic\n",
    "spills_pipeline_bins.to_csv('exports/spills_pipeline_bins.csv')"
   ]
  },
  {
   "cell_type": "markdown",
   "metadata": {},
   "source": [
    "## Looking by county\n",
    "### Bastrop spills"
   ]
  },
  {
   "cell_type": "code",
   "execution_count": null,
   "metadata": {
    "collapsed": false
   },
   "outputs": [],
   "source": [
    "# list of columns to print when looking at county results.\n",
    "county_columns = [\n",
    "    'County',\n",
    "    'DateofLoss',\n",
    "    'OperatorNumber',\n",
    "    'Facility',\n",
    "    'GrossLoss',\n",
    "    'Unique_ID'\n",
    "]\n",
    "\n",
    "bastrop = spills_ordered.where(lambda row: row['County'] == 'BASTROP')\n",
    "\n",
    "bastrop.select(county_columns).print_table(max_column_width=None)"
   ]
  },
  {
   "cell_type": "markdown",
   "metadata": {},
   "source": [
    "### Travis spills"
   ]
  },
  {
   "cell_type": "code",
   "execution_count": null,
   "metadata": {
    "collapsed": false
   },
   "outputs": [],
   "source": [
    "travis = spills_ordered.where(lambda row: row['County'] == 'TRAVIS')\n",
    "\n",
    "travis.select(county_columns).print_table(max_column_width=None)"
   ]
  },
  {
   "cell_type": "markdown",
   "metadata": {},
   "source": [
    "### Galveston spills"
   ]
  },
  {
   "cell_type": "code",
   "execution_count": null,
   "metadata": {
    "collapsed": false
   },
   "outputs": [],
   "source": [
    "galveston = spills_ordered.where(lambda row: row['County'] == 'GALVESTON')\n",
    "\n",
    "galveston.select(county_columns).order_by('DateofLoss').print_table(max_column_width=None)"
   ]
  },
  {
   "cell_type": "markdown",
   "metadata": {},
   "source": [
    "### Harris spills"
   ]
  },
  {
   "cell_type": "code",
   "execution_count": null,
   "metadata": {
    "collapsed": false
   },
   "outputs": [],
   "source": [
    "harris = spills_ordered.where(lambda row: row['County'] == 'HARRIS')\n",
    "harris.select(county_columns).order_by('DateofLoss').print_table(max_column_width=None)"
   ]
  },
  {
   "cell_type": "markdown",
   "metadata": {},
   "source": [
    "### Feb 2011 spills"
   ]
  },
  {
   "cell_type": "code",
   "execution_count": null,
   "metadata": {
    "collapsed": false
   },
   "outputs": [],
   "source": [
    "# spills_2011 = spills.where(lambda row: row['DateofLoss'].year == 2011)\n",
    "# spills_2011_02 = spills_2011.where(lambda row: row['DateofLoss'].month == 2)\n",
    "# spills_2011_02.order_by('DateofLoss').select(county_columns).print_table(max_rows=None)"
   ]
  },
  {
   "cell_type": "markdown",
   "metadata": {},
   "source": [
    "## Spills per year"
   ]
  },
  {
   "cell_type": "code",
   "execution_count": null,
   "metadata": {
    "collapsed": false
   },
   "outputs": [],
   "source": [
    "spills_group_year = spills.group_by('MasterYear')\n",
    "spills_year_table = spills_group_year.aggregate([\n",
    "        ('spill_cnt', agate.Count()),\n",
    "        ('spill_sum', agate.Sum('GrossLoss')),\n",
    "        ('spill_avg', agate.Mean('GrossLoss')),\n",
    "        ('spill_med', agate.Median('GrossLoss')),\n",
    "        ('spill_sum_gal', agate.Sum('GrossLossGal'))\n",
    "    ]\n",
    ")\n",
    "spills_year_table.print_table()"
   ]
  },
  {
   "cell_type": "markdown",
   "metadata": {},
   "source": [
    "### Number of spills"
   ]
  },
  {
   "cell_type": "code",
   "execution_count": null,
   "metadata": {
    "collapsed": false
   },
   "outputs": [],
   "source": [
    "spills_year_table.print_bars('MasterYear', 'spill_cnt', width=60)"
   ]
  },
  {
   "cell_type": "markdown",
   "metadata": {},
   "source": [
    "### Barrels per year spilled"
   ]
  },
  {
   "cell_type": "code",
   "execution_count": null,
   "metadata": {
    "collapsed": false
   },
   "outputs": [],
   "source": [
    "spills_year_table.print_bars('MasterYear', 'spill_sum', width=60)"
   ]
  },
  {
   "cell_type": "code",
   "execution_count": null,
   "metadata": {
    "collapsed": true
   },
   "outputs": [],
   "source": []
  },
  {
   "cell_type": "markdown",
   "metadata": {},
   "source": [
    "## Searching for the company\n",
    "Looking for Magellan Midstream Partners or anything like them any any columns"
   ]
  },
  {
   "cell_type": "code",
   "execution_count": null,
   "metadata": {
    "collapsed": false
   },
   "outputs": [],
   "source": [
    "# this function allows me to imput a column name\n",
    "# and get distinct matchinhg results\n",
    "def search_column(column_name):\n",
    "    result = spills.where(lambda row: re.search(\n",
    "        'MAGELLAN|MIDSTREAM', str(row[column_name])\n",
    "    ))\n",
    "    \n",
    "    print('Searching the \\'{}\\' column for MAGELLAN or MIDSTREAM \\\n",
    "    and found these distinct names. (If blank, there are none):'.format(\n",
    "        column_name\n",
    "        ))\n",
    "    \n",
    "    return result.columns[column_name].values_distinct()"
   ]
  },
  {
   "cell_type": "code",
   "execution_count": null,
   "metadata": {
    "collapsed": false
   },
   "outputs": [],
   "source": [
    "search_column('OperatorNumber')"
   ]
  },
  {
   "cell_type": "code",
   "execution_count": null,
   "metadata": {
    "collapsed": false
   },
   "outputs": [],
   "source": [
    "search_column('LeaseName')"
   ]
  },
  {
   "cell_type": "code",
   "execution_count": null,
   "metadata": {
    "collapsed": false
   },
   "outputs": [],
   "source": [
    "search_column('FieldNumber')"
   ]
  },
  {
   "cell_type": "code",
   "execution_count": null,
   "metadata": {
    "collapsed": false
   },
   "outputs": [],
   "source": [
    "search_column('Location')"
   ]
  },
  {
   "cell_type": "code",
   "execution_count": null,
   "metadata": {
    "collapsed": false
   },
   "outputs": [],
   "source": [
    "search_column('Remarks')"
   ]
  },
  {
   "cell_type": "markdown",
   "metadata": {},
   "source": [
    "### Bulletproofing\n",
    "\n",
    "Various looks to make sure all is good"
   ]
  },
  {
   "cell_type": "code",
   "execution_count": null,
   "metadata": {
    "collapsed": false
   },
   "outputs": [],
   "source": [
    "# check to make sure UniqueID is unique\n",
    "pivot_UniqueID = spills.pivot('Unique_ID')\n",
    "pivot_UniqueID.limit(5).print_table()"
   ]
  },
  {
   "cell_type": "code",
   "execution_count": null,
   "metadata": {
    "collapsed": false
   },
   "outputs": [],
   "source": [
    "# checks this 'Corrected_Report' column, which is only in some files, to see if any are true.\n",
    "# None are\n",
    "spills_corrected_pivot = spills.pivot('Corrected_Report', 'MasterYear')\n",
    "spills_corrected_pivot.print_table(max_columns=None)"
   ]
  },
  {
   "cell_type": "code",
   "execution_count": null,
   "metadata": {
    "collapsed": true
   },
   "outputs": [],
   "source": []
  }
 ],
 "metadata": {
  "kernelspec": {
   "display_name": "Python 3",
   "language": "python",
   "name": "python3"
  },
  "language_info": {
   "codemirror_mode": {
    "name": "ipython",
    "version": 3
   },
   "file_extension": ".py",
   "mimetype": "text/x-python",
   "name": "python",
   "nbconvert_exporter": "python",
   "pygments_lexer": "ipython3",
   "version": "3.5.1"
  }
 },
 "nbformat": 4,
 "nbformat_minor": 0
}
