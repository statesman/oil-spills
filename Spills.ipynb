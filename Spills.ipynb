{
 "cells": [
  {
   "cell_type": "markdown",
   "metadata": {},
   "source": [
    "# Oil spill data\n",
    "\n",
    "Downloaded from the [Railroad commission](http://www.rrc.state.tx.us/oil-gas/compliance-enforcement/h-8).\n",
    "\n",
    "The H-8 Loss Reports for crude oil, gas well liquids or associated products are available for download as an Excel compressed zip file by year. If you have questions or need assistance, contact Field Operations at 512-463-6830 or OGFOPS@rrc.texas.gov.\n",
    "\n",
    "\n",
    "Looking at these files to compare the Magellan Midstream Partners spill of July 13 in Bastrop County. It's been reported to be 87,000 gallons. RRC tells Andy Sevilla the data uses barrels, not gallons, and a barrel is 42 gallons. So, 87,000 gallons is 2071 barrels.\n"
   ]
  },
  {
   "cell_type": "markdown",
   "metadata": {},
   "source": [
    "## Data prep\n",
    "\n",
    "Doing the import, setting data types, column names and stacking."
   ]
  },
  {
   "cell_type": "code",
   "execution_count": 19,
   "metadata": {
    "collapsed": false
   },
   "outputs": [],
   "source": [
    "import agate\n",
    "import agateexcel"
   ]
  },
  {
   "cell_type": "code",
   "execution_count": 20,
   "metadata": {
    "collapsed": false
   },
   "outputs": [],
   "source": [
    "# sets column types where needed\n",
    "specified_type = {\n",
    "    'MasterYear': agate.Text(),\n",
    "    'Water': agate.Text(),\n",
    "    'WaterName': agate.Text()\n",
    "}\n",
    "# importing each file as a table\n",
    "# should be refactored as a loop\n",
    "h82009 = agate.Table.from_xlsx('raw-data/h8s-2009.xlsx', column_types=specified_type)\n",
    "h82010 = agate.Table.from_xlsx('raw-data/h8s-2010.xlsx', column_types=specified_type)\n",
    "h82011 = agate.Table.from_xlsx('raw-data/h8s-2011.xlsx', column_types=specified_type)\n",
    "h82012 = agate.Table.from_xlsx('raw-data/h8s-2012.xlsx', column_types=specified_type)\n",
    "h82013 = agate.Table.from_xlsx('raw-data/h8s-2013.xlsx', column_types=specified_type)\n",
    "h82014 = agate.Table.from_xlsx('raw-data/h8s-2014.xlsx', column_types=specified_type)\n",
    "h82015 = agate.Table.from_xlsx('raw-data/h8s-2015.xlsx', column_types=specified_type)\n",
    "h82016 = agate.Table.from_xlsx('raw-data/h8s-2016.xlsx', column_types=specified_type)\n",
    "h82017 = agate.Table.from_xlsx('raw-data/h8s-2017.xlsx', column_types=specified_type)"
   ]
  },
  {
   "cell_type": "code",
   "execution_count": 21,
   "metadata": {
    "collapsed": true
   },
   "outputs": [],
   "source": [
    "# renaming columns in some files for consistency.\n",
    "# this could/should be refacted as a loop\n",
    "\n",
    "column_names = {\n",
    "    'Form Number': 'FormNumber',\n",
    "    'Lease No': 'LeaseNumber',\n",
    "    'Gas ID': 'Gasident'\n",
    "}\n",
    "h82009r = h82009.rename(column_names)\n",
    "h82010r = h82010.rename(column_names)\n",
    "h82011r = h82011.rename(column_names)\n",
    "h82012r = h82012.rename(column_names)\n",
    "h82013r = h82013.rename(column_names)\n",
    "h82014r = h82014.rename(column_names)\n",
    "h82015r = h82015.rename(column_names)\n",
    "h82016r = h82016.rename(column_names)\n",
    "h82017r = h82017.rename(column_names)"
   ]
  },
  {
   "cell_type": "code",
   "execution_count": 22,
   "metadata": {
    "collapsed": false
   },
   "outputs": [],
   "source": [
    "# combining into a single table\n",
    "spills = agate.Table.merge([\n",
    "        h82009r,\n",
    "        h82010r,\n",
    "        h82011r,\n",
    "        h82012r,\n",
    "        h82013r,\n",
    "        h82014r,\n",
    "        h82015r,\n",
    "        h82016r,\n",
    "        h82017r\n",
    "    ])\n",
    "\n",
    "# send to csv to use elsewhere\n",
    "spills.to_csv('exports/spills.csv')"
   ]
  },
  {
   "cell_type": "code",
   "execution_count": 23,
   "metadata": {
    "collapsed": false
   },
   "outputs": [
    {
     "name": "stdout",
     "output_type": "stream",
     "text": [
      "| column           | data_type |\n",
      "| ---------------- | --------- |\n",
      "| MasterYear       | Text      |\n",
      "| FormNumber       | Number    |\n",
      "| District         | Text      |\n",
      "| OperatorNumber   | Text      |\n",
      "| DateofLoss       | Date      |\n",
      "| Type_Company_Cd  | Text      |\n",
      "| County           | Text      |\n",
      "| LeaseNumber      | Number    |\n",
      "| Gasident         | Number    |\n",
      "| CommNbr          | Number    |\n",
      "| TypeLiquid       | Text      |\n",
      "| GrossLoss        | Number    |\n",
      "| Recovered        | Number    |\n",
      "| NetLoss          | Number    |\n",
      "| Facility         | Text      |\n",
      "| CauseofLoss      | Text      |\n",
      "| Remedy           | Text      |\n",
      "| Corrected_Report | Boolean   |\n",
      "| Water            | Text      |\n",
      "| WaterName        | Text      |\n",
      "| Location         | Text      |\n",
      "| Remarks          | Text      |\n",
      "| LeaseName        | Text      |\n",
      "| FieldNumber      | Text      |\n",
      "| Into_Water       | Boolean   |\n",
      "| Unique_ID        | Number    |\n",
      "\n"
     ]
    }
   ],
   "source": [
    "# look at column names\n",
    "print(spills)"
   ]
  },
  {
   "cell_type": "markdown",
   "metadata": {},
   "source": [
    "## Overall spills by grossLoss"
   ]
  },
  {
   "cell_type": "code",
   "execution_count": 24,
   "metadata": {
    "collapsed": false
   },
   "outputs": [
    {
     "name": "stdout",
     "output_type": "stream",
     "text": [
      "| DateofLoss | County       | GrossLoss |\n",
      "| ---------- | ------------ | --------- |\n",
      "| 2012-10-01 | HARRISON     |    31,000 |\n",
      "| 2010-02-09 | SAN PATRICIO |    25,000 |\n",
      "| 2010-08-08 | BRAZOS       |    15,000 |\n",
      "| 2010-10-11 | HOCKLEY      |    10,000 |\n",
      "| 2016-09-10 | NOLAN        |     8,600 |\n",
      "| 2011-01-27 | GRIMES       |     6,911 |\n",
      "| 2014-09-15 | HOUSTON      |     5,700 |\n",
      "| 2013-12-17 | ECTOR        |     5,000 |\n",
      "| 2017-01-30 | COLLIN       |     5,000 |\n",
      "| 2015-05-20 | STEPHENS     |     3,900 |\n"
     ]
    }
   ],
   "source": [
    "# orders the spills table\n",
    "spills_ordered = spills.order_by(lambda row: row['GrossLoss'], reverse=True)\n",
    "# prints just to show the top in the list\n",
    "spills_ordered.select(['DateofLoss', 'County', 'GrossLoss']).limit(10).print_table()"
   ]
  },
  {
   "cell_type": "markdown",
   "metadata": {},
   "source": [
    "Looking at this table above, it seems the Bastrop spill is the 10th worse since 2009, according to the RRC data. It would also make it the worst in Bastrop County of any type."
   ]
  },
  {
   "cell_type": "markdown",
   "metadata": {},
   "source": [
    "## Spills by 'Facility'"
   ]
  },
  {
   "cell_type": "code",
   "execution_count": 25,
   "metadata": {
    "collapsed": false
   },
   "outputs": [
    {
     "name": "stdout",
     "output_type": "stream",
     "text": [
      "| Facility                     | Count |\n",
      "| ---------------------------- | ----- |\n",
      "| Tank Battery                 | 6,275 |\n",
      "| Flow Line                    |   919 |\n",
      "| Other                        |   362 |\n",
      "| Valve                        |   354 |\n",
      "| Pipe Line                    |   673 |\n",
      "| Pump Station or Terminal     |    87 |\n",
      "| Stuffing Box                 |   104 |\n",
      "| Separator-Gun Barrel-Treater |   108 |\n",
      "| Vehicle (Truck-Barge, Etc)   |    21 |\n"
     ]
    }
   ],
   "source": [
    "# counting records by facility\n",
    "pivot_facility = spills.pivot('Facility')\n",
    "pivot_facility.print_table(max_column_width=None)"
   ]
  },
  {
   "cell_type": "markdown",
   "metadata": {},
   "source": [
    "## Pipeline spills"
   ]
  },
  {
   "cell_type": "code",
   "execution_count": 26,
   "metadata": {
    "collapsed": false
   },
   "outputs": [
    {
     "name": "stdout",
     "output_type": "stream",
     "text": [
      "Number in spills_pipline:\n",
      "673\n"
     ]
    }
   ],
   "source": [
    "# filter to pipeline spills\n",
    "spills_pipelines = spills_ordered.where(lambda row: row['Facility'] == 'Pipe Line')\n",
    "\n",
    "# count result\n",
    "print('Number in spills_pipline:\\n{}'.format(\n",
    "   spills_pipelines.aggregate(agate.Count())\n",
    "    ))\n"
   ]
  },
  {
   "cell_type": "code",
   "execution_count": 27,
   "metadata": {
    "collapsed": false
   },
   "outputs": [
    {
     "name": "stdout",
     "output_type": "stream",
     "text": [
      "Top pipeline spills in gross loss barrels:\n",
      "\n",
      "| DateofLoss | County    | GrossLoss |\n",
      "| ---------- | --------- | --------- |\n",
      "| 2010-08-08 | BRAZOS    |    15,000 |\n",
      "| 2016-09-10 | NOLAN     |     8,600 |\n",
      "| 2011-01-27 | GRIMES    |     6,911 |\n",
      "| 2017-01-30 | COLLIN    |     5,000 |\n",
      "| 2012-01-30 | GAINES    |     2,572 |\n",
      "| 2011-11-15 | GALVESTON |     2,290 |\n",
      "| 2015-11-23 | ATASCOSA  |     2,000 |\n",
      "| 2009-07-23 | MIDLAND   |     1,912 |\n",
      "| 2010-08-09 | REAGAN    |     1,600 |\n",
      "| 2014-09-30 | JACK      |     1,034 |\n",
      "\n",
      "At 2,071 barrels (87,000 gallons) the Bastrop spill ranks 5th worst since 2009.\n"
     ]
    }
   ],
   "source": [
    "print('Top pipeline spills in gross loss barrels:\\n')\n",
    "\n",
    "# selecting and printing top records\n",
    "spills_pipelines.limit(10).select(['DateofLoss', 'County', 'GrossLoss']).print_table()\n",
    "\n",
    "print('\\nAt 2,071 barrels (87,000 gallons) the Bastrop spill ranks 5th worst since 2009.')"
   ]
  },
  {
   "cell_type": "markdown",
   "metadata": {},
   "source": [
    "## Bastrop spills listed"
   ]
  },
  {
   "cell_type": "code",
   "execution_count": 35,
   "metadata": {
    "collapsed": false
   },
   "outputs": [
    {
     "name": "stdout",
     "output_type": "stream",
     "text": [
      "| Unique_ID | DateofLoss | OperatorNumber         | Facility     | GrossLoss |\n",
      "| --------- | ---------- | ---------------------- | ------------ | --------- |\n",
      "|    60,943 | 2012-10-17 | CHALKER OPERATING INC. | Tank Battery |        40 |\n",
      "|    60,944 | 2012-09-02 | PLAINS PIPELINE L.P.   | Pipe Line    |         8 |\n"
     ]
    }
   ],
   "source": [
    "bastrop = spills_ordered.where(lambda row: row['County'] == 'BASTROP')\n",
    "\n",
    "columns = [\n",
    "    'Unique_ID',\n",
    "    'DateofLoss',\n",
    "    'OperatorNumber',\n",
    "    'Facility',\n",
    "    'GrossLoss'\n",
    "]\n",
    "bastrop.select(columns).print_table(max_column_width=None)"
   ]
  },
  {
   "cell_type": "markdown",
   "metadata": {},
   "source": [
    "### Bulletproofing\n",
    "\n",
    "Various looks to make sure all is good"
   ]
  },
  {
   "cell_type": "code",
   "execution_count": 10,
   "metadata": {
    "collapsed": false
   },
   "outputs": [
    {
     "name": "stdout",
     "output_type": "stream",
     "text": [
      "Number of records:\n",
      "8903\n"
     ]
    }
   ],
   "source": [
    "# checking number of records for spills\n",
    "print('Number of records:\\n{}'.format(\n",
    "    spills.aggregate(agate.Count())\n",
    "))\n"
   ]
  },
  {
   "cell_type": "code",
   "execution_count": 11,
   "metadata": {
    "collapsed": false
   },
   "outputs": [
    {
     "name": "stdout",
     "output_type": "stream",
     "text": [
      "| Unique_ID | Count |\n",
      "| --------- | ----- |\n",
      "|   117,569 |     1 |\n",
      "|   117,565 |     1 |\n",
      "|   117,622 |     1 |\n",
      "|   118,015 |     1 |\n",
      "|   117,634 |     1 |\n"
     ]
    }
   ],
   "source": [
    "# check to make sure UniqueID is unique\n",
    "pivot_UniqueID = spills.pivot('Unique_ID')\n",
    "pivot_UniqueID.limit(5).print_table()"
   ]
  },
  {
   "cell_type": "code",
   "execution_count": null,
   "metadata": {
    "collapsed": true
   },
   "outputs": [],
   "source": []
  }
 ],
 "metadata": {
  "kernelspec": {
   "display_name": "Python 3",
   "language": "python",
   "name": "python3"
  },
  "language_info": {
   "codemirror_mode": {
    "name": "ipython",
    "version": 3
   },
   "file_extension": ".py",
   "mimetype": "text/x-python",
   "name": "python",
   "nbconvert_exporter": "python",
   "pygments_lexer": "ipython3",
   "version": "3.5.1"
  }
 },
 "nbformat": 4,
 "nbformat_minor": 0
}
